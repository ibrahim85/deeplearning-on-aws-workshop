{
 "cells": [
  {
   "cell_type": "markdown",
   "metadata": {},
   "source": [
    "## Deep Learning on AWS Workshop\n",
    "\n",
    "1. 인공지능 소개\n",
    "2. Deep Learning 101\n",
    "3. AWS 클라우드에서 Deep Learning 환경 만들기\n",
    "4. Deep Learning 프레임워크 101\n",
    " - Apache MXNet\n",
    "    - [MXNet NDArray](./labs/MXNet-NDArray.ipynb)\n",
    "    - [MXNet Symbol](./labs/MXNet-Symbol.ipynb)\n",
    "    - [MXNet Module](./labs/MXNet-Module.ipynb)\n",
    "5. Deep Learning Part 1 - Linear Regression ë° Classification\n",
    "   - [MXNet Linear regression](./labs/MXNet-Linear_Regression.ipynb)\n",
    "   - [TensorFlow Linear regression](./labs/TensorFlow-Linear_regression.ipynb)\n",
    "   - [MXNet Multiclass regression](./labs/MXNet-Multi_Class_regression.ipynb)\n",
    "6. Deep Learning Part 2 - Convolutional Neural Network (CNN)\n",
    " - [MXNet을 이용한 MNIST 분류하는 CNN](./labs/CNN-mnist.ipynb)\n",
    " - [MXNet의 Gluon을 이용한 CNN](./labs/CNN-mnist-gluon.ipynb)\n",
    "7. Deep Learning Part 3 - Recurrent Neural Network (RNN)\n",
    " - [TensorFlow를 이용한 SIN 함수 예측](./labs/RNN_LSTM_sin_prediction.ipynb)\n",
    " - [LSTM을 이용한 주가 예측](./labs/RNN_LSTM_StockPricePredcition.ipynb)\n"
   ]
  },
  {
   "cell_type": "code",
   "execution_count": null,
   "metadata": {
    "collapsed": true
   },
   "outputs": [],
   "source": []
  }
 ],
 "metadata": {
  "kernelspec": {
   "display_name": "Python 3",
   "language": "python",
   "name": "python3"
  },
  "language_info": {
   "codemirror_mode": {
    "name": "ipython",
    "version": 3
   },
   "file_extension": ".py",
   "mimetype": "text/x-python",
   "name": "python",
   "nbconvert_exporter": "python",
   "pygments_lexer": "ipython3",
   "version": "3.5.2"
  }
 },
 "nbformat": 4,
 "nbformat_minor": 2
}
