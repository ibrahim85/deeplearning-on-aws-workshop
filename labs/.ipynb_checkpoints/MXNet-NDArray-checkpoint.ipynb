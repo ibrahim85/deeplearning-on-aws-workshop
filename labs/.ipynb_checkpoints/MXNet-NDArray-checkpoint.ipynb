{
 "cells": [
  {
   "cell_type": "markdown",
   "metadata": {
    "deletable": true,
    "editable": true
   },
   "source": [
    "# Apache MXNet Basic 실습\n",
    "## NDArray - Imperative tensor operations on CPU/GPU\n",
    "\n",
    "Each NDArray supports some important attributes that you'll often want to query:\n",
    "\n",
    "- **ndarray.shape**: 행열의 차원값\n",
    "- **ndarray.dtype**: 원소의 데이터 타입 (numpy 타입 객체)\n",
    "- **ndarray.size**: 행열의 총 원소 개수\n",
    "- **ndarray.context**: 형열이 저장된 디바이스 (CPU, GPU)"
   ]
  },
  {
   "cell_type": "markdown",
   "metadata": {
    "deletable": true,
    "editable": true
   },
   "source": [
    "### <font color='red'>행렬 생성</font>\n",
    "\n",
    "There are a few different ways to create an `NDArray`.\n",
    "\n",
    "* 일반적인 Python 리스트나 tuple을 사용해서 array 함수를 이용하는 방법"
   ]
  },
  {
   "cell_type": "code",
   "execution_count": null,
   "metadata": {
    "collapsed": false,
    "deletable": true,
    "editable": true
   },
   "outputs": [],
   "source": [
    "import mxnet as mx\n",
    "\n",
    "# create a 1-dimensional array with a python list\n",
    "a = mx.nd.array([1,2,3])\n",
    "\n",
    "# create a 2-dimensional array with a nested python list\n",
    "b = mx.nd.array([[1,2,3], [2,3,4]])\n",
    "\n",
    "{'a.shape':a.shape, 'b.shape':b.shape}"
   ]
  },
  {
   "cell_type": "markdown",
   "metadata": {
    "deletable": true,
    "editable": true
   },
   "source": [
    "* `numpy.ndarray` 객체를 이용하는 방법"
   ]
  },
  {
   "cell_type": "code",
   "execution_count": null,
   "metadata": {
    "collapsed": false,
    "deletable": true,
    "editable": true
   },
   "outputs": [],
   "source": [
    "import numpy as np\n",
    "import math\n",
    "\n",
    "c = np.arange(15).reshape(3,5)\n",
    "# create a 2-dimensional array from a numpy.ndarray object\n",
    "a = mx.nd.array(c)\n",
    "{'a.shape':a.shape}"
   ]
  },
  {
   "cell_type": "markdown",
   "metadata": {
    "deletable": true,
    "editable": true
   },
   "source": [
    "형렬 값들에 대한 데이터 형태를 `dtype` 옵션으로 지정할 수 있고, 데이터 타입은 numpy 타입을 사용함. 기본은 `float32`."
   ]
  },
  {
   "cell_type": "code",
   "execution_count": null,
   "metadata": {
    "collapsed": false,
    "deletable": true,
    "editable": true
   },
   "outputs": [],
   "source": [
    "# float32 is used in default\n",
    "a = mx.nd.array([1,2,3])\n",
    "\n",
    "# create an int32 array\n",
    "b = mx.nd.array([1,2,3], dtype=np.int32)\n",
    "\n",
    "# create a 16-bit float array\n",
    "c = mx.nd.array([1.2, 2.3], dtype=np.float16)\n",
    "\n",
    "(a.dtype, b.dtype, c.dtype)"
   ]
  },
  {
   "cell_type": "markdown",
   "metadata": {
    "deletable": true,
    "editable": true
   },
   "source": [
    "> <font color='red'>문제</font> 1 x 28 x 28 배열을 784 x 1 배열로 바꿔보세요"
   ]
  },
  {
   "cell_type": "code",
   "execution_count": null,
   "metadata": {
    "collapsed": false,
    "deletable": true,
    "editable": true
   },
   "outputs": [],
   "source": [
    "mnist_3d_image = np.ndarray([1,28,28])\n",
    "mnist_2d_image = mnist_3d_image.reshape(__여기를 채워주세요__)\n",
    "mnist_2d_image.shape"
   ]
  },
  {
   "cell_type": "markdown",
   "metadata": {
    "deletable": true,
    "editable": true
   },
   "source": [
    "원하는 행렬의 크기를 아는 경우 모든 값을 0, 1, 특정 값, 또는 임의의 값으로 채워넣는 것도 가능함"
   ]
  },
  {
   "cell_type": "code",
   "execution_count": null,
   "metadata": {
    "collapsed": false,
    "deletable": true,
    "editable": true
   },
   "outputs": [],
   "source": [
    "# create a 2-dimensional array full of zeros with shape (2,3)\n",
    "a = mx.nd.zeros((2,3))\n",
    "\n",
    "# create a same shape array full of ones\n",
    "b = mx.nd.ones((2,3))\n",
    "\n",
    "# create a same shape array with all elements set to 7\n",
    "c = mx.nd.full((2,3), 7)\n",
    "\n",
    "# create a same shape whose initial content is random and\n",
    "# depends on the state of the memory\n",
    "d = mx.nd.empty((2,3))"
   ]
  },
  {
   "cell_type": "markdown",
   "metadata": {
    "deletable": true,
    "editable": true
   },
   "source": [
    "### <font color='red'>형렬 출력하기</font>\n",
    "\n",
    "NDArray 행렬의 내용을 보기 위해서는, `asnumpy` 함수를 사용해서, `numpy.ndarray` 형태로 변환이 필요함. Numpy는 다음과 같은 규칙으로 행렬을 표현함:\n",
    "\n",
    "- 마지막 axis가 왼쪽에서부터 오른쪽으로 축력됨\n",
    "- 마지막에서 두번째 axis는 위에서부터 아래로 출력됨\n",
    "- 다른 axis들은 위에서부터 아래로 출력되고, 각 slice는 빈줄로 구분됨"
   ]
  },
  {
   "cell_type": "code",
   "execution_count": null,
   "metadata": {
    "collapsed": false,
    "deletable": true,
    "editable": true
   },
   "outputs": [],
   "source": [
    "b = mx.nd.arange(18).reshape((3,2,3))\n",
    "b.asnumpy()"
   ]
  },
  {
   "cell_type": "markdown",
   "metadata": {
    "deletable": true,
    "editable": true
   },
   "source": [
    "### <font color='red'>기본 연산</font>\n",
    "\n",
    "NDArray들에 적용되는 표준 산술 연산자들은 element-wise하게 적용됨"
   ]
  },
  {
   "cell_type": "code",
   "execution_count": null,
   "metadata": {
    "collapsed": false,
    "deletable": true,
    "editable": true
   },
   "outputs": [],
   "source": [
    "a = mx.nd.ones((2,3))\n",
    "b = mx.nd.ones((2,3))\n",
    "# elementwise plus\n",
    "c = a + b\n",
    "# elementwise minus\n",
    "d = - c\n",
    "# elementwise pow and sin, and then transpose\n",
    "e = mx.nd.sin(c**2).T\n",
    "# elementwise max\n",
    "f = mx.nd.maximum(a, c)\n",
    "f.asnumpy()"
   ]
  },
  {
   "cell_type": "markdown",
   "metadata": {
    "deletable": true,
    "editable": true
   },
   "source": [
    "행렬 곱하기는 `dot` 함수를 사용"
   ]
  },
  {
   "cell_type": "code",
   "execution_count": null,
   "metadata": {
    "collapsed": true,
    "deletable": true,
    "editable": true
   },
   "outputs": [],
   "source": [
    "a = mx.nd.arange(4).reshape((2,2))\n",
    "b = a * a\n",
    "c = mx.nd.dot(a,a)\n",
    "print(\"b: %s, \\n c: %s\" % (b.asnumpy(), c.asnumpy()))"
   ]
  },
  {
   "cell_type": "markdown",
   "metadata": {
    "deletable": true,
    "editable": true
   },
   "source": [
    "`+=` 또는 `*=`와 같은 할당 연산자를 사용하는 경우 새로운 형렬이 생성되지 않아 메모리를 절약할 수 있음"
   ]
  },
  {
   "cell_type": "code",
   "execution_count": null,
   "metadata": {
    "collapsed": true,
    "deletable": true,
    "editable": true
   },
   "outputs": [],
   "source": [
    "a = mx.nd.ones((2,2))\n",
    "b = mx.nd.ones(a.shape)\n",
    "b += a\n",
    "b.asnumpy()"
   ]
  },
  {
   "cell_type": "markdown",
   "metadata": {
    "deletable": true,
    "editable": true
   },
   "source": [
    "### Indexing과 Slicing\n",
    "\n",
    "slide 연산자 `[]`는 첫번째 axis (axis 0)에 적용됨"
   ]
  },
  {
   "cell_type": "code",
   "execution_count": null,
   "metadata": {
    "collapsed": false,
    "deletable": true,
    "editable": true
   },
   "outputs": [],
   "source": [
    "a = mx.nd.array(np.arange(6).reshape(3,2))\n",
    "a[1:2] = 1\n",
    "a[:].asnumpy()"
   ]
  },
  {
   "cell_type": "markdown",
   "metadata": {
    "deletable": true,
    "editable": true
   },
   "source": [
    "`slice_axis` 함수를 사용하면 특정 axis를 기준으로 slice할 수 있음"
   ]
  },
  {
   "cell_type": "code",
   "execution_count": null,
   "metadata": {
    "collapsed": false,
    "deletable": true,
    "editable": true
   },
   "outputs": [],
   "source": [
    "d = mx.nd.slice_axis(a, axis=1, begin=1, end=2)\n",
    "d.asnumpy()"
   ]
  },
  {
   "cell_type": "markdown",
   "metadata": {
    "deletable": true,
    "editable": true
   },
   "source": [
    "### Shape 변경\n",
    "\n",
    "Using `reshape` 함수를 이용해서 형렬의 모양을 변경할 수 있음 (단, size가 동일해야함)"
   ]
  },
  {
   "cell_type": "code",
   "execution_count": null,
   "metadata": {
    "collapsed": true,
    "deletable": true,
    "editable": true
   },
   "outputs": [],
   "source": [
    "a = mx.nd.array(np.arange(24))\n",
    "b = a.reshape((2,3,4))\n",
    "b.asnumpy()"
   ]
  },
  {
   "cell_type": "markdown",
   "metadata": {
    "deletable": true,
    "editable": true
   },
   "source": [
    "`concat` 함수는 여러 행렬을 첫번째 axis 기준으로 쌓아줌. 행렬들은 다른 axis들을 기준으로 동일한 모양이어야 함"
   ]
  },
  {
   "cell_type": "code",
   "execution_count": null,
   "metadata": {
    "collapsed": true,
    "deletable": true,
    "editable": true
   },
   "outputs": [],
   "source": [
    "a = mx.nd.ones((2,3))\n",
    "b = mx.nd.ones((2,3))*2\n",
    "c = mx.nd.concat(a,b)\n",
    "c.asnumpy()"
   ]
  },
  {
   "cell_type": "markdown",
   "metadata": {
    "deletable": true,
    "editable": true
   },
   "source": [
    "### Reduce\n",
    "\n",
    "`sum` 또는 `mean` 함수는 스칼라값을 반환함"
   ]
  },
  {
   "cell_type": "code",
   "execution_count": null,
   "metadata": {
    "collapsed": false,
    "deletable": true,
    "editable": true
   },
   "outputs": [],
   "source": [
    "a = mx.nd.ones((2,3))\n",
    "b = mx.nd.sum(a)\n",
    "b.asnumpy()"
   ]
  },
  {
   "cell_type": "markdown",
   "metadata": {
    "deletable": true,
    "editable": true
   },
   "source": [
    "특정 axis를 대상으로 reduce할 수도 있음. 아래 예는 두번째 axis (axis 1 또는 열)에 대한 합을 구하는 코드임"
   ]
  },
  {
   "cell_type": "code",
   "execution_count": null,
   "metadata": {
    "collapsed": false,
    "deletable": true,
    "editable": true
   },
   "outputs": [],
   "source": [
    "c = mx.nd.sum_axis(a, axis=1)\n",
    "c.asnumpy()"
   ]
  },
  {
   "cell_type": "markdown",
   "metadata": {
    "deletable": true,
    "editable": true
   },
   "source": [
    "### <font color='red'>Broadcast</font>\n",
    "\n",
    "행렬 broadcast도 지원함. 길이가 1인 축을 복제해서 새로운 행렬을 만들어줌. 예를 들어 아래 코드는 두번째 axis (axis 1 또는 열)을 따라서 broadcat 해줌."
   ]
  },
  {
   "cell_type": "code",
   "execution_count": null,
   "metadata": {
    "collapsed": false,
    "deletable": true,
    "editable": true
   },
   "outputs": [],
   "source": [
    "a = mx.nd.array(np.arange(6).reshape(6,1))\n",
    "print(a.asnumpy())\n",
    "b = a.broadcast_to((6,4))  #\n",
    "print(b.asnumpy())"
   ]
  },
  {
   "cell_type": "markdown",
   "metadata": {
    "deletable": true,
    "editable": true
   },
   "source": [
    "여러 axis를 따라서 broadcast하는 것도 가능함. 아래 코드는 두번째, 세번째 axis를 따라서 broadcast를 수행하고 있음"
   ]
  },
  {
   "cell_type": "code",
   "execution_count": null,
   "metadata": {
    "collapsed": false,
    "deletable": true,
    "editable": true
   },
   "outputs": [],
   "source": [
    "c = a.reshape((2,1,1,3))\n",
    "print(\"before broadcast\")\n",
    "print(c.asnumpy())\n",
    "d = c.broadcast_to((2,2,2,3))\n",
    "print(\"\\nafter broadcast\")\n",
    "print(d.asnumpy())"
   ]
  },
  {
   "cell_type": "markdown",
   "metadata": {
    "deletable": true,
    "editable": true
   },
   "source": [
    "서로 다른 shape의 행렬에 대한 특정 연산(예, `*` 및 `+`)을 수행하는 경우 자동으로 broadcast가 적용됨"
   ]
  },
  {
   "cell_type": "code",
   "execution_count": null,
   "metadata": {
    "collapsed": false,
    "deletable": true,
    "editable": true
   },
   "outputs": [],
   "source": [
    "a = mx.nd.ones((3,2))\n",
    "b = mx.nd.ones((1,2))\n",
    "c = a + b\n",
    "c.asnumpy()"
   ]
  },
  {
   "cell_type": "markdown",
   "metadata": {
    "deletable": true,
    "editable": true
   },
   "source": [
    "### Copies\n",
    "\n",
    "NDArray를 다른 python 변수에 할당하는 경우, 동일한 NDArray에 대한 reference가 복사됨. 하지만, 원래 값에 대한 변경을 원하지 않는 경우 데이터를 복사하는 것이 가능함"
   ]
  },
  {
   "cell_type": "code",
   "execution_count": null,
   "metadata": {
    "collapsed": false,
    "deletable": true,
    "editable": true
   },
   "outputs": [],
   "source": [
    "a = mx.nd.ones((2,2))\n",
    "b = a\n",
    "b is a # will be True"
   ]
  },
  {
   "cell_type": "markdown",
   "metadata": {
    "deletable": true,
    "editable": true
   },
   "source": [
    "`copy` 함수는 새로운 메모리에 모든 값을 복사함"
   ]
  },
  {
   "cell_type": "code",
   "execution_count": null,
   "metadata": {
    "collapsed": true,
    "deletable": true,
    "editable": true
   },
   "outputs": [],
   "source": [
    "b = a.copy()\n",
    "b is a  # will be False"
   ]
  },
  {
   "cell_type": "markdown",
   "metadata": {
    "deletable": true,
    "editable": true
   },
   "source": [
    "위 예제는 새로운 NDArray를 생성해서 *b* 변수에 할당하고 있음. 하지만, 새로운 메모리 할당을 원하지 않는 경우는, `copyto` 함수나 slide 연산자 `[]`를 사용함"
   ]
  },
  {
   "cell_type": "code",
   "execution_count": null,
   "metadata": {
    "collapsed": true,
    "deletable": true,
    "editable": true
   },
   "outputs": [],
   "source": [
    "b = mx.nd.ones(a.shape)\n",
    "c = b\n",
    "c[:] = a\n",
    "d = b\n",
    "a.copyto(d)\n",
    "(c is b, d is b)  # Both will be True"
   ]
  },
  {
   "cell_type": "markdown",
   "metadata": {
    "deletable": true,
    "editable": true
   },
   "source": [
    "## Advanced Topics\n",
    "\n",
    "### <font color='red'>GPU Support</font>\n",
    "\n",
    "기본적으로는 NDArray 연산은 CPU를 사용하게되어 있음. 하지만, MXNet은 연산을 GPU로 바꾸는 방법을 제공함. 각 NDArray의 디바이스 정보는 `ndarray.context`에 저장되어 있음.\n",
    "\n",
    "컴퓨터에 NVIDIA GPU가 최소 한개 이상이 있고, MXNet이 `USE_CUDA=1` 플래그를 가지고 컴파일 된 경우, `mx.gpu(0)` 또는 `mx.gpu()`를 수행해서 모든 연산을 GPU 0에서 수행되게 할 수 있음. 두개 이상의 GPU가 있는 경우, 두번째 GPU는 `mx.gpu(1)`으로 표현함\n",
    "\n",
    "> <font color='red'>문제</font> \n",
    "아래 코드를 GPU에서 수행한 후, CPU에서 수행한 후 CPU에서 수행되도록 코드를 변경해보세요. (힌트: mx.cpu()를 사용)"
   ]
  },
  {
   "cell_type": "code",
   "execution_count": null,
   "metadata": {
    "collapsed": true,
    "deletable": true,
    "editable": true
   },
   "outputs": [],
   "source": [
    "gpu_device=mx.gpu() # Change this to mx.cpu() in absence of GPUs.\n",
    "\n",
    "def f():\n",
    "    a = mx.nd.ones((100,100))\n",
    "    b = mx.nd.ones((100,100))\n",
    "    c = a + b\n",
    "    print(c)\n",
    "# in default mx.cpu() is used\n",
    "f()\n",
    "# change the default context to the first GPU\n",
    "with mx.Context(gpu_device):\n",
    "    f()"
   ]
  },
  {
   "cell_type": "markdown",
   "metadata": {
    "deletable": true,
    "editable": true
   },
   "source": [
    "행렬을 생성할 때, context를 명시적으로 지정할 수 있음"
   ]
  },
  {
   "cell_type": "code",
   "execution_count": null,
   "metadata": {
    "collapsed": false,
    "deletable": true,
    "editable": true
   },
   "outputs": [],
   "source": [
    "a = mx.nd.ones((100, 100), gpu_device)\n",
    "a"
   ]
  },
  {
   "cell_type": "markdown",
   "metadata": {
    "deletable": true,
    "editable": true
   },
   "source": [
    "현재 MXNet은 두 행렬이 동일한 디바이스에 있어야 연산이 가능하며, 디바이스간 데이터를 복사하는 다양한 방법이 있음"
   ]
  },
  {
   "cell_type": "code",
   "execution_count": null,
   "metadata": {
    "collapsed": true,
    "deletable": true,
    "editable": true
   },
   "outputs": [],
   "source": [
    "a = mx.nd.ones((100,100), mx.cpu())\n",
    "b = mx.nd.ones((100,100), gpu_device)\n",
    "c = mx.nd.ones((100,100), gpu_device)\n",
    "a.copyto(c)  # copy from CPU to GPU\n",
    "d = b + c\n",
    "e = b.as_in_context(c.context) + c  # same to above\n",
    "{'d':d, 'e':e}"
   ]
  },
  {
   "cell_type": "markdown",
   "metadata": {
    "deletable": true,
    "editable": true
   },
   "source": [
    "### Serialize From/To (Distributed) Filesystems\n",
    "\n",
    "MXNet offers two simple ways to save (load) data to (from) disk. The first way\n",
    "is to use `pickle`, as you might with any other Python objects. `NDArray` is\n",
    "pickle-compatible."
   ]
  },
  {
   "cell_type": "code",
   "execution_count": null,
   "metadata": {
    "collapsed": true,
    "deletable": true,
    "editable": true
   },
   "outputs": [],
   "source": [
    "import pickle as pkl\n",
    "a = mx.nd.ones((2, 3))\n",
    "# pack and then dump into disk\n",
    "data = pkl.dumps(a)\n",
    "pkl.dump(data, open('tmp.pickle', 'wb'))\n",
    "# load from disk and then unpack\n",
    "data = pkl.load(open('tmp.pickle', 'rb'))\n",
    "b = pkl.loads(data)\n",
    "b.asnumpy()"
   ]
  },
  {
   "cell_type": "markdown",
   "metadata": {
    "deletable": true,
    "editable": true
   },
   "source": [
    "The second way is to directly dump to disk in binary format by using the `save`\n",
    "and `load` methods. We can save/load a single NDArray, or a list of NDArrays:"
   ]
  },
  {
   "cell_type": "code",
   "execution_count": null,
   "metadata": {
    "collapsed": true,
    "deletable": true,
    "editable": true
   },
   "outputs": [],
   "source": [
    "a = mx.nd.ones((2,3))\n",
    "b = mx.nd.ones((5,6))\n",
    "mx.nd.save(\"temp.ndarray\", [a,b])\n",
    "c = mx.nd.load(\"temp.ndarray\")\n",
    "c"
   ]
  },
  {
   "cell_type": "markdown",
   "metadata": {
    "deletable": true,
    "editable": true
   },
   "source": [
    "It's also possible to save or load a dict of NDArrays in this fashion:"
   ]
  },
  {
   "cell_type": "code",
   "execution_count": null,
   "metadata": {
    "collapsed": true,
    "deletable": true,
    "editable": true
   },
   "outputs": [],
   "source": [
    "d = {'a':a, 'b':b}\n",
    "mx.nd.save(\"temp.ndarray\", d)\n",
    "c = mx.nd.load(\"temp.ndarray\")\n",
    "c"
   ]
  },
  {
   "cell_type": "markdown",
   "metadata": {
    "deletable": true,
    "editable": true
   },
   "source": [
    "The `load` and `save` methods are preferable to pickle in two respects\n",
    "\n",
    "1. When using these methods, you can save data from within the Python interface\n",
    "   and then use it later from another language's binding. For example, if we save\n",
    "   the data in Python:"
   ]
  },
  {
   "cell_type": "code",
   "execution_count": null,
   "metadata": {
    "collapsed": true,
    "deletable": true,
    "editable": true
   },
   "outputs": [],
   "source": [
    "a = mx.nd.ones((2, 3))\n",
    "mx.nd.save(\"temp.ndarray\", [a,])"
   ]
  },
  {
   "cell_type": "markdown",
   "metadata": {
    "deletable": true,
    "editable": true
   },
   "source": [
    "we can later load it from R:\n",
    "```\n",
    "a <- mx.nd.load(\"temp.ndarray\")\n",
    "as.array(a[[1]])\n",
    "##      [,1] [,2] [,3]\n",
    "## [1,]    1    1    1\n",
    "## [2,]    1    1    1\n",
    "```\n",
    "\n",
    "2. When a distributed filesystem such as Amazon S3 or Hadoop HDFS is set up, we\n",
    "   can directly save to and load from it.\n",
    "\n",
    "```\n",
    "mx.nd.save('s3://mybucket/mydata.ndarray', [a,])  # if compiled with USE_S3=1\n",
    "mx.nd.save('hdfs///users/myname/mydata.bin', [a,])  # if compiled with USE_HDFS=1\n",
    "```"
   ]
  },
  {
   "cell_type": "markdown",
   "metadata": {
    "deletable": true,
    "editable": true
   },
   "source": [
    "### <font color='red'>Lazy Evaluation and Automatic Parallelization</font\n",
    "\n",
    "MXNet은 lazy evaluation을 통해서 성능 향상으로 가져옴. Python에서 `a=b+1`를 수행하는 경우, Python thread가 이 연산을 백엔드 엔진으로 전달하고 리턴하는데, 이렇게 함으로 두가지 장점이 있음\n",
    "\n",
    "1. 메인 Python thread는 다른 연산을 계속할 수 있음.\n",
    "2. 백엔드 엔진이 최적화를 수행할 수 있음. 예, 자동 병렬화 (auto parallelization)\n",
    "\n",
    "백엔드 엔진은 데이터 의존성을 분석해서, 이에 따른 연산을 스케줄링 할 수 있음. 이 최적화는 프론트 사용자에게는 투명함. 만약 연산이 종료되기를 기달려야하는 경우는 `wait_to_read` 함수를 호출해서 연산이 종료될 때까지 대기하기 만들 수 있음. `asnumpy` 함수와 같이 행렬을 다른 패키지로 복사하는 연산의 경우 내부적으로 `wait_to_read`를 호출하고 있음"
   ]
  },
  {
   "cell_type": "code",
   "execution_count": null,
   "metadata": {
    "collapsed": false,
    "deletable": true,
    "editable": true
   },
   "outputs": [],
   "source": [
    "import time\n",
    "def do(x, n):\n",
    "    \"\"\"push computation into the backend engine\"\"\"\n",
    "    return [mx.nd.dot(x,x) for i in range(n)]\n",
    "def wait(x):\n",
    "    \"\"\"wait until all results are available\"\"\"\n",
    "    for y in x:\n",
    "        y.wait_to_read()\n",
    "\n",
    "tic = time.time()\n",
    "a = mx.nd.ones((1000,1000))\n",
    "b = do(a, 50)\n",
    "print('time for all computations are pushed into the backend engine:\\n %f sec' % (time.time() - tic))\n",
    "wait(b)\n",
    "print('time for all computations are finished:\\n %f sec' % (time.time() - tic))"
   ]
  },
  {
   "cell_type": "markdown",
   "metadata": {
    "deletable": true,
    "editable": true
   },
   "source": [
    "데이터 읽기, 쓰기 연관성을 분석하는 것이외에도, 백엔드 엔진은 의존도가 없는 연산은 병렬로 수행하게 만듦. 예를 들면 아래 코드의 두번째와 세번째 줄은 병렬로 수행됨"
   ]
  },
  {
   "cell_type": "code",
   "execution_count": null,
   "metadata": {
    "collapsed": false,
    "deletable": true,
    "editable": true
   },
   "outputs": [],
   "source": [
    "a = mx.nd.ones((2,3))\n",
    "b = a + 1\n",
    "c = a + 2\n",
    "d = b * c"
   ]
  },
  {
   "cell_type": "markdown",
   "metadata": {
    "deletable": true,
    "editable": true
   },
   "source": [
    "다음 예제는 우선 CPU에서 연산이 수행되고, 그 다음 GPU 연산이 수행됩니다. \n",
    "\n",
    "> <font color='red'>문제</font> \n",
    "아래 두 코드를 실행한 후, 수행 시간을 비교해보세요."
   ]
  },
  {
   "cell_type": "code",
   "execution_count": null,
   "metadata": {
    "collapsed": false,
    "deletable": true,
    "editable": true
   },
   "outputs": [],
   "source": [
    "# 순차적으로 실행되는 코드 예제\n",
    "\n",
    "n = 10\n",
    "a = mx.nd.ones((1000,1000))\n",
    "b = mx.nd.ones((6000,6000), gpu_device)\n",
    "tic = time.time()\n",
    "c = do(a, n)\n",
    "wait(c)\n",
    "print('Time to finish the CPU workload: %f sec' % (time.time() - tic))\n",
    "d = do(b, n)\n",
    "wait(d)\n",
    "print('Time to finish both CPU/GPU workloads: %f sec' % (time.time() - tic))"
   ]
  },
  {
   "cell_type": "markdown",
   "metadata": {
    "deletable": true,
    "editable": true
   },
   "source": [
    "아래 코드는 두번째, 세번째 줄을 모두 호출하고 있고, 백엔드 엔진은 CPU와 GPU 연산이 병렬로 수행되도록 시도함"
   ]
  },
  {
   "cell_type": "code",
   "execution_count": null,
   "metadata": {
    "collapsed": false,
    "deletable": true,
    "editable": true
   },
   "outputs": [],
   "source": [
    "# 병렬로 실행되는 코드 예제\n",
    "\n",
    "tic = time.time()\n",
    "c = do(a, n)\n",
    "d = do(b, n)\n",
    "wait(c)\n",
    "wait(d)\n",
    "print('Both as finished in: %f sec' % (time.time() - tic))"
   ]
  },
  {
   "cell_type": "markdown",
   "metadata": {
    "deletable": true,
    "editable": true
   },
   "source": [
    "\n",
    "<!-- INSERT SOURCE DOWNLOAD BUTTONS -->\n",
    "\n"
   ]
  }
 ],
 "metadata": {
  "display_name": "",
  "kernelspec": {
   "display_name": "Python 3",
   "language": "python",
   "name": "python3"
  },
  "language_info": {
   "codemirror_mode": {
    "name": "ipython",
    "version": 3
   },
   "file_extension": ".py",
   "mimetype": "text/x-python",
   "name": "python",
   "nbconvert_exporter": "python",
   "pygments_lexer": "ipython3",
   "version": "3.6.1"
  },
  "name": ""
 },
 "nbformat": 4,
 "nbformat_minor": 2
}
