{
 "cells": [
  {
   "cell_type": "markdown",
   "metadata": {
    "deletable": true,
    "editable": true
   },
   "source": [
    "# Convolutional Neural Network 실습\n",
    "\n",
    "## 손으로 쓴 숫자 인식 (Handwritten Digit Recognition)\n",
    "\n",
    "손으로 쓴 숫자를 모아 놓은 [MNIST](https://en.wikipedia.org/wiki/MNIST_database) dataset을 학습해서 손으로 쓴 숫자가 어떤 숫자인지를 분류하는 deep learning 모델을 작성하는 법을 배웁니다. 이 예제는 Deep Learning에서는 \"Hello World\" 같은 것입니다.\n",
    "\n",
    "> MNIST는 손으로 쓴 숫자를 모아 놓은 데이터입니다. 28x28 픽셀의 회식 이미지를 70,000개의 숫자가 10개의 클래스로 구분되어 있습니다.\n",
    "> ![png](https://raw.githubusercontent.com/dmlc/web-data/master/mxnet/example/mnist.png)\n",
    ">\n",
    "> **Figure 1:** Sample images from the MNIST dataset.\n",
    "\n",
    "이 예제에서는 60,000개를 학습 이미지로 사용하고, 10,000개를 테스트 이미지로 사용합니다. 이 실습에서는 아래 두가지 방법으로 숫자 분류 모델을 만들어 보겠습니다.\n",
    "\n",
    "* Multilayer Perceptron (MLP)\n",
    "* Convolutional Neural Network (CNN)"
   ]
  },
  {
   "cell_type": "markdown",
   "metadata": {
    "deletable": true,
    "editable": true
   },
   "source": [
    "## 데이터 로딩\n",
    "\n",
    "모델을 정의하기 전에 [MNIST](http://yann.lecun.com/exdb/mnist/) dataset을 로딩합니다. 아래 코드는 이미지 데이터셋을 다운로드해서, 이미지와 레벨을 메모리에 저장합니다."
   ]
  },
  {
   "cell_type": "code",
   "execution_count": 12,
   "metadata": {
    "collapsed": false,
    "deletable": true,
    "editable": true
   },
   "outputs": [
    {
     "name": "stderr",
     "output_type": "stream",
     "text": [
      "INFO:root:train-labels-idx1-ubyte.gz exists, skip to downloada\n",
      "INFO:root:train-images-idx3-ubyte.gz exists, skip to downloada\n",
      "INFO:root:t10k-labels-idx1-ubyte.gz exists, skip to downloada\n",
      "INFO:root:t10k-images-idx3-ubyte.gz exists, skip to downloada\n",
      "/Users/muhyun/anaconda/lib/python3.6/json/encoder.py:199: DeprecationWarning: Interpreting naive datetime as local 2017-08-20 16:33:37.064064. Please add timezone info to timestamps.\n",
      "  chunks = self.iterencode(o, _one_shot=True)\n"
     ]
    }
   ],
   "source": [
    "import mxnet as mx\n",
    "import matplotlib.pyplot as plt\n",
    "\n",
    "mnist = mx.test_utils.get_mnist()"
   ]
  },
  {
   "cell_type": "markdown",
   "metadata": {
    "deletable": true,
    "editable": true
   },
   "source": [
    "위 코드를 수행하면, MNIST 데이터셋 전체가 메모리로 올라갑니다. 만약, 데이터셋이 더 큰 경우에는 모든 데이터셋을 메모리에 미리 올리는 것인 불가능할 것입니다. 이를 해결하기 위해서는 데이터 소스로부터 빠르고 효과적으로 데이터를 스트리밍할 수 있는 방법이 필요한데, MXNet Data iterator들이 이런 기능을 제공합니다. 이 iterator들은 초기화가 쉽고, 속도 최적화가 되어 있습니다. 학습이 수행되는 동안, 학습 데이터는 작은 배치로 나뉘어서 사용되고, 각 학습 샘플들은 전체 학습이 종료될 때까지 몇차례 재사용됩니다.\n",
    "\n",
    "이 실습에서는 data iterator를 한 배치에 100개의 데이터에 사용되도록 설정합니다. 각 샘플은 28x28 픽셀의 회색 이미지와 어떤 숫자인지를 알려주는 라벨로 구성되어 있습니다.\n",
    "\n",
    "이미지 배치는 보통 4차원 행렬로 표현됩니다. 이 행렬의 shape는 `(batch_size, num_channels, width, height)` 입니다. MNIST 이미지가 회색이기 때문에, 색깔 채널은 한개입니다. 즉, 입력의 shape는 `(batch_size, 1, 28, 28)`이 됩니다.\n",
    "\n",
    "학습 데이터를 사용하는데 중요한 점은, 라벨 순서대로 나열된 데이터를 그대로 사용하지 말아야된다는 것입니다. 만약 같은 라벨의 데이터를 묶어서 학습한다면 학습 속도가 느려집니다. Data iterator는 입력 데이터를 자동으로 섞어줍니다. 테스트 데이터는 섞을 필요 없습니다.\n",
    "\n",
    "아래 코드는 data iterator들은 초기화해서, 학습 데이터와 테스트 데이터를 주는 iterator를 생성합니다."
   ]
  },
  {
   "cell_type": "code",
   "execution_count": 2,
   "metadata": {
    "collapsed": false,
    "deletable": true,
    "editable": true
   },
   "outputs": [
    {
     "name": "stderr",
     "output_type": "stream",
     "text": [
      "/Users/muhyun/anaconda/lib/python3.6/json/encoder.py:199: DeprecationWarning: Interpreting naive datetime as local 2017-08-20 15:58:54.187274. Please add timezone info to timestamps.\n",
      "  chunks = self.iterencode(o, _one_shot=True)\n"
     ]
    }
   ],
   "source": [
    "batch_size = 100\n",
    "train_iter = mx.io.NDArrayIter(mnist['train_data'], mnist['train_label'], batch_size, shuffle=True)\n",
    "val_iter = mx.io.NDArrayIter(mnist['test_data'], mnist['test_label'], batch_size)"
   ]
  },
  {
   "cell_type": "markdown",
   "metadata": {
    "deletable": true,
    "editable": true
   },
   "source": [
    "## 학습\n",
    "\n",
    "MNIST 데이터를 학습해서 모델은 만드는 다양한 방법 중에, \n",
    "\n",
    "(1) 전통적인 deep neural network 아키텍처, Multilayer Percepton (MLP),\n",
    "(2) Convolutional Neural Network 아키텍처\n",
    "\n",
    "를 어떻게 구성하는지 알아보겠습니다. "
   ]
  },
  {
   "cell_type": "markdown",
   "metadata": {
    "deletable": true,
    "editable": true
   },
   "source": [
    "### 모델 1 - [Multilayer Perceptron](https://en.wikipedia.org/wiki/Multilayer_perceptron) \n",
    "\n",
    "MXNet의 Symbol API를 이용해서 MLP를 정의합니다. 우선 입력 데이터를 저장할 place holder를 생성합니다. MLP를 다룰때는, 28x28 이미지를 784 ( 28 * 28 ) 크기의 1차원 행렬로 변환해서 사용해야 합니다. 1차원으로 펼칠 때 원소들의 순서는 모든 이미지에 동일하게 적용된다면 펼치는 순서는 중요하지 않습니다."
   ]
  },
  {
   "cell_type": "markdown",
   "metadata": {},
   "source": [
    "### 데이터 pre-prosessing"
   ]
  },
  {
   "cell_type": "code",
   "execution_count": 13,
   "metadata": {
    "collapsed": false,
    "deletable": true,
    "editable": true
   },
   "outputs": [
    {
     "name": "stderr",
     "output_type": "stream",
     "text": [
      "/Users/muhyun/anaconda/lib/python3.6/json/encoder.py:199: DeprecationWarning: Interpreting naive datetime as local 2017-08-20 17:04:19.785823. Please add timezone info to timestamps.\n",
      "  chunks = self.iterencode(o, _one_shot=True)\n"
     ]
    }
   ],
   "source": [
    "data = mx.sym.var('data')\n",
    "# Flatten the data from 4-D shape into 2-D (batch_size, num_channel*width*height)\n",
    "data = mx.sym.flatten(data=data)"
   ]
  },
  {
   "cell_type": "markdown",
   "metadata": {},
   "source": [
    "다차원 배열을 flat하게 만들면서 중요한 정보가 손실되는 것이 아닐까요? 사실 그렇습니다. 이에 대해서는 입력 데이터의 모양을 보존하는 Convolutional Neural Network을 만들때 살펴보겠습니다. 우선은 flat한 이미지를 이용하겠습니다.\n",
    "\n",
    "MLP는 몇개의 fully connected layer들로 구성됩니다. Fully connected layer (FC layer)는 각 neuron이 이전 layer의 모든 neuron들과 연결되어 있습니다. 선형대수 관점에서 보면, 하나의 FC layer는 *n x m* 입력 행렬 *X*에 [affine transform](https://en.wikipedia.org/wiki/Affine_transformation)을 적용해서, *n x k* 행렬 *Y*를 얻는 것을 의미합니다. 여기서 *k*는 FC layer의 neuron 개수를 의미합니다. FC layer는 아래 두개의 학습 파라메터를 갖습니다.\n",
    "\n",
    "* *m x k* weight 행렬 *W*\n",
    "* *m x 1* bias 백터 *b*\n",
    "\n",
    "##### Activation 함수의 중요성\n",
    "MLP에서 대부분의 FC layer는 activation 함수 연결됩니다. Activation 함수를 적용함으로 element-wise non-linearity를 갖게됩니다. 만약 없다면, 여러 FC layer들은 하나의 FC layer로 동작하게됩니다. 많이 사용되는 activation 함수는 [rectified linear unit](https://en.wikipedia.org/wiki/Rectifier_%28neural_networks%29) (ReLU), tanh 또는 sigmoid가 있습니다. 대부분의 경우 좋은 성능을 보여주는 ReLu를 많이 사용합니다."
   ]
  },
  {
   "cell_type": "markdown",
   "metadata": {
    "deletable": true,
    "editable": true
   },
   "source": [
    "### MLP 네트워크 정의\n",
    "\n",
    "#### Fully Connected (128) --> ReLu --> Fully Connected (64) --> ReLu\n",
    "\n",
    "다음 코드는 128개와 64개의 neuron을 갖는 Fully Connected layer 두개를 정의합니다. 이 두 FC layer 사이에는 ReLu activation를 적용합니다.\n",
    "\n",
    "##### <font color='red'>문제</font>\n",
    "* 첫번째 레이어에 activation 함수를 ReLu (relu)로 설정\n",
    "* Neuron 개수가 다른 두번쨰 Fully-connected layer (activation 함수 포함) 정의"
   ]
  },
  {
   "cell_type": "code",
   "execution_count": 4,
   "metadata": {
    "collapsed": false,
    "deletable": true,
    "editable": true
   },
   "outputs": [
    {
     "name": "stderr",
     "output_type": "stream",
     "text": [
      "/Users/muhyun/anaconda/lib/python3.6/json/encoder.py:199: DeprecationWarning: Interpreting naive datetime as local 2017-08-20 15:59:00.603468. Please add timezone info to timestamps.\n",
      "  chunks = self.iterencode(o, _one_shot=True)\n"
     ]
    }
   ],
   "source": [
    "# The first fully-connected layer and the corresponding activation function\n",
    "fc1  = mx.sym.FullyConnected(data=data, num_hidden=128)\n",
    "act1 = mx.sym.Activation(data=fc1, act_type=\"relu\")\n",
    "\n",
    "# The second fully-connected layer and the corresponding activation function\n",
    "fc2  = ___ 두번째 레이어의 Fully Connected layer 정의 ___\n",
    "act2 = ___ 두번째 레이어의 Activation 함수 적용 ___"
   ]
  },
  {
   "cell_type": "markdown",
   "metadata": {
    "deletable": true,
    "editable": true
   },
   "source": [
    "마지막 Fully Connected layer는 결과 클래스 개수와 같은 수의 neuron을 갖도록 정의합니다. 이 layer에 대한 activation 함수는 softmax 함수를 사용합니다.\n",
    "\n",
    "###### softmax 함수\n",
    "softmax 함수는 입력값들을 각 클래스에 대한 확률값으로 변환합니다. \n",
    "\n",
    "###### loss 함수\n",
    "loss 함수는 네트워크가 예측한 확률 분포 (예, softmax output)과 라벨의 실제 확률 분포 사이의 [cross entropy](https://en.wikipedia.org/wiki/Cross_entropy)를 계산합니다.\n",
    "\n",
    "아래 코드는 마지막 크기가 10인 fully connected layer를 정의하고, 그 결과를  `SoftMaxOutput` layer로 연결합니다. 이 layer는 softmax과 cross-entropy loss를 동시에 계산합니다. \n",
    "\n",
    "> 참고: loss는 학습 단계에서만 계산됩니다.\n",
    "\n",
    "##### <font color='red'>문제</font>\n",
    "\n",
    "* 마지막 layer인 fc3에 몇개의 neuron이 필요한가요? 해당 숫자를 num_hidden 값으로 설정하세요"
   ]
  },
  {
   "cell_type": "code",
   "execution_count": 5,
   "metadata": {
    "collapsed": false,
    "deletable": true,
    "editable": true
   },
   "outputs": [
    {
     "name": "stderr",
     "output_type": "stream",
     "text": [
      "/Users/muhyun/anaconda/lib/python3.6/json/encoder.py:199: DeprecationWarning: Interpreting naive datetime as local 2017-08-20 15:59:04.921843. Please add timezone info to timestamps.\n",
      "  chunks = self.iterencode(o, _one_shot=True)\n"
     ]
    }
   ],
   "source": [
    "# MNIST has 10 classes\n",
    "fc3  = mx.sym.FullyConnected(data=act2, num_hidden=__Neuron 개수__)\n",
    "# Softmax with cross entropy loss\n",
    "mlp  = mx.sym.SoftmaxOutput(data=fc3, name='softmax')"
   ]
  },
  {
   "cell_type": "markdown",
   "metadata": {},
   "source": [
    "![png](https://raw.githubusercontent.com/dmlc/web-data/master/mxnet/image/mlp_mnist.png)\n",
    "\n",
    "**Figure 2:** MLP network architecture for MNIST."
   ]
  },
  {
   "cell_type": "markdown",
   "metadata": {
    "deletable": true,
    "editable": true
   },
   "source": [
    "### 학습 수행\n",
    "\n",
    "`module`의 high-level API를 이용해서 학습(training) 및 예측(inference)을 수행하는 코드를 작성합니다. `module` API는 학습을 어떻게 진행할 것인지 정하는 파라메터(hyper-parameter)를 설정할 수 있습니다.\n",
    "\n",
    "* optimizer: SGD (Stochastic Gradient Descent)\n",
    "* batch_size: 100\n",
    "* learning_rate: 0.1\n",
    "* epoch: 10\n",
    "\n",
    "> Standard SGD vs. mini-batch SGD\n",
    "> \n",
    "> Standard SGD : 하나의 데이터씩 학습을 수행함. 학습 속도가 느림\n",
    "> mini-batch SGD : 전체 학습 데이터를 작은 집합 (batch)로 나눠서 mini-batch 단위로 학습을 수행함\n",
    "\n",
    "> epoch: 학습 데이터 전체에 대한 수행 회수\n",
    "\n",
    "학습은 최적의 파라메터(weight + bias)를 찾을 떄까지 학습 데이터에 대해서 반복적으로 수행합니다. 최적의 파라메터가 찾아졌는지 여부는 모델의 성능(정확도)가 수렴 여부를 보고 결정하게 됩니다."
   ]
  },
  {
   "cell_type": "code",
   "execution_count": 6,
   "metadata": {
    "collapsed": false,
    "deletable": true,
    "editable": true
   },
   "outputs": [
    {
     "name": "stderr",
     "output_type": "stream",
     "text": [
      "INFO:root:Epoch[0] Batch [100]\tSpeed: 53052.36 samples/sec\taccuracy=0.112178\n",
      "INFO:root:Epoch[0] Batch [200]\tSpeed: 57511.60 samples/sec\taccuracy=0.112900\n",
      "INFO:root:Epoch[0] Batch [300]\tSpeed: 57461.97 samples/sec\taccuracy=0.110100\n",
      "INFO:root:Epoch[0] Batch [400]\tSpeed: 14826.79 samples/sec\taccuracy=0.113500\n",
      "INFO:root:Epoch[0] Batch [500]\tSpeed: 60522.47 samples/sec\taccuracy=0.144500\n",
      "INFO:root:Epoch[0] Train-accuracy=0.299596\n",
      "INFO:root:Epoch[0] Time cost=1.563\n",
      "INFO:root:Epoch[0] Validation-accuracy=0.499000\n",
      "INFO:root:Epoch[1] Batch [100]\tSpeed: 59890.22 samples/sec\taccuracy=0.534653\n",
      "INFO:root:Epoch[1] Batch [200]\tSpeed: 60380.97 samples/sec\taccuracy=0.697300\n",
      "INFO:root:Epoch[1] Batch [300]\tSpeed: 56670.06 samples/sec\taccuracy=0.786700\n",
      "INFO:root:Epoch[1] Batch [400]\tSpeed: 60981.89 samples/sec\taccuracy=0.815100\n",
      "INFO:root:Epoch[1] Batch [500]\tSpeed: 59393.08 samples/sec\taccuracy=0.829700\n",
      "INFO:root:Epoch[1] Train-accuracy=0.849293\n",
      "INFO:root:Epoch[1] Time cost=1.014\n",
      "INFO:root:Epoch[1] Validation-accuracy=0.862400\n",
      "INFO:root:Epoch[2] Batch [100]\tSpeed: 50506.10 samples/sec\taccuracy=0.864158\n",
      "INFO:root:Epoch[2] Batch [200]\tSpeed: 25656.01 samples/sec\taccuracy=0.876100\n",
      "INFO:root:Epoch[2] Batch [300]\tSpeed: 31912.57 samples/sec\taccuracy=0.889900\n",
      "INFO:root:Epoch[2] Batch [400]\tSpeed: 26399.36 samples/sec\taccuracy=0.900500\n",
      "INFO:root:Epoch[2] Batch [500]\tSpeed: 17551.96 samples/sec\taccuracy=0.904300\n",
      "INFO:root:Epoch[2] Train-accuracy=0.914848\n",
      "INFO:root:Epoch[2] Time cost=2.056\n",
      "INFO:root:Epoch[2] Validation-accuracy=0.920300\n",
      "INFO:root:Epoch[3] Batch [100]\tSpeed: 58925.81 samples/sec\taccuracy=0.920099\n",
      "INFO:root:Epoch[3] Batch [200]\tSpeed: 56524.95 samples/sec\taccuracy=0.925600\n",
      "INFO:root:Epoch[3] Batch [300]\tSpeed: 59056.57 samples/sec\taccuracy=0.930300\n",
      "INFO:root:Epoch[3] Batch [400]\tSpeed: 21216.65 samples/sec\taccuracy=0.933800\n",
      "INFO:root:Epoch[3] Batch [500]\tSpeed: 19721.96 samples/sec\taccuracy=0.932700\n",
      "INFO:root:Epoch[3] Train-accuracy=0.943030\n",
      "INFO:root:Epoch[3] Time cost=1.898\n",
      "INFO:root:Epoch[3] Validation-accuracy=0.945100\n",
      "INFO:root:Epoch[4] Batch [100]\tSpeed: 49914.13 samples/sec\taccuracy=0.943465\n",
      "INFO:root:Epoch[4] Batch [200]\tSpeed: 61229.02 samples/sec\taccuracy=0.945100\n",
      "INFO:root:Epoch[4] Batch [300]\tSpeed: 60852.81 samples/sec\taccuracy=0.948800\n",
      "INFO:root:Epoch[4] Batch [400]\tSpeed: 58051.04 samples/sec\taccuracy=0.951300\n",
      "INFO:root:Epoch[4] Batch [500]\tSpeed: 19378.76 samples/sec\taccuracy=0.949400\n",
      "INFO:root:Epoch[4] Train-accuracy=0.953838\n",
      "INFO:root:Epoch[4] Time cost=1.783\n",
      "INFO:root:Epoch[4] Validation-accuracy=0.953300\n",
      "INFO:root:Epoch[5] Batch [100]\tSpeed: 63886.72 samples/sec\taccuracy=0.957426\n",
      "INFO:root:Epoch[5] Batch [200]\tSpeed: 63751.46 samples/sec\taccuracy=0.956200\n",
      "INFO:root:Epoch[5] Batch [300]\tSpeed: 25906.66 samples/sec\taccuracy=0.958800\n",
      "INFO:root:Epoch[5] Batch [400]\tSpeed: 32709.86 samples/sec\taccuracy=0.959000\n",
      "INFO:root:Epoch[5] Batch [500]\tSpeed: 29533.65 samples/sec\taccuracy=0.959500\n",
      "INFO:root:Epoch[5] Train-accuracy=0.962929\n",
      "INFO:root:Epoch[5] Time cost=1.515\n",
      "INFO:root:Epoch[5] Validation-accuracy=0.958400\n",
      "INFO:root:Epoch[6] Batch [100]\tSpeed: 64213.60 samples/sec\taccuracy=0.964356\n",
      "INFO:root:Epoch[6] Batch [200]\tSpeed: 60126.49 samples/sec\taccuracy=0.963500\n",
      "INFO:root:Epoch[6] Batch [300]\tSpeed: 20590.76 samples/sec\taccuracy=0.966500\n",
      "INFO:root:Epoch[6] Batch [400]\tSpeed: 26190.68 samples/sec\taccuracy=0.966400\n",
      "INFO:root:Epoch[6] Batch [500]\tSpeed: 60426.21 samples/sec\taccuracy=0.966200\n",
      "INFO:root:Epoch[6] Train-accuracy=0.966667\n",
      "INFO:root:Epoch[6] Time cost=1.536\n",
      "INFO:root:Epoch[6] Validation-accuracy=0.962000\n",
      "INFO:root:Epoch[7] Batch [100]\tSpeed: 26824.76 samples/sec\taccuracy=0.968713\n",
      "INFO:root:Epoch[7] Batch [200]\tSpeed: 36273.81 samples/sec\taccuracy=0.968900\n",
      "INFO:root:Epoch[7] Batch [300]\tSpeed: 22150.65 samples/sec\taccuracy=0.970600\n",
      "INFO:root:Epoch[7] Batch [400]\tSpeed: 53409.40 samples/sec\taccuracy=0.972300\n",
      "INFO:root:Epoch[7] Batch [500]\tSpeed: 54998.54 samples/sec\taccuracy=0.972100\n",
      "INFO:root:Epoch[7] Train-accuracy=0.970303\n",
      "INFO:root:Epoch[7] Time cost=1.673\n",
      "INFO:root:Epoch[7] Validation-accuracy=0.964300\n",
      "INFO:root:Epoch[8] Batch [100]\tSpeed: 46025.91 samples/sec\taccuracy=0.973861\n",
      "INFO:root:Epoch[8] Batch [200]\tSpeed: 54152.12 samples/sec\taccuracy=0.972900\n",
      "INFO:root:Epoch[8] Batch [300]\tSpeed: 54073.37 samples/sec\taccuracy=0.975200\n",
      "INFO:root:Epoch[8] Batch [400]\tSpeed: 51910.02 samples/sec\taccuracy=0.975800\n",
      "INFO:root:Epoch[8] Batch [500]\tSpeed: 55904.90 samples/sec\taccuracy=0.976800\n",
      "INFO:root:Epoch[8] Train-accuracy=0.973030\n",
      "INFO:root:Epoch[8] Time cost=1.154\n",
      "INFO:root:Epoch[8] Validation-accuracy=0.966700\n",
      "INFO:root:Epoch[9] Batch [100]\tSpeed: 54718.64 samples/sec\taccuracy=0.977129\n",
      "INFO:root:Epoch[9] Batch [200]\tSpeed: 24878.46 samples/sec\taccuracy=0.975900\n",
      "INFO:root:Epoch[9] Batch [300]\tSpeed: 56080.86 samples/sec\taccuracy=0.977500\n",
      "INFO:root:Epoch[9] Batch [400]\tSpeed: 57256.45 samples/sec\taccuracy=0.979000\n",
      "INFO:root:Epoch[9] Batch [500]\tSpeed: 47331.65 samples/sec\taccuracy=0.979700\n",
      "INFO:root:Epoch[9] Train-accuracy=0.976869\n",
      "INFO:root:Epoch[9] Time cost=1.337\n",
      "INFO:root:Epoch[9] Validation-accuracy=0.968700\n",
      "/Users/muhyun/anaconda/lib/python3.6/json/encoder.py:199: DeprecationWarning: Interpreting naive datetime as local 2017-08-20 15:59:07.302175. Please add timezone info to timestamps.\n",
      "  chunks = self.iterencode(o, _one_shot=True)\n"
     ]
    }
   ],
   "source": [
    "import logging\n",
    "logging.getLogger().setLevel(logging.DEBUG)  # logging to stdout\n",
    "# create a trainable module on CPU\n",
    "mlp_model = mx.mod.Module(symbol=mlp, context=mx.cpu())\n",
    "mlp_model.fit(train_iter,  # train data\n",
    "              eval_data=val_iter,  # validation data\n",
    "              optimizer='sgd',  # use SGD to train\n",
    "              optimizer_params={'learning_rate':0.1},  # use fixed learning rate\n",
    "              eval_metric='acc',  # report accuracy during training\n",
    "              batch_end_callback = mx.callback.Speedometer(batch_size, 100), # output progress for each 100 data batches\n",
    "              num_epoch=10)  # train for at most 10 dataset passes"
   ]
  },
  {
   "cell_type": "markdown",
   "metadata": {
    "deletable": true,
    "editable": true
   },
   "source": [
    "### 예측 (Prediction)\n",
    "\n",
    "학습이 완료되면, 테스트 데이터를 사용해서 예측을 수행하고 이를 기반으로 학습 모델을 평가합니다.\n",
    "\n",
    "아래 코드는 각 테스트 이미지에 대한 예측 확률 점수(prediction probability score)를 계산합니다.\n",
    "\n",
    "*prob[i][j]* : *i*-번째 테스트 이미지가 *j*-번째 결과 클래스일 확률"
   ]
  },
  {
   "cell_type": "code",
   "execution_count": 7,
   "metadata": {
    "collapsed": false,
    "deletable": true,
    "editable": true
   },
   "outputs": [
    {
     "name": "stderr",
     "output_type": "stream",
     "text": [
      "/Users/muhyun/anaconda/lib/python3.6/json/encoder.py:199: DeprecationWarning: Interpreting naive datetime as local 2017-08-20 15:59:33.517709. Please add timezone info to timestamps.\n",
      "  chunks = self.iterencode(o, _one_shot=True)\n"
     ]
    }
   ],
   "source": [
    "test_iter = mx.io.NDArrayIter(mnist['test_data'], None, batch_size)\n",
    "prob = mlp_model.predict(test_iter)\n",
    "assert prob.shape == (10000, 10)"
   ]
  },
  {
   "cell_type": "markdown",
   "metadata": {
    "deletable": true,
    "editable": true
   },
   "source": [
    "테스트 이미지에 대한 라벨 정보가 있기 때문에, accuracy metric을 다음과 같이 계산할 수 있습니다."
   ]
  },
  {
   "cell_type": "code",
   "execution_count": 8,
   "metadata": {
    "collapsed": false,
    "deletable": true,
    "editable": true
   },
   "outputs": [
    {
     "name": "stdout",
     "output_type": "stream",
     "text": [
      "EvalMetric: {'accuracy': 0.96870000000000001}\n"
     ]
    },
    {
     "name": "stderr",
     "output_type": "stream",
     "text": [
      "/Users/muhyun/anaconda/lib/python3.6/json/encoder.py:199: DeprecationWarning: Interpreting naive datetime as local 2017-08-20 15:59:36.877276. Please add timezone info to timestamps.\n",
      "  chunks = self.iterencode(o, _one_shot=True)\n"
     ]
    }
   ],
   "source": [
    "test_iter = mx.io.NDArrayIter(mnist['test_data'], mnist['test_label'], batch_size)\n",
    "# predict accuracy of mlp\n",
    "acc = mx.metric.Accuracy()\n",
    "mlp_model.score(test_iter, acc)\n",
    "print(acc)\n",
    "assert acc.get()[1] > 0.96"
   ]
  },
  {
   "cell_type": "markdown",
   "metadata": {},
   "source": [
    "잘 수행되었다만, accuracy 값이 0.96 정도로 나올것입니다. 이는, 숫자를 정확하게 맞출 확률이 96%라는 의미입니다. 다음 방법을 사용하면, 더 좋을 결과를 얻을 수 있습니다."
   ]
  },
  {
   "cell_type": "markdown",
   "metadata": {},
   "source": [
    "### Convolutional Neural Network\n",
    "\n",
    "MLP를 이용해서 이미지를 분류하는 경우에는 이미지의 원래 모양을 고려하지 때문에, 가로축과 세로축을 따르는 공간적인 상관 관계에 대한 의미를 살려서 분석하지 못합니다. Convolutional Neural Network (CNN)은 이 문제를 더 구조화된 weight 구성을 통해서 해결합니다. 즉, 이미지를 1차원 배열로 변환해서 간단한 형렬 곱하기 연산을 수행하는 대신, 입력 이미지에 대한 2차원 convolution을 수행하는 여러개의 convolutional layer를 사용합니다.\n",
    "\n",
    "#### Convolution Layer\n",
    "하나의 convolution layer는 하나 이상의 filter를 갖습니다. 각 filter는 feature를 탐지하는 역할을 하는 filter들은 학습을 통해서 filter에 사용되는 적절한 파라메터를 찾아나가게 됩니다.\n",
    "\n",
    "MLP와 유사하게 convolution layer의 결과는 non-linearity가 activation 함수를 통해서 적용되기도 합니다.\n",
    "\n",
    "#### Pooling Layer\n",
    "CNN의 또다른 중요한 레이어는 pooling layer입니다. A pooling layer serves to make the CNN translation invariant: a digit remains the same even when it is shifted left/right/up/down by a few pixels. pooling layer는 또한 *n x m* 패치를 단일 값으로 줄임으로 네트워크가 공간적인 위치에 덜 민감하도록 만드는 역할을 합니다.\n",
    "\n",
    "Pooling layer는 늘 convolution (+activation) layer 다음에 위치합니다.\n",
    "\n",
    "* conv layer --> activation layer --> pooling layer\n",
    "* conv layer --> pooling layer"
   ]
  },
  {
   "cell_type": "markdown",
   "metadata": {
    "deletable": true,
    "editable": true
   },
   "source": [
    "다음 코드는 LeNet이라는 Convolutional Neural Network 아키텍처를 정의합니다.\n",
    "\n",
    "> LeNet: 숫자 분류에 대한 성능이 좋은 유명한 네트워크\n",
    "\n",
    "LeNet은 activation 함수로 sigmoid를 사용했지만, 여기서는 tanh activation 함수를 사용하겠습니다."
   ]
  },
  {
   "cell_type": "code",
   "execution_count": 2,
   "metadata": {
    "collapsed": false,
    "deletable": true,
    "editable": true
   },
   "outputs": [
    {
     "ename": "NameError",
     "evalue": "name 'mx' is not defined",
     "output_type": "error",
     "traceback": [
      "\u001b[0;31m---------------------------------------------------------------------------\u001b[0m",
      "\u001b[0;31mNameError\u001b[0m                                 Traceback (most recent call last)",
      "\u001b[0;32m<ipython-input-2-0ac433030904>\u001b[0m in \u001b[0;36m<module>\u001b[0;34m()\u001b[0m\n\u001b[0;32m----> 1\u001b[0;31m \u001b[0mdata\u001b[0m \u001b[0;34m=\u001b[0m \u001b[0mmx\u001b[0m\u001b[0;34m.\u001b[0m\u001b[0msym\u001b[0m\u001b[0;34m.\u001b[0m\u001b[0mvar\u001b[0m\u001b[0;34m(\u001b[0m\u001b[0;34m'data'\u001b[0m\u001b[0;34m)\u001b[0m\u001b[0;34m\u001b[0m\u001b[0m\n\u001b[0m\u001b[1;32m      2\u001b[0m \u001b[0;31m# first conv layer\u001b[0m\u001b[0;34m\u001b[0m\u001b[0;34m\u001b[0m\u001b[0m\n\u001b[1;32m      3\u001b[0m \u001b[0mconv1\u001b[0m \u001b[0;34m=\u001b[0m \u001b[0mmx\u001b[0m\u001b[0;34m.\u001b[0m\u001b[0msym\u001b[0m\u001b[0;34m.\u001b[0m\u001b[0mConvolution\u001b[0m\u001b[0;34m(\u001b[0m\u001b[0mdata\u001b[0m\u001b[0;34m=\u001b[0m\u001b[0mdata\u001b[0m\u001b[0;34m,\u001b[0m \u001b[0mkernel\u001b[0m\u001b[0;34m=\u001b[0m\u001b[0;34m(\u001b[0m\u001b[0;36m5\u001b[0m\u001b[0;34m,\u001b[0m\u001b[0;36m5\u001b[0m\u001b[0;34m)\u001b[0m\u001b[0;34m,\u001b[0m \u001b[0mnum_filter\u001b[0m\u001b[0;34m=\u001b[0m\u001b[0;36m20\u001b[0m\u001b[0;34m)\u001b[0m\u001b[0;34m\u001b[0m\u001b[0m\n\u001b[1;32m      4\u001b[0m \u001b[0mtanh1\u001b[0m \u001b[0;34m=\u001b[0m \u001b[0mmx\u001b[0m\u001b[0;34m.\u001b[0m\u001b[0msym\u001b[0m\u001b[0;34m.\u001b[0m\u001b[0mActivation\u001b[0m\u001b[0;34m(\u001b[0m\u001b[0mdata\u001b[0m\u001b[0;34m=\u001b[0m\u001b[0mconv1\u001b[0m\u001b[0;34m,\u001b[0m \u001b[0mact_type\u001b[0m\u001b[0;34m=\u001b[0m\u001b[0;34m\"tanh\"\u001b[0m\u001b[0;34m)\u001b[0m\u001b[0;34m\u001b[0m\u001b[0m\n\u001b[1;32m      5\u001b[0m \u001b[0mpool1\u001b[0m \u001b[0;34m=\u001b[0m \u001b[0mmx\u001b[0m\u001b[0;34m.\u001b[0m\u001b[0msym\u001b[0m\u001b[0;34m.\u001b[0m\u001b[0mPooling\u001b[0m\u001b[0;34m(\u001b[0m\u001b[0mdata\u001b[0m\u001b[0;34m=\u001b[0m\u001b[0mtanh1\u001b[0m\u001b[0;34m,\u001b[0m \u001b[0mpool_type\u001b[0m\u001b[0;34m=\u001b[0m\u001b[0;34m\"max\"\u001b[0m\u001b[0;34m,\u001b[0m \u001b[0mkernel\u001b[0m\u001b[0;34m=\u001b[0m\u001b[0;34m(\u001b[0m\u001b[0;36m2\u001b[0m\u001b[0;34m,\u001b[0m\u001b[0;36m2\u001b[0m\u001b[0;34m)\u001b[0m\u001b[0;34m,\u001b[0m \u001b[0mstride\u001b[0m\u001b[0;34m=\u001b[0m\u001b[0;34m(\u001b[0m\u001b[0;36m2\u001b[0m\u001b[0;34m,\u001b[0m\u001b[0;36m2\u001b[0m\u001b[0;34m)\u001b[0m\u001b[0;34m)\u001b[0m\u001b[0;34m\u001b[0m\u001b[0m\n",
      "\u001b[0;31mNameError\u001b[0m: name 'mx' is not defined"
     ]
    }
   ],
   "source": [
    "data = mx.sym.var('data')\n",
    "# first conv layer\n",
    "conv1 = mx.sym.Convolution(data=data, kernel=(5,5), num_filter=20)\n",
    "tanh1 = mx.sym.Activation(data=conv1, act_type=\"tanh\")\n",
    "pool1 = mx.sym.Pooling(data=tanh1, pool_type=\"max\", kernel=(2,2), stride=(2,2))\n",
    "# second conv layer\n",
    "conv2 = mx.sym.Convolution(data=pool1, kernel=(5,5), num_filter=50)\n",
    "tanh2 = mx.sym.Activation(data=conv2, act_type=\"tanh\")\n",
    "pool2 = mx.sym.Pooling(data=tanh2, pool_type=\"max\", kernel=(2,2), stride=(2,2))\n",
    "# first fullc layer\n",
    "flatten = mx.sym.flatten(data=pool2)\n",
    "fc1 = mx.symbol.FullyConnected(data=flatten, num_hidden=500)\n",
    "tanh3 = mx.sym.Activation(data=fc1, act_type=\"tanh\")\n",
    "# second fullc\n",
    "fc2 = mx.sym.FullyConnected(data=tanh3, num_hidden=10)\n",
    "# softmax loss\n",
    "lenet = mx.sym.SoftmaxOutput(data=fc2, name='softmax')"
   ]
  },
  {
   "cell_type": "markdown",
   "metadata": {},
   "source": [
    "![png](https://raw.githubusercontent.com/dmlc/web-data/master/mxnet/image/conv_mnist.png)\n",
    "\n",
    "**Figure 3:** First conv + pooling layer in LeNet."
   ]
  },
  {
   "cell_type": "markdown",
   "metadata": {
    "deletable": true,
    "editable": true
   },
   "source": [
    "위 MLP에서 사용한 hyper-parameter 값을 동일하게 LeNet에 적용하는 코드입니다. \n",
    "\n",
    "#####  <font color='red'>문제</font>\n",
    "* 아래 코드를 GPU를 사용하도록 변경해보세요. (힌트, mx.gpu())"
   ]
  },
  {
   "cell_type": "code",
   "execution_count": 32,
   "metadata": {
    "collapsed": false,
    "deletable": true,
    "editable": true
   },
   "outputs": [
    {
     "name": "stderr",
     "output_type": "stream",
     "text": [
      "INFO:root:Epoch[0] Batch [100]\tSpeed: 1148.61 samples/sec\taccuracy=0.107525\n",
      "INFO:root:Epoch[0] Train-accuracy=0.104516\n",
      "INFO:root:Epoch[0] Time cost=14.015\n",
      "INFO:root:Epoch[0] Validation-accuracy=0.113500\n",
      "INFO:root:Epoch[1] Batch [100]\tSpeed: 1145.89 samples/sec\taccuracy=0.113663\n",
      "INFO:root:Epoch[1] Batch [200]\tSpeed: 1086.17 samples/sec\taccuracy=0.112900\n",
      "INFO:root:Epoch[1] Batch [300]\tSpeed: 1080.61 samples/sec\taccuracy=0.110100\n",
      "INFO:root:Epoch[1] Batch [400]\tSpeed: 923.52 samples/sec\taccuracy=0.113500\n",
      "INFO:root:Epoch[1] Batch [500]\tSpeed: 1108.78 samples/sec\taccuracy=0.116600\n",
      "INFO:root:Epoch[1] Train-accuracy=0.190909\n",
      "INFO:root:Epoch[1] Time cost=56.377\n",
      "INFO:root:Epoch[1] Validation-accuracy=0.490900\n",
      "INFO:root:Epoch[2] Batch [100]\tSpeed: 1041.26 samples/sec\taccuracy=0.687129\n",
      "INFO:root:Epoch[2] Batch [200]\tSpeed: 1000.69 samples/sec\taccuracy=0.874500\n",
      "INFO:root:Epoch[2] Batch [300]\tSpeed: 1174.69 samples/sec\taccuracy=0.904900\n",
      "INFO:root:Epoch[2] Batch [400]\tSpeed: 1164.34 samples/sec\taccuracy=0.929100\n",
      "INFO:root:Epoch[2] Batch [500]\tSpeed: 1172.87 samples/sec\taccuracy=0.938000\n",
      "INFO:root:Epoch[2] Train-accuracy=0.948182\n",
      "INFO:root:Epoch[2] Time cost=53.782\n",
      "INFO:root:Epoch[2] Validation-accuracy=0.957700\n",
      "INFO:root:Epoch[3] Batch [100]\tSpeed: 1169.29 samples/sec\taccuracy=0.954158\n",
      "INFO:root:Epoch[3] Batch [200]\tSpeed: 1155.81 samples/sec\taccuracy=0.961500\n",
      "INFO:root:Epoch[3] Batch [300]\tSpeed: 1161.50 samples/sec\taccuracy=0.964500\n",
      "INFO:root:Epoch[3] Batch [400]\tSpeed: 1160.22 samples/sec\taccuracy=0.967600\n",
      "INFO:root:Epoch[3] Batch [500]\tSpeed: 1166.68 samples/sec\taccuracy=0.969500\n",
      "INFO:root:Epoch[3] Train-accuracy=0.969192\n",
      "INFO:root:Epoch[3] Time cost=51.473\n",
      "INFO:root:Epoch[3] Validation-accuracy=0.977600\n",
      "INFO:root:Epoch[4] Batch [100]\tSpeed: 1166.48 samples/sec\taccuracy=0.971782\n",
      "INFO:root:Epoch[4] Batch [200]\tSpeed: 1171.03 samples/sec\taccuracy=0.974000\n",
      "INFO:root:Epoch[4] Batch [300]\tSpeed: 1174.21 samples/sec\taccuracy=0.978600\n",
      "INFO:root:Epoch[4] Batch [400]\tSpeed: 1170.48 samples/sec\taccuracy=0.976600\n",
      "INFO:root:Epoch[4] Batch [500]\tSpeed: 1178.43 samples/sec\taccuracy=0.978200\n",
      "INFO:root:Epoch[4] Train-accuracy=0.976970\n",
      "INFO:root:Epoch[4] Time cost=51.132\n",
      "INFO:root:Epoch[4] Validation-accuracy=0.982000\n",
      "INFO:root:Epoch[5] Batch [100]\tSpeed: 1174.55 samples/sec\taccuracy=0.978416\n",
      "INFO:root:Epoch[5] Batch [200]\tSpeed: 1174.03 samples/sec\taccuracy=0.979900\n",
      "INFO:root:Epoch[5] Batch [300]\tSpeed: 1080.90 samples/sec\taccuracy=0.982500\n",
      "INFO:root:Epoch[5] Batch [400]\tSpeed: 981.65 samples/sec\taccuracy=0.981500\n",
      "INFO:root:Epoch[5] Batch [500]\tSpeed: 1164.91 samples/sec\taccuracy=0.982400\n",
      "INFO:root:Epoch[5] Train-accuracy=0.981010\n",
      "INFO:root:Epoch[5] Time cost=57.306\n",
      "INFO:root:Epoch[5] Validation-accuracy=0.984700\n",
      "INFO:root:Epoch[6] Batch [100]\tSpeed: 1118.75 samples/sec\taccuracy=0.982376\n",
      "INFO:root:Epoch[6] Batch [200]\tSpeed: 1178.22 samples/sec\taccuracy=0.983200\n",
      "INFO:root:Epoch[6] Batch [300]\tSpeed: 1166.57 samples/sec\taccuracy=0.985600\n",
      "INFO:root:Epoch[6] Batch [400]\tSpeed: 1166.67 samples/sec\taccuracy=0.985500\n",
      "INFO:root:Epoch[6] Batch [500]\tSpeed: 1166.05 samples/sec\taccuracy=0.984600\n",
      "INFO:root:Epoch[6] Train-accuracy=0.984343\n",
      "INFO:root:Epoch[6] Time cost=51.669\n",
      "INFO:root:Epoch[6] Validation-accuracy=0.985900\n",
      "INFO:root:Epoch[7] Batch [100]\tSpeed: 1168.76 samples/sec\taccuracy=0.984554\n",
      "INFO:root:Epoch[7] Batch [200]\tSpeed: 1089.89 samples/sec\taccuracy=0.985900\n",
      "INFO:root:Epoch[7] Batch [300]\tSpeed: 1163.07 samples/sec\taccuracy=0.987600\n",
      "INFO:root:Epoch[7] Batch [400]\tSpeed: 1147.92 samples/sec\taccuracy=0.987100\n",
      "INFO:root:Epoch[7] Batch [500]\tSpeed: 1178.10 samples/sec\taccuracy=0.986500\n",
      "INFO:root:Epoch[7] Train-accuracy=0.985859\n",
      "INFO:root:Epoch[7] Time cost=52.125\n",
      "INFO:root:Epoch[7] Validation-accuracy=0.987400\n",
      "INFO:root:Epoch[8] Batch [100]\tSpeed: 1161.30 samples/sec\taccuracy=0.987030\n",
      "INFO:root:Epoch[8] Batch [200]\tSpeed: 1170.91 samples/sec\taccuracy=0.988300\n",
      "INFO:root:Epoch[8] Batch [300]\tSpeed: 1134.24 samples/sec\taccuracy=0.989600\n",
      "INFO:root:Epoch[8] Batch [400]\tSpeed: 1167.52 samples/sec\taccuracy=0.989800\n",
      "INFO:root:Epoch[8] Batch [500]\tSpeed: 1161.32 samples/sec\taccuracy=0.988900\n",
      "INFO:root:Epoch[8] Train-accuracy=0.987980\n",
      "INFO:root:Epoch[8] Time cost=53.205\n",
      "INFO:root:Epoch[8] Validation-accuracy=0.988100\n",
      "INFO:root:Epoch[9] Batch [100]\tSpeed: 1164.50 samples/sec\taccuracy=0.989307\n",
      "INFO:root:Epoch[9] Batch [200]\tSpeed: 953.38 samples/sec\taccuracy=0.989600\n",
      "INFO:root:Epoch[9] Batch [300]\tSpeed: 1186.19 samples/sec\taccuracy=0.991100\n",
      "INFO:root:Epoch[9] Batch [400]\tSpeed: 939.65 samples/sec\taccuracy=0.991500\n",
      "INFO:root:Epoch[9] Batch [500]\tSpeed: 639.95 samples/sec\taccuracy=0.990700\n",
      "INFO:root:Epoch[9] Train-accuracy=0.989495\n",
      "INFO:root:Epoch[9] Time cost=64.600\n",
      "INFO:root:Epoch[9] Validation-accuracy=0.987800\n"
     ]
    },
    {
     "name": "stdout",
     "output_type": "stream",
     "text": [
      "[0.059999999999999998, 0.074999999999999997, 0.10333333333333333, 0.11, 0.104, 0.10000000000000001, 0.10428571428571429, 0.10875, 0.11333333333333333, 0.111, 0.11, 0.1075, 0.10461538461538461, 0.10428571428571429, 0.104, 0.10125000000000001, 0.10352941176470588, 0.10388888888888889, 0.10526315789473684, 0.104, 0.10285714285714286, 0.10454545454545454, 0.10391304347826087, 0.10208333333333333, 0.1024, 0.10307692307692308, 0.1025925925925926, 0.10535714285714286, 0.10724137931034483, 0.109, 0.11032258064516129, 0.11125, 0.11, 0.10882352941176471, 0.10971428571428571, 0.10972222222222222, 0.10864864864864865, 0.10894736842105263, 0.1082051282051282, 0.10925, 0.10926829268292683, 0.10785714285714286, 0.10906976744186046, 0.10909090909090909, 0.10933333333333334, 0.10978260869565218, 0.11042553191489361, 0.10958333333333334, 0.1089795918367347, 0.108, 0.10725490196078431, 0.10711538461538461, 0.10754716981132076, 0.10759259259259259, 0.10745454545454546, 0.10696428571428572, 0.1075438596491228, 0.10689655172413794, 0.10610169491525424, 0.10683333333333334, 0.10622950819672131, 0.10596774193548388, 0.10666666666666667, 0.1071875, 0.10753846153846154, 0.10772727272727273, 0.10805970149253731, 0.10852941176470589, 0.10840579710144928, 0.108, 0.10788732394366198, 0.1076388888888889, 0.10684931506849316, 0.1072972972972973, 0.10773333333333333, 0.10736842105263159, 0.1074025974025974, 0.10692307692307693, 0.10683544303797468, 0.1075, 0.10740740740740741, 0.10695121951219512, 0.10722891566265061, 0.10678571428571429, 0.10694117647058823, 0.10802325581395349, 0.10735632183908046, 0.10727272727272727, 0.10707865168539325, 0.10744444444444444, 0.10725274725274725, 0.1075, 0.10720430107526882, 0.10680851063829787, 0.10694736842105264, 0.1065625, 0.10711340206185567, 0.10724489795918367, 0.10727272727272727, 0.1074, nan, 0.10000000000000001, 0.080000000000000002, 0.08666666666666667, 0.087499999999999994, 0.084000000000000005, 0.085000000000000006, 0.09285714285714286, 0.091249999999999998, 0.089999999999999997, 0.091999999999999998, 0.095454545454545459, 0.10000000000000001, 0.10076923076923076, 0.10214285714285715, 0.10466666666666667, 0.10249999999999999, 0.099411764705882352, 0.097777777777777783, 0.10000000000000001, 0.10000000000000001, 0.1019047619047619, 0.1040909090909091, 0.10652173913043478, 0.10541666666666667, 0.106, 0.10807692307692307, 0.10703703703703704, 0.1075, 0.10689655172413794, 0.10633333333333334, 0.10451612903225807, 0.10000000000000001, 0.13, 0.12, 0.1275, 0.12, 0.11666666666666667, 0.11714285714285715, 0.11, 0.12, 0.114, 0.11545454545454545, 0.12, 0.12, 0.11642857142857142, 0.11666666666666667, 0.115, 0.11411764705882353, 0.11444444444444445, 0.11315789473684211, 0.1135, 0.11142857142857143, 0.11181818181818182, 0.11434782608695652, 0.11208333333333333, 0.1152, 0.11384615384615385, 0.11407407407407408, 0.11357142857142857, 0.11241379310344828, 0.112, 0.1132258064516129, 0.11375, 0.11272727272727273, 0.11352941176470588, 0.11428571428571428, 0.11305555555555556, 0.11378378378378379, 0.11315789473684211, 0.11487179487179487, 0.114, 0.11341463414634147, 0.11404761904761905, 0.11488372093023255, 0.11477272727272728, 0.11511111111111111, 0.11521739130434783, 0.11468085106382979, 0.114375, 0.11428571428571428, 0.114, 0.11352941176470588, 0.11346153846153846, 0.1130188679245283, 0.11185185185185186, 0.11127272727272727, 0.11053571428571428, 0.11105263157894738, 0.11137931034482759, 0.11186440677966102, 0.11166666666666666, 0.11163934426229508, 0.11193548387096774, 0.11174603174603175, 0.11171875000000001, 0.11261538461538462, 0.11272727272727273, 0.11194029850746269, 0.11205882352941177, 0.11246376811594203, 0.11285714285714285, 0.1128169014084507, 0.11305555555555556, 0.11273972602739726, 0.1122972972972973, 0.11306666666666666, 0.11315789473684211, 0.11285714285714285, 0.11294871794871796, 0.11341772151898734, 0.114, 0.11358024691358025, 0.11353658536585366, 0.11325301204819277, 0.11392857142857143, 0.11388235294117648, 0.11395348837209303, 0.1135632183908046, 0.11329545454545455, 0.11280898876404494, 0.11266666666666666, 0.11318681318681319, 0.11315217391304348, 0.11333333333333333, 0.11351063829787233, 0.11378947368421052, 0.11364583333333333, 0.11412371134020619, 0.11438775510204081, 0.11404040404040404, 0.11360000000000001, nan, 0.12, 0.14499999999999999, 0.14333333333333334, 0.13250000000000001, 0.13, 0.12833333333333333, 0.12142857142857143, 0.11625000000000001, 0.11444444444444445, 0.114, 0.11, 0.10916666666666666, 0.1076923076923077, 0.11, 0.10866666666666666, 0.1075, 0.11058823529411765, 0.11333333333333333, 0.11368421052631579, 0.114, 0.11333333333333333, 0.11409090909090909, 0.11478260869565217, 0.11416666666666667, 0.11360000000000001, 0.11307692307692307, 0.11407407407407408, 0.11428571428571428, 0.11448275862068966, 0.11433333333333333, 0.11387096774193549, 0.11625000000000001, 0.11606060606060606, 0.115, 0.11485714285714285, 0.11472222222222223, 0.11378378378378379, 0.11368421052631579, 0.11333333333333333, 0.113, 0.11365853658536586, 0.11476190476190476, 0.11534883720930232, 0.11431818181818182, 0.11533333333333333, 0.11565217391304349, 0.11531914893617021, 0.11458333333333333, 0.11428571428571428, 0.114, 0.11411764705882353, 0.11403846153846153, 0.11358490566037736, 0.11425925925925925, 0.11454545454545455, 0.11410714285714285, 0.11298245614035088, 0.11344827586206896, 0.11355932203389831, 0.11383333333333333, 0.11377049180327869, 0.11370967741935484, 0.11444444444444445, 0.11453125, 0.1143076923076923, 0.11378787878787879, 0.11492537313432835, 0.11455882352941177, 0.11449275362318841, 0.11428571428571428, 0.11380281690140845, 0.11388888888888889, 0.11397260273972602, 0.11351351351351352, 0.11333333333333333, 0.11342105263157895, 0.11402597402597403, 0.11384615384615385, 0.11430379746835444, 0.113375, 0.11345679012345679, 0.11402439024390244, 0.11397590361445784, 0.11369047619047619, 0.11388235294117648, 0.11348837209302326, 0.11379310344827587, 0.11409090909090909, 0.11370786516853933, 0.11322222222222222, 0.11296703296703296, 0.11326086956521739, 0.11333333333333333, 0.11319148936170213, 0.11315789473684211, 0.11354166666666667, 0.1134020618556701, 0.11326530612244898, 0.11313131313131314, nan, 0.10000000000000001, 0.10000000000000001, 0.096666666666666665, 0.10000000000000001, 0.10000000000000001, 0.10000000000000001, 0.10285714285714286, 0.10249999999999999, 0.10222222222222223, 0.104, 0.10818181818181818, 0.11, 0.10846153846153846, 0.10571428571428572, 0.108, 0.109375, 0.11235294117647059, 0.11444444444444445, 0.11631578947368421, 0.1145, 0.11238095238095239, 0.11090909090909092, 0.1108695652173913, 0.11041666666666666, 0.10920000000000001, 0.11038461538461539, 0.11148148148148149, 0.11107142857142857, 0.1103448275862069, 0.11, 0.11064516129032258, 0.11031249999999999, 0.11060606060606061, 0.11, 0.11114285714285714, 0.10944444444444444, 0.10918918918918918, 0.10921052631578948, 0.10948717948717948, 0.108, 0.10780487804878049, 0.10785714285714286, 0.10813953488372093, 0.10795454545454546, 0.10866666666666666, 0.10869565217391304, 0.10872340425531915, 0.11, 0.10918367346938776, 0.10920000000000001, 0.10901960784313726, 0.10903846153846154, 0.10886792452830189, 0.10944444444444444, 0.11036363636363636, 0.11035714285714286, 0.11070175438596491, 0.11120689655172414, 0.11169491525423729, 0.11133333333333334, 0.11131147540983606, 0.11064516129032258, 0.11063492063492064, 0.11125, 0.11123076923076923, 0.11151515151515151, 0.11164179104477612, 0.11058823529411765, 0.11057971014492754, 0.11014285714285714, 0.10985915492957747, 0.10986111111111112, 0.10904109589041096, 0.10918918918918918, 0.10933333333333334, 0.10960526315789473, 0.10948051948051948, 0.10974358974358975, 0.10987341772151898, 0.11, 0.10975308641975309, 0.1101219512195122, 0.11012048192771084, 0.10988095238095238, 0.11023529411764706, 0.11046511627906977, 0.11057471264367816, 0.11068181818181819, 0.11089887640449438, 0.11055555555555556, 0.11098901098901098, 0.11054347826086956, 0.11, 0.10978723404255319, 0.10947368421052632, 0.109375, 0.10958762886597938, 0.10989795918367347, 0.1102020202020202, nan, 0.16, 0.115, 0.10666666666666667, 0.1075, 0.106, 0.10833333333333334, 0.11, 0.10875, 0.10777777777777778, 0.107, 0.11, 0.10666666666666667, 0.10923076923076923, 0.11071428571428571, 0.10866666666666666, 0.10875, 0.11, 0.10833333333333334, 0.11052631578947368, 0.1095, 0.11285714285714285, 0.11272727272727273, 0.11260869565217391, 0.11291666666666667, 0.1132, 0.11461538461538462, 0.1162962962962963, 0.11749999999999999, 0.11793103448275861, 0.11566666666666667, 0.11516129032258064, 0.114375, 0.11545454545454545, 0.11352941176470588, 0.11342857142857143, 0.1125, 0.11162162162162162, 0.11421052631578947, 0.11512820512820512, 0.11475, 0.11341463414634147, 0.11357142857142857, 0.11372093023255814, 0.11272727272727273, 0.11311111111111111, 0.11260869565217391, 0.11404255319148936, 0.11479166666666667, 0.11408163265306122, 0.1138, 0.11274509803921569, 0.11346153846153846, 0.11377358490566038, 0.11444444444444445, 0.11490909090909091, 0.11571428571428571, 0.11578947368421053, 0.1153448275862069, 0.11542372881355932, 0.11566666666666667, 0.11573770491803279, 0.11564516129032258, 0.11634920634920635, 0.1165625, 0.11600000000000001, 0.11621212121212121, 0.1155223880597015, 0.11573529411764706, 0.11579710144927537, 0.11600000000000001, 0.11661971830985915, 0.11611111111111111, 0.11616438356164384, 0.11554054054054054, 0.11586666666666667, 0.11605263157894737, 0.11532467532467533, 0.11551282051282051, 0.11544303797468354, 0.11512500000000001, 0.11530864197530864, 0.11548780487804879, 0.11602409638554217, 0.11547619047619048, 0.11529411764705882, 0.11546511627906977, 0.11505747126436781, 0.11488636363636363, 0.1146067415730337, 0.115, 0.11505494505494505, 0.11510869565217391, 0.11473118279569892, 0.11446808510638298, 0.11421052631578947, 0.11364583333333333, 0.11391752577319587, 0.11387755102040817, 0.11363636363636363, nan, 0.20000000000000001, 0.13500000000000001, 0.12666666666666668, 0.12, 0.122, 0.12, 0.11285714285714285, 0.1125, 0.11555555555555555, 0.11700000000000001, 0.11727272727272728, 0.125, 0.12461538461538461, 0.12428571428571429, 0.12066666666666667, 0.11812499999999999, 0.11941176470588236, 0.11666666666666667, 0.11842105263157894, 0.11749999999999999, 0.1180952380952381, 0.11909090909090909, 0.11782608695652173, 0.11749999999999999, 0.11600000000000001, 0.11576923076923076, 0.11777777777777777, 0.11607142857142858, 0.11551724137931034, 0.115, 0.11419354838709678, 0.115, 0.11393939393939394, 0.11705882352941177, 0.11828571428571429, 0.11861111111111111, 0.11810810810810811, 0.11921052631578948, 0.11846153846153847, 0.11824999999999999, 0.11682926829268293, 0.1169047619047619, 0.11767441860465117, 0.11704545454545455, 0.11666666666666667, 0.11652173913043479, 0.11595744680851064, 0.11645833333333333, 0.11591836734693878, 0.11559999999999999, 0.11549019607843138, 0.11538461538461539, 0.11509433962264151, 0.11518518518518518, 0.11600000000000001, 0.11535714285714285, 0.11649122807017544, 0.11655172413793104, 0.11627118644067796, 0.11550000000000001, 0.11524590163934426, 0.11532258064516129, 0.11507936507936507, 0.1153125, 0.11492307692307692, 0.11515151515151516, 0.11611940298507463, 0.1161764705882353, 0.11565217391304349, 0.11485714285714285, 0.1147887323943662, 0.11472222222222223, 0.1147945205479452, 0.11459459459459459, 0.11466666666666667, 0.11421052631578947, 0.11454545454545455, 0.11435897435897435, 0.11468354430379747, 0.11475, 0.11493827160493827, 0.11463414634146342, 0.11518072289156626, 0.11511904761904762, 0.11505882352941177, 0.11534883720930232, 0.1157471264367816, 0.11534090909090909, 0.1147191011235955, 0.11444444444444445, 0.11428571428571428, 0.11434782608695652, 0.11462365591397849, 0.1148936170212766, 0.11557894736842106, 0.11604166666666667, 0.11649484536082474, 0.11683673469387755, 0.11707070707070708, nan, 0.070000000000000007, 0.105, 0.10666666666666667, 0.097500000000000003, 0.10199999999999999, 0.098333333333333328, 0.10571428571428572, 0.10625, 0.10000000000000001, 0.106, 0.10636363636363637, 0.1075, 0.10923076923076923, 0.11142857142857143, 0.10866666666666666, 0.106875, 0.10411764705882352, 0.10222222222222223, 0.10210526315789474, 0.10349999999999999, 0.10380952380952381, 0.10363636363636364, 0.10260869565217391, 0.10416666666666667, 0.1028, 0.10115384615384615, 0.10296296296296296, 0.10178571428571428, 0.10137931034482758, 0.10299999999999999, 0.10419354838709677, 0.105, 0.10545454545454545, 0.10617647058823529, 0.10714285714285714, 0.10694444444444444, 0.10621621621621621, 0.10605263157894737, 0.10564102564102563, 0.10425, 0.10512195121951219, 0.10595238095238095, 0.10534883720930233, 0.10545454545454545, 0.10466666666666667, 0.105, 0.10617021276595745, 0.10604166666666667, 0.10530612244897959, 0.10639999999999999, 0.10647058823529412, 0.10730769230769231, 0.10962264150943396, 0.10944444444444444, 0.11109090909090909, 0.11142857142857143, 0.1143859649122807, 0.11637931034482758, 0.11915254237288135, 0.12083333333333333, 0.12344262295081967, 0.12596774193548388, 0.12682539682539681, 0.13046874999999999, 0.13153846153846155, 0.13393939393939394, 0.13552238805970149, 0.13897058823529412, 0.14057971014492754, 0.14214285714285715, 0.14422535211267606, 0.14583333333333334, 0.14767123287671233, 0.14905405405405406, 0.15079999999999999, 0.15184210526315789, 0.15337662337662339, 0.15435897435897436, 0.15620253164556963, 0.15712499999999999, 0.15950617283950616, 0.16109756097560976, 0.16156626506024097, 0.16250000000000001, 0.16435294117647059, 0.1655813953488372, 0.1667816091954023, 0.16818181818181818, 0.17011235955056181, 0.17155555555555554, 0.17373626373626375, 0.1758695652173913, 0.17698924731182797, 0.17882978723404255, 0.18073684210526317, 0.18302083333333333, 0.18577319587628865, 0.18846938775510205, 0.19090909090909092, 0.48999999999999999, 0.495, 0.45333333333333331, 0.45000000000000001, 0.45200000000000001, 0.44833333333333331, 0.44857142857142857, 0.4425, 0.44888888888888889, 0.437, 0.44272727272727275, 0.44416666666666665, 0.44538461538461538, 0.44928571428571429, 0.44733333333333336, 0.450625, 0.45000000000000001, 0.4572222222222222, 0.45736842105263159, 0.46250000000000002, 0.46095238095238095, 0.46136363636363636, 0.46217391304347827, 0.46750000000000003, 0.4768, 0.47692307692307695, 0.47962962962962963, 0.48142857142857143, 0.48448275862068968, 0.48833333333333334, 0.49193548387096775, 0.49281249999999999, 0.49909090909090909, 0.50294117647058822, 0.50742857142857145, 0.51194444444444442, 0.51675675675675681, 0.51973684210526316, 0.52589743589743587, 0.52875000000000005, 0.53243902439024393, 0.53761904761904766, 0.5430232558139535, 0.5470454545454545, 0.55155555555555558, 0.55456521739130438, 0.55617021276595746, 0.55812499999999998, 0.56020408163265301, 0.56440000000000001, 0.56803921568627447, 0.57384615384615389, 0.57641509433962268, 0.57944444444444443, 0.58199999999999996, 0.5848214285714286, 0.58736842105263154, 0.59120689655172409, 0.59457627118644063, 0.59733333333333338, 0.60032786885245903, 0.60387096774193549, 0.60698412698412696, 0.60999999999999999, 0.61184615384615382, 0.61439393939393938, 0.61716417910447763, 0.61970588235294122, 0.62217391304347824, 0.62471428571428567, 0.62661971830985919, 0.62847222222222221, 0.63041095890410959, 0.63229729729729733, 0.63519999999999999, 0.63789473684210529, 0.6401298701298701, 0.642948717948718, 0.64506329113924055, 0.64687499999999998, 0.64938271604938269, 0.65170731707317076, 0.65385542168674704, 0.65607142857142853, 0.65835294117647059, 0.66046511627906979, 0.66275862068965519, 0.66386363636363632, 0.66561797752808993, 0.66733333333333333, 0.66901098901098899, 0.67108695652173911, 0.67354838709677423, 0.67531914893617018, 0.67715789473684207, 0.67895833333333333, 0.68072164948453606, 0.68265306122448977, 0.68464646464646461, 0.68640000000000001, nan, 0.84999999999999998, 0.84999999999999998, 0.84666666666666668, 0.86499999999999999, 0.872, 0.86166666666666669, 0.8471428571428572, 0.85124999999999995, 0.85222222222222221, 0.84999999999999998, 0.84818181818181815, 0.84750000000000003, 0.85076923076923072, 0.85214285714285709, 0.84999999999999998, 0.84875, 0.84882352941176475, 0.84888888888888892, 0.84684210526315784, 0.84850000000000003, 0.84761904761904761, 0.84954545454545449, 0.84956521739130431, 0.85041666666666671, 0.84960000000000002, 0.85153846153846158, 0.85222222222222221, 0.85107142857142859, 0.8510344827586207, 0.85266666666666668, 0.85387096774193549, 0.85375000000000001, 0.85030303030303034, 0.84941176470588231, 0.85057142857142853, 0.85055555555555551, 0.85135135135135132, 0.85236842105263155, 0.85384615384615381, 0.85550000000000004, 0.85585365853658535, 0.8571428571428571, 0.85558139534883726, 0.85636363636363633, 0.85777777777777775, 0.85847826086956525, 0.85765957446808516, 0.85875000000000001, 0.8593877551020408, 0.85940000000000005, 0.86039215686274506, 0.86115384615384616, 0.86283018867924532, 0.86314814814814811, 0.86309090909090913, 0.86357142857142855, 0.86350877192982456, 0.86379310344827587, 0.86288135593220339, 0.86233333333333329, 0.86311475409836069, 0.86354838709677417, 0.86238095238095236, 0.86359375000000005, 0.86338461538461542, 0.86378787878787877, 0.86462686567164182, 0.86588235294117644, 0.86594202898550721, 0.86699999999999999, 0.8671830985915493, 0.86652777777777779, 0.86698630136986299, 0.86756756756756759, 0.86786666666666668, 0.86855263157894735, 0.86922077922077923, 0.86948717948717946, 0.86987341772151894, 0.87037500000000001, 0.87061728395061733, 0.87121951219512195, 0.87180722891566265, 0.87202380952380953, 0.87223529411764711, 0.87232558139534888, 0.87275862068965515, 0.87250000000000005, 0.87258426966292135, 0.87244444444444447, 0.87252747252747254, 0.87260869565217392, 0.87268817204301075, 0.87308510638297876, 0.87326315789473685, 0.87385416666666671, 0.87402061855670099, 0.87397959183673468, 0.87444444444444447, nan, 0.95999999999999996, 0.91000000000000003, 0.90333333333333332, 0.90500000000000003, 0.90000000000000002, 0.89833333333333332, 0.88857142857142857, 0.88749999999999996, 0.88666666666666671, 0.88700000000000001, 0.88727272727272732, 0.89166666666666672, 0.89000000000000001, 0.88928571428571423, 0.89133333333333331, 0.89000000000000001, 0.88823529411764701, 0.89111111111111108, 0.89263157894736844, 0.89400000000000002, 0.89380952380952383, 0.8954545454545455, 0.89608695652173909, 0.89624999999999999, 0.89359999999999995, 0.89500000000000002, 0.89555555555555555, 0.8967857142857143, 0.89689655172413796, 0.89933333333333332, 0.89935483870967747, 0.89906249999999999, 0.89818181818181819, 0.89970588235294113, 0.90000000000000002, 0.89833333333333332, 0.89891891891891895, 0.89973684210526317, 0.89923076923076928, 0.89875000000000005, 0.89829268292682929, 0.89880952380952384, 0.89953488372093027, 0.89886363636363631, 0.89977777777777779, 0.90021739130434786, 0.89957446808510644, 0.90000000000000002, 0.89938775510204083, 0.89939999999999998, 0.89960784313725495, 0.89903846153846156, 0.89981132075471693, 0.89944444444444449, 0.89909090909090905, 0.89910714285714288, 0.89982456140350875, 0.89982758620689651, 0.89983050847457624, 0.89983333333333337, 0.89967213114754097, 0.90048387096774196, 0.90095238095238095, 0.90140624999999996, 0.90200000000000002, 0.9021212121212121, 0.90179104477611938, 0.9019117647058823, 0.9007246376811594, 0.90071428571428569, 0.90042253521126758, 0.90055555555555555, 0.90027397260273978, 0.89945945945945949, 0.89959999999999996, 0.90052631578947373, 0.90103896103896108, 0.90179487179487183, 0.90202531645569617, 0.90262500000000001, 0.90308641975308646, 0.9031707317073171, 0.90289156626506029, 0.90261904761904765, 0.90270588235294114, 0.90360465116279065, 0.90390804597701147, 0.90454545454545454, 0.90438202247191013, 0.90433333333333332, 0.90450549450549456, 0.90445652173913038, 0.90462365591397853, 0.90500000000000003, 0.90484210526315789, 0.90510416666666671, 0.90525773195876291, 0.90489795918367344, 0.90515151515151515, nan, 0.92000000000000004, 0.91000000000000003, 0.92333333333333334, 0.92249999999999999, 0.91800000000000004, 0.92000000000000004, 0.92000000000000004, 0.92374999999999996, 0.9211111111111111, 0.92500000000000004, 0.92636363636363639, 0.92416666666666669, 0.92461538461538462, 0.92500000000000004, 0.92400000000000004, 0.92500000000000004, 0.92529411764705882, 0.92555555555555558, 0.92526315789473679, 0.92349999999999999, 0.92571428571428571, 0.92500000000000004, 0.92521739130434788, 0.92541666666666667, 0.92400000000000004, 0.9226923076923077, 0.92333333333333334, 0.92249999999999999, 0.92241379310344829, 0.92333333333333334, 0.92290322580645157, 0.92093749999999996, 0.92121212121212126, 0.92029411764705882, 0.92142857142857137, 0.92194444444444446, 0.92162162162162165, 0.9213157894736842, 0.92153846153846153, 0.92174999999999996, 0.92317073170731712, 0.92404761904761901, 0.92418604651162795, 0.92386363636363633, 0.92333333333333334, 0.92304347826086952, 0.92340425531914894, 0.92333333333333334, 0.92285714285714282, 0.92279999999999995, 0.92313725490196075, 0.92403846153846159, 0.92433962264150948, 0.92481481481481487, 0.92527272727272725, 0.92571428571428571, 0.92543859649122806, 0.92534482758620684, 0.92559322033898306, 0.92616666666666669, 0.92622950819672134, 0.92645161290322575, 0.92698412698412702, 0.92703124999999997, 0.92784615384615388, 0.92803030303030298, 0.92835820895522392, 0.92794117647058827, 0.92869565217391303, 0.92900000000000005, 0.92915492957746482, 0.92902777777777779, 0.92863013698630137, 0.92878378378378379, 0.92933333333333334, 0.92868421052631578, 0.92805194805194802, 0.92794871794871792, 0.92784810126582273, 0.92712499999999998, 0.92777777777777781, 0.92817073170731712, 0.92855421686746986, 0.92821428571428577, 0.92800000000000005, 0.92825581395348833, 0.92816091954022983, 0.92829545454545459, 0.92831460674157307, 0.92800000000000005, 0.92824175824175825, 0.92869565217391303, 0.92881720430107528, 0.92914893617021277, 0.92905263157894735, 0.92885416666666665, 0.92886597938144333, 0.92887755102040814, 0.92919191919191924, nan, 0.93999999999999995, 0.93000000000000005, 0.92333333333333334, 0.92749999999999999, 0.92600000000000005, 0.92166666666666663, 0.92428571428571427, 0.92874999999999996, 0.93222222222222217, 0.93400000000000005, 0.93090909090909091, 0.93166666666666664, 0.93384615384615388, 0.93500000000000005, 0.93666666666666665, 0.93437499999999996, 0.9341176470588235, 0.93444444444444441, 0.93421052631578949, 0.93300000000000005, 0.93476190476190479, 0.93272727272727274, 0.93434782608695655, 0.93500000000000005, 0.93520000000000003, 0.93615384615384611, 0.93481481481481477, 0.93357142857142861, 0.93344827586206891, 0.93366666666666664, 0.93258064516129036, 0.93281250000000004, 0.93242424242424238, 0.93323529411764705, 0.93285714285714283, 0.93277777777777782, 0.93351351351351353, 0.93421052631578949, 0.9343589743589743, 0.93374999999999997, 0.9339024390243903, 0.93380952380952376, 0.93372093023255809, 0.93386363636363634, 0.93377777777777782, 0.93391304347826087, 0.93340425531914895, 0.9341666666666667, 0.93448979591836734, 0.93379999999999996, 0.93352941176470583, 0.93384615384615388, 0.93264150943396229, 0.93333333333333335, 0.93254545454545457, 0.9325, 0.93263157894736837, 0.93327586206896551, 0.93288135593220334, 0.93300000000000005, 0.93327868852459017, 0.93354838709677423, 0.93412698412698414, 0.93421874999999999, 0.93430769230769228, 0.93439393939393944, 0.93477611940298511, 0.93441176470588239, 0.93420289855072469, 0.93400000000000005, 0.93380281690140843, 0.93361111111111106, 0.93356164383561646, 0.9336486486486486, 0.93359999999999999, 0.93342105263157893, 0.93389610389610389, 0.9342307692307692, 0.9344303797468354, 0.93462500000000004, 0.9345679012345679, 0.93451219512195127, 0.93457831325301199, 0.93511904761904763, 0.93505882352941172, 0.93534883720930229, 0.93563218390804592, 0.93590909090909091, 0.93561797752808984, 0.93600000000000005, 0.93637362637362642, 0.93695652173913047, 0.93666666666666665, 0.93680851063829784, 0.93715789473684208, 0.93729166666666663, 0.93773195876288662, 0.93775510204081636, 0.93787878787878787, nan, 0.94999999999999996, 0.96499999999999997, 0.94999999999999996, 0.94999999999999996, 0.94799999999999995, 0.93999999999999995, 0.93857142857142861, 0.93625000000000003, 0.93444444444444441, 0.93799999999999994, 0.9363636363636364, 0.93083333333333329, 0.93230769230769228, 0.93285714285714283, 0.93066666666666664, 0.93125000000000002, 0.93529411764705883, 0.93555555555555558, 0.93631578947368421, 0.9355, 0.93619047619047624, 0.93772727272727274, 0.93869565217391304, 0.9375, 0.93679999999999997, 0.93615384615384611, 0.93518518518518523, 0.93535714285714289, 0.93482758620689654, 0.93566666666666665, 0.93677419354838709, 0.93687500000000001, 0.93757575757575762, 0.93823529411764706, 0.93857142857142861, 0.93888888888888888, 0.93945945945945941, 0.94052631578947365, 0.94102564102564101, 0.9395, 0.94048780487804873, 0.94047619047619047, 0.94162790697674414, 0.94227272727272726, 0.94266666666666665, 0.94239130434782614, 0.94255319148936167, 0.94270833333333337, 0.94285714285714284, 0.94279999999999997, 0.94313725490196076, 0.94326923076923075, 0.94283018867924528, 0.942962962962963, 0.94381818181818178, 0.94428571428571428, 0.94456140350877194, 0.94482758620689655, 0.94508474576271184, 0.9448333333333333, 0.94491803278688524, 0.94548387096774189, 0.94587301587301587, 0.94593749999999999, 0.94661538461538464, 0.94681818181818178, 0.94686567164179103, 0.94691176470588234, 0.94724637681159418, 0.9474285714285714, 0.94732394366197181, 0.94763888888888892, 0.94753424657534246, 0.947972972972973, 0.94813333333333338, 0.94815789473684209, 0.94818181818181824, 0.94833333333333336, 0.94822784810126581, 0.948125, 0.94864197530864203, 0.948780487804878, 0.94891566265060245, 0.94904761904761903, 0.94858823529411762, 0.94860465116279069, 0.94827586206896552, 0.94806818181818187, 0.9482022471910112, 0.94799999999999995, 0.94835164835164831, 0.94847826086956522, 0.94817204301075264, 0.94840425531914896, 0.94852631578947366, 0.94833333333333336, 0.9482474226804124, 0.94785714285714284, 0.94818181818181824, 0.96999999999999997, 0.95499999999999996, 0.95666666666666667, 0.94999999999999996, 0.94999999999999996, 0.94999999999999996, 0.94999999999999996, 0.94499999999999995, 0.94555555555555559, 0.94599999999999995, 0.94727272727272727, 0.94416666666666671, 0.94384615384615389, 0.94499999999999995, 0.94599999999999995, 0.94750000000000001, 0.94999999999999996, 0.95111111111111113, 0.94999999999999996, 0.94699999999999995, 0.94714285714285718, 0.94727272727272727, 0.94739130434782604, 0.94666666666666666, 0.94799999999999995, 0.94769230769230772, 0.94814814814814818, 0.94857142857142862, 0.94931034482758625, 0.94799999999999995, 0.94838709677419353, 0.94656249999999997, 0.94696969696969702, 0.94735294117647062, 0.94771428571428573, 0.94833333333333336, 0.94891891891891889, 0.94947368421052636, 0.94871794871794868, 0.94799999999999995, 0.948780487804878, 0.9480952380952381, 0.94860465116279069, 0.94886363636363635, 0.94933333333333336, 0.94999999999999996, 0.94978723404255316, 0.95020833333333332, 0.95061224489795915, 0.95099999999999996, 0.95156862745098036, 0.95192307692307687, 0.95207547169811324, 0.95203703703703701, 0.95181818181818179, 0.95178571428571423, 0.95210526315789479, 0.9522413793103448, 0.95203389830508478, 0.95166666666666666, 0.95163934426229513, 0.95225806451612904, 0.95222222222222219, 0.95218749999999996, 0.95199999999999996, 0.95227272727272727, 0.95253731343283587, 0.95235294117647062, 0.95231884057971017, 0.95228571428571429, 0.95281690140845066, 0.9523611111111111, 0.95232876712328762, 0.95229729729729728, 0.95173333333333332, 0.95210526315789479, 0.95259740259740255, 0.95269230769230773, 0.95278481012658223, 0.95299999999999996, 0.95308641975308639, 0.95317073170731703, 0.95301204819277108, 0.95273809523809527, 0.95305882352941174, 0.95232558139534884, 0.95252873563218388, 0.95284090909090913, 0.95325842696629215, 0.95344444444444443, 0.95373626373626375, 0.95413043478260873, 0.95451612903225802, 0.95457446808510638, 0.95463157894736839, 0.95479166666666671, 0.95474226804123707, 0.95499999999999996, 0.95505050505050504, 0.95450000000000002, nan, 0.98999999999999999, 0.98499999999999999, 0.97666666666666668, 0.97750000000000004, 0.96999999999999997, 0.96166666666666667, 0.95857142857142852, 0.95999999999999996, 0.96333333333333337, 0.96499999999999997, 0.96545454545454545, 0.96666666666666667, 0.96846153846153848, 0.97071428571428575, 0.97066666666666668, 0.96999999999999997, 0.96941176470588231, 0.96777777777777774, 0.96789473684210525, 0.96799999999999997, 0.96666666666666667, 0.96590909090909094, 0.96565217391304348, 0.96499999999999997, 0.96519999999999995, 0.96615384615384614, 0.9655555555555555, 0.96464285714285714, 0.96517241379310348, 0.96499999999999997, 0.96483870967741936, 0.96468750000000003, 0.96424242424242423, 0.9644117647058823, 0.96399999999999997, 0.96361111111111108, 0.96405405405405409, 0.96342105263157896, 0.96307692307692305, 0.96274999999999999, 0.96292682926829265, 0.96309523809523812, 0.96279069767441861, 0.96227272727272728, 0.9622222222222222, 0.96195652173913049, 0.96212765957446811, 0.96208333333333329, 0.96244897959183673, 0.96279999999999999, 0.96294117647058819, 0.96326923076923077, 0.96358490566037736, 0.96351851851851855, 0.9638181818181818, 0.96392857142857147, 0.96368421052631581, 0.96310344827586203, 0.96254237288135591, 0.96233333333333337, 0.96262295081967209, 0.96258064516129027, 0.96190476190476193, 0.96187500000000004, 0.96138461538461539, 0.96136363636363631, 0.9616417910447761, 0.96191176470588236, 0.96173913043478265, 0.96214285714285719, 0.96197183098591554, 0.96180555555555558, 0.96178082191780823, 0.96148648648648649, 0.96186666666666665, 0.96210526315789469, 0.96246753246753247, 0.96243589743589741, 0.96215189873417717, 0.96199999999999997, 0.96209876543209871, 0.96243902439024387, 0.96216867469879519, 0.96214285714285719, 0.96199999999999997, 0.9618604651162791, 0.96206896551724141, 0.96170454545454542, 0.96157303370786518, 0.96144444444444443, 0.96120879120879121, 0.96130434782608698, 0.96118279569892473, 0.96106382978723404, 0.96126315789473682, 0.96135416666666662, 0.96144329896907221, 0.96122448979591835, 0.96141414141414139, nan, 0.98999999999999999, 0.95999999999999996, 0.94999999999999996, 0.95499999999999996, 0.95999999999999996, 0.95666666666666667, 0.95999999999999996, 0.96125000000000005, 0.96333333333333337, 0.96199999999999997, 0.95999999999999996, 0.96166666666666667, 0.96076923076923082, 0.95999999999999996, 0.96066666666666667, 0.95874999999999999, 0.95882352941176474, 0.96055555555555561, 0.96052631578947367, 0.96150000000000002, 0.96238095238095234, 0.96318181818181814, 0.96260869565217388, 0.96208333333333329, 0.96160000000000001, 0.96192307692307688, 0.96259259259259256, 0.96285714285714286, 0.96310344827586203, 0.96399999999999997, 0.96451612903225803, 0.96468750000000003, 0.96454545454545459, 0.96470588235294119, 0.96457142857142852, 0.96388888888888891, 0.96405405405405409, 0.96447368421052626, 0.9638461538461538, 0.96450000000000002, 0.96487804878048777, 0.96452380952380956, 0.96488372093023256, 0.96545454545454545, 0.96533333333333338, 0.96478260869565213, 0.96404255319148935, 0.96375, 0.96326530612244898, 0.96399999999999997, 0.96431372549019612, 0.96442307692307694, 0.96452830188679251, 0.96407407407407408, 0.96399999999999997, 0.96392857142857147, 0.96403508771929824, 0.96413793103448275, 0.96440677966101696, 0.96399999999999997, 0.9632786885245902, 0.96387096774193548, 0.96412698412698417, 0.96390624999999996, 0.96415384615384614, 0.96424242424242423, 0.9641791044776119, 0.9644117647058823, 0.9639130434782609, 0.96385714285714286, 0.96352112676056334, 0.96333333333333337, 0.96356164383561649, 0.96324324324324329, 0.96346666666666669, 0.96381578947368418, 0.96389610389610392, 0.96397435897435901, 0.96405063291139237, 0.96425000000000005, 0.96444444444444444, 0.96451219512195119, 0.96457831325301202, 0.96404761904761904, 0.96399999999999997, 0.9644186046511628, 0.96459770114942534, 0.96477272727272723, 0.96471910112359549, 0.96488888888888891, 0.9651648351648352, 0.96510869565217394, 0.96516129032258069, 0.96531914893617021, 0.96494736842105266, 0.96510416666666665, 0.96494845360824744, 0.96438775510204078, 0.96454545454545459, nan, 0.97999999999999998, 0.98499999999999999, 0.97666666666666668, 0.97250000000000003, 0.97199999999999998, 0.96999999999999997, 0.96857142857142853, 0.97124999999999995, 0.96777777777777774, 0.96799999999999997, 0.96818181818181814, 0.96833333333333338, 0.96846153846153848, 0.96857142857142853, 0.96933333333333338, 0.96999999999999997, 0.96882352941176475, 0.96833333333333338, 0.96736842105263154, 0.96699999999999997, 0.9676190476190476, 0.9668181818181818, 0.96739130434782605, 0.96833333333333338, 0.96760000000000002, 0.96615384615384614, 0.96666666666666667, 0.96678571428571425, 0.96724137931034482, 0.96733333333333338, 0.96709677419354834, 0.96625000000000005, 0.96636363636363631, 0.9661764705882353, 0.96657142857142853, 0.96666666666666667, 0.9664864864864865, 0.96631578947368424, 0.96692307692307689, 0.96725000000000005, 0.96780487804878046, 0.96785714285714286, 0.9676744186046512, 0.96772727272727277, 0.96733333333333338, 0.96760869565217389, 0.96723404255319145, 0.96666666666666667, 0.96673469387755107, 0.96640000000000004, 0.96588235294117653, 0.96634615384615385, 0.96660377358490568, 0.96666666666666667, 0.96709090909090911, 0.96696428571428572, 0.96666666666666667, 0.96620689655172409, 0.966271186440678, 0.96616666666666662, 0.96622950819672127, 0.96612903225806457, 0.96650793650793654, 0.96656249999999999, 0.96661538461538465, 0.96666666666666667, 0.96686567164179105, 0.96705882352941175, 0.96753623188405802, 0.96771428571428575, 0.96788732394366195, 0.96777777777777774, 0.96780821917808224, 0.96743243243243249, 0.96786666666666665, 0.96736842105263154, 0.96701298701298699, 0.96730769230769231, 0.9669620253164557, 0.96675, 0.96691358024691354, 0.96707317073170729, 0.96722891566265057, 0.96678571428571425, 0.96658823529411764, 0.96639534883720934, 0.96643678160919544, 0.9668181818181818, 0.96707865168539331, 0.96699999999999997, 0.96692307692307689, 0.96717391304347822, 0.96741935483870967, 0.96744680851063825, 0.96747368421052626, 0.96729166666666666, 0.96721649484536087, 0.96734693877551026, 0.96747474747474749, nan, 0.96999999999999997, 0.95999999999999996, 0.95333333333333337, 0.95750000000000002, 0.95999999999999996, 0.96166666666666667, 0.96142857142857141, 0.96375, 0.96444444444444444, 0.96399999999999997, 0.96454545454545459, 0.96583333333333332, 0.9653846153846154, 0.96571428571428575, 0.96733333333333338, 0.96875, 0.96705882352941175, 0.96666666666666667, 0.96684210526315795, 0.96799999999999997, 0.96857142857142853, 0.96863636363636363, 0.96999999999999997, 0.96999999999999997, 0.96960000000000002, 0.96999999999999997, 0.96777777777777774, 0.96714285714285719, 0.96689655172413791, 0.96766666666666667, 0.96741935483870967, 0.96750000000000003, 0.96727272727272728, 0.96735294117647064, 0.96685714285714286, 0.9669444444444445, 0.9672972972972973, 0.9676315789473684, 0.96769230769230774, 0.96825000000000006, 0.96780487804878046, 0.9676190476190476, 0.96674418604651158, 0.96659090909090906, 0.96688888888888891, 0.96717391304347822, 0.96659574468085108, 0.96708333333333329, 0.96714285714285719, 0.96760000000000002, 0.96745098039215682, 0.96750000000000003, 0.96735849056603773, 0.96777777777777774, 0.96745454545454546, 0.96714285714285719, 0.96719298245614038, 0.96775862068965512, 0.96796610169491526, 0.96850000000000003, 0.96852459016393444, 0.96870967741935488, 0.96888888888888891, 0.96890624999999997, 0.96907692307692306, 0.96893939393939399, 0.96895522388059696, 0.96897058823529414, 0.96869565217391307, 0.96842857142857142, 0.96859154929577462, 0.96847222222222218, 0.96835616438356165, 0.96864864864864864, 0.96853333333333336, 0.96881578947368419, 0.96883116883116882, 0.9688461538461538, 0.96848101265822784, 0.96837499999999999, 0.96839506172839507, 0.96841463414634144, 0.96831325301204818, 0.96857142857142853, 0.96847058823529408, 0.96872093023255812, 0.96885057471264369, 0.96897727272727274, 0.96865168539325841, 0.96877777777777774, 0.96890109890109888, 0.96913043478260874, 0.96892473118279565, 0.96882978723404256, 0.96915789473684211, 0.96906250000000005, 0.96927835051546396, 0.96928571428571431, 0.96939393939393936, nan, 0.96999999999999997, 0.97999999999999998, 0.98333333333333328, 0.98250000000000004, 0.97599999999999998, 0.97166666666666668, 0.96714285714285719, 0.96750000000000003, 0.9655555555555555, 0.96599999999999997, 0.96545454545454545, 0.95999999999999996, 0.96076923076923082, 0.95999999999999996, 0.95799999999999996, 0.95874999999999999, 0.9611764705882353, 0.96166666666666667, 0.96263157894736839, 0.96199999999999997, 0.96285714285714286, 0.96409090909090911, 0.96434782608695657, 0.96291666666666664, 0.96279999999999999, 0.96307692307692305, 0.96259259259259256, 0.96250000000000002, 0.96103448275862069, 0.96199999999999997, 0.96225806451612905, 0.96250000000000002, 0.96333333333333337, 0.96352941176470586, 0.96399999999999997, 0.96444444444444444, 0.96432432432432436, 0.96473684210526311, 0.96487179487179486, 0.96450000000000002, 0.96487804878048777, 0.96476190476190471, 0.96534883720930231, 0.96545454545454545, 0.9655555555555555, 0.9652173913043478, 0.965531914893617, 0.9654166666666667, 0.96551020408163268, 0.96560000000000001, 0.96588235294117653, 0.9653846153846154, 0.96547169811320754, 0.96574074074074079, 0.96618181818181814, 0.96625000000000005, 0.9664912280701754, 0.96672413793103451, 0.96711864406779657, 0.96683333333333332, 0.96672131147540985, 0.96709677419354834, 0.96730158730158733, 0.96750000000000003, 0.96799999999999997, 0.96803030303030302, 0.96820895522388062, 0.96794117647058819, 0.96811594202898554, 0.96814285714285719, 0.96802816901408451, 0.96791666666666665, 0.96808219178082189, 0.96837837837837837, 0.96879999999999999, 0.96881578947368419, 0.96909090909090911, 0.96923076923076923, 0.96898734177215184, 0.96899999999999997, 0.96938271604938275, 0.96951219512195119, 0.96963855421686751, 0.96952380952380957, 0.96917647058823531, 0.9693023255813954, 0.96908045977011492, 0.96943181818181823, 0.96955056179775279, 0.96922222222222221, 0.96945054945054943, 0.96945652173913044, 0.96935483870967742, 0.96957446808510639, 0.96968421052631582, 0.96947916666666667, 0.96927835051546396, 0.96908163265306124, 0.96919191919191916, 0.98999999999999999, 0.97999999999999998, 0.97999999999999998, 0.97499999999999998, 0.97399999999999998, 0.97499999999999998, 0.97857142857142854, 0.97375, 0.97111111111111115, 0.97099999999999997, 0.97090909090909094, 0.97083333333333333, 0.96999999999999997, 0.96928571428571431, 0.96999999999999997, 0.97062499999999996, 0.97176470588235297, 0.97277777777777774, 0.9726315789473684, 0.96999999999999997, 0.97047619047619049, 0.97045454545454546, 0.96999999999999997, 0.96958333333333335, 0.97040000000000004, 0.96999999999999997, 0.96925925925925926, 0.96928571428571431, 0.96862068965517245, 0.96799999999999997, 0.96870967741935488, 0.96718749999999998, 0.96696969696969692, 0.96735294117647064, 0.96742857142857142, 0.96750000000000003, 0.96783783783783783, 0.96842105263157896, 0.96846153846153848, 0.96775, 0.96829268292682924, 0.96833333333333338, 0.96883720930232553, 0.96863636363636363, 0.96911111111111115, 0.96934782608695658, 0.96851063829787232, 0.96875, 0.96918367346938772, 0.96940000000000004, 0.96980392156862749, 0.97019230769230769, 0.96981132075471699, 0.96962962962962962, 0.97018181818181815, 0.97017857142857145, 0.97052631578947368, 0.97051724137931039, 0.97033898305084743, 0.97016666666666662, 0.97049180327868856, 0.97096774193548385, 0.97111111111111115, 0.97093750000000001, 0.97092307692307689, 0.97106060606060607, 0.97134328358208955, 0.97147058823529409, 0.97130434782608699, 0.97099999999999997, 0.97140845070422532, 0.97124999999999995, 0.97095890410958907, 0.97081081081081078, 0.97053333333333336, 0.97065789473684205, 0.97077922077922074, 0.97102564102564104, 0.97126582278481011, 0.97137499999999999, 0.97135802469135801, 0.97146341463414632, 0.97156626506024102, 0.97130952380952384, 0.97141176470588231, 0.97093023255813948, 0.97091954022988503, 0.97124999999999995, 0.97146067415730342, 0.97155555555555551, 0.97175824175824177, 0.97195652173913039, 0.97215053763440862, 0.97202127659574467, 0.97210526315789469, 0.97229166666666667, 0.97226804123711341, 0.97244897959183674, 0.97242424242424241, 0.97209999999999996, nan, 1.0, 0.995, 0.99333333333333329, 0.98750000000000004, 0.98199999999999998, 0.97666666666666668, 0.97571428571428576, 0.97624999999999995, 0.97777777777777775, 0.97899999999999998, 0.97909090909090912, 0.97916666666666663, 0.97999999999999998, 0.98142857142857143, 0.98199999999999998, 0.98124999999999996, 0.98117647058823532, 0.97999999999999998, 0.97999999999999998, 0.97999999999999998, 0.97857142857142854, 0.97818181818181815, 0.97739130434782606, 0.97750000000000004, 0.97760000000000002, 0.97807692307692307, 0.97777777777777775, 0.97714285714285709, 0.97724137931034483, 0.97699999999999998, 0.97774193548387101, 0.97781249999999997, 0.97727272727272729, 0.97735294117647054, 0.97714285714285709, 0.97694444444444439, 0.97729729729729731, 0.97684210526315784, 0.97717948717948722, 0.97675000000000001, 0.97682926829268291, 0.97690476190476194, 0.97674418604651159, 0.97613636363636369, 0.97622222222222221, 0.97586956521739132, 0.9761702127659575, 0.97624999999999995, 0.97653061224489801, 0.9768, 0.97666666666666668, 0.97653846153846158, 0.97698113207547166, 0.97703703703703704, 0.97690909090909095, 0.97696428571428573, 0.97701754385964912, 0.97637931034482761, 0.97627118644067801, 0.97583333333333333, 0.97606557377049186, 0.97596774193548386, 0.97539682539682537, 0.97531250000000003, 0.97476923076923072, 0.97484848484848485, 0.97492537313432837, 0.97514705882352937, 0.97478260869565214, 0.97499999999999998, 0.97478873239436614, 0.97472222222222227, 0.97465753424657531, 0.97445945945945944, 0.97466666666666668, 0.97473684210526312, 0.97506493506493508, 0.97512820512820508, 0.97468354430379744, 0.97450000000000003, 0.97456790123456793, 0.97475609756097559, 0.97457831325301203, 0.97440476190476188, 0.97423529411764709, 0.9743023255813954, 0.974367816091954, 0.97431818181818186, 0.97415730337078654, 0.97399999999999998, 0.97384615384615381, 0.97380434782608694, 0.97354838709677416, 0.97361702127659577, 0.97378947368421054, 0.97385416666666669, 0.97402061855670108, 0.97397959183673466, 0.97404040404040404, nan, 1.0, 0.98499999999999999, 0.97666666666666668, 0.97750000000000004, 0.97999999999999998, 0.97499999999999998, 0.97714285714285709, 0.97875000000000001, 0.97999999999999998, 0.97899999999999998, 0.97818181818181815, 0.97999999999999998, 0.97999999999999998, 0.97857142857142854, 0.97933333333333328, 0.97750000000000004, 0.97705882352941176, 0.97777777777777775, 0.97842105263157897, 0.97899999999999998, 0.97952380952380957, 0.97999999999999998, 0.97956521739130431, 0.97875000000000001, 0.9788, 0.97884615384615381, 0.97925925925925927, 0.97964285714285715, 0.97965517241379307, 0.98033333333333328, 0.98064516129032253, 0.98093750000000002, 0.98030303030303034, 0.98029411764705887, 0.97999999999999998, 0.97916666666666663, 0.97891891891891891, 0.97894736842105268, 0.97846153846153849, 0.97875000000000001, 0.97902439024390242, 0.9788095238095238, 0.97860465116279072, 0.97886363636363638, 0.97911111111111115, 0.97934782608695647, 0.97893617021276591, 0.97916666666666663, 0.97897959183673466, 0.97940000000000005, 0.97960784313725491, 0.97961538461538467, 0.979811320754717, 0.97981481481481481, 0.97981818181818181, 0.97964285714285715, 0.97947368421052627, 0.97948275862068968, 0.97932203389830508, 0.97899999999999998, 0.97836065573770492, 0.97870967741935488, 0.97873015873015878, 0.97828124999999999, 0.97846153846153849, 0.97833333333333339, 0.97850746268656719, 0.97867647058823526, 0.97855072463768111, 0.97857142857142854, 0.97845070422535207, 0.97805555555555557, 0.97821917808219183, 0.97797297297297292, 0.97799999999999998, 0.97815789473684212, 0.97818181818181815, 0.97833333333333339, 0.97835443037974679, 0.97837499999999999, 0.97839506172839508, 0.97841463414634144, 0.97867469879518076, 0.97833333333333339, 0.97847058823529409, 0.97860465116279072, 0.97862068965517246, 0.97863636363636364, 0.97842696629213488, 0.97866666666666668, 0.97879120879120884, 0.97891304347826091, 0.97870967741935488, 0.97882978723404257, 0.97863157894736841, 0.97885416666666669, 0.9787628865979382, 0.97867346938775512, 0.97878787878787876, nan, 0.98999999999999999, 0.98999999999999999, 0.97999999999999998, 0.97999999999999998, 0.97799999999999998, 0.97999999999999998, 0.97714285714285709, 0.97875000000000001, 0.97777777777777775, 0.97799999999999998, 0.97818181818181815, 0.97833333333333339, 0.97846153846153849, 0.97857142857142854, 0.97933333333333328, 0.97999999999999998, 0.97941176470588232, 0.97833333333333339, 0.97684210526315784, 0.97699999999999998, 0.97761904761904761, 0.97636363636363632, 0.97695652173913039, 0.97750000000000004, 0.97719999999999996, 0.97538461538461541, 0.97592592592592597, 0.97571428571428576, 0.97586206896551719, 0.97599999999999998, 0.97580645161290325, 0.97468750000000004, 0.97424242424242424, 0.97411764705882353, 0.97428571428571431, 0.97388888888888892, 0.97378378378378383, 0.97368421052631582, 0.97410256410256413, 0.97450000000000003, 0.97487804878048778, 0.97523809523809524, 0.97534883720930232, 0.97545454545454546, 0.97533333333333339, 0.97586956521739132, 0.9759574468085106, 0.97583333333333333, 0.97571428571428576, 0.97519999999999996, 0.97490196078431368, 0.97519230769230769, 0.97547169811320755, 0.97574074074074069, 0.97599999999999998, 0.97607142857142859, 0.97578947368421054, 0.97534482758620689, 0.97542372881355932, 0.97566666666666668, 0.97557377049180327, 0.97548387096774192, 0.97571428571428576, 0.97593750000000001, 0.97584615384615381, 0.97575757575757571, 0.97597014925373138, 0.9763235294117647, 0.97666666666666668, 0.97685714285714287, 0.97690140845070428, 0.97666666666666668, 0.97657534246575339, 0.97635135135135132, 0.97666666666666668, 0.97644736842105262, 0.97623376623376623, 0.97641025641025636, 0.97620253164556958, 0.97612500000000002, 0.97617283950617284, 0.97634146341463413, 0.97638554216867468, 0.97607142857142859, 0.97599999999999998, 0.97593023255813949, 0.97609195402298854, 0.97636363636363632, 0.97651685393258425, 0.97633333333333339, 0.97615384615384615, 0.97641304347826086, 0.97666666666666668, 0.97659574468085109, 0.97652631578947369, 0.97635416666666663, 0.97639175257731958, 0.97653061224489801, 0.97656565656565653, nan, 0.96999999999999997, 0.95999999999999996, 0.95999999999999996, 0.96499999999999997, 0.96999999999999997, 0.97166666666666668, 0.97285714285714286, 0.97375, 0.97555555555555551, 0.97499999999999998, 0.97545454545454546, 0.97583333333333333, 0.97538461538461541, 0.97571428571428576, 0.97733333333333339, 0.97812500000000002, 0.97647058823529409, 0.97555555555555551, 0.97631578947368425, 0.97750000000000004, 0.97809523809523813, 0.97818181818181815, 0.97913043478260875, 0.97875000000000001, 0.97840000000000005, 0.97846153846153849, 0.97777777777777775, 0.97714285714285709, 0.97655172413793101, 0.97733333333333339, 0.97709677419354835, 0.97687500000000005, 0.97666666666666668, 0.97647058823529409, 0.97628571428571431, 0.97611111111111115, 0.97621621621621624, 0.97631578947368425, 0.97615384615384615, 0.97675000000000001, 0.97658536585365852, 0.97642857142857142, 0.97558139534883725, 0.97522727272727272, 0.97533333333333339, 0.97543478260869565, 0.97574468085106381, 0.97624999999999995, 0.97653061224489801, 0.9768, 0.97705882352941176, 0.97730769230769232, 0.97716981132075476, 0.97740740740740739, 0.97727272727272729, 0.97696428571428573, 0.97719298245614039, 0.97758620689655173, 0.97762711864406782, 0.97799999999999998, 0.97803278688524586, 0.97806451612903222, 0.97825396825396826, 0.97812500000000002, 0.97815384615384615, 0.9778787878787879, 0.97776119402985073, 0.97779411764705881, 0.97782608695652173, 0.97771428571428576, 0.97788732394366196, 0.97777777777777775, 0.97780821917808214, 0.97810810810810811, 0.97799999999999998, 0.97828947368421049, 0.97831168831168835, 0.97820512820512817, 0.97784810126582278, 0.97787500000000005, 0.97777777777777775, 0.97780487804878047, 0.97771084337349401, 0.97785714285714287, 0.97776470588235298, 0.97790697674418603, 0.97793103448275864, 0.97795454545454541, 0.97764044943820227, 0.97777777777777775, 0.97791208791208795, 0.97815217391304343, 0.97774193548387101, 0.9777659574468085, 0.97799999999999998, 0.97791666666666666, 0.97804123711340207, 0.97816326530612241, 0.97818181818181815, nan, 1.0, 0.995, 0.9966666666666667, 0.99250000000000005, 0.98599999999999999, 0.98333333333333328, 0.97857142857142854, 0.97999999999999998, 0.97777777777777775, 0.97699999999999998, 0.97636363636363632, 0.97333333333333338, 0.97307692307692306, 0.97142857142857142, 0.96933333333333338, 0.96999999999999997, 0.97176470588235297, 0.97222222222222221, 0.9726315789473684, 0.97250000000000003, 0.97333333333333338, 0.97409090909090912, 0.97434782608695647, 0.97375, 0.97360000000000002, 0.97346153846153849, 0.97259259259259256, 0.97250000000000003, 0.97172413793103452, 0.97233333333333338, 0.97225806451612906, 0.97218749999999998, 0.97303030303030302, 0.97323529411764709, 0.97342857142857142, 0.97361111111111109, 0.97324324324324329, 0.97368421052631582, 0.97384615384615381, 0.97324999999999995, 0.97365853658536583, 0.97309523809523812, 0.9734883720930233, 0.97340909090909089, 0.97333333333333338, 0.9732608695652174, 0.97340425531914898, 0.97333333333333338, 0.97346938775510206, 0.97340000000000004, 0.97352941176470587, 0.97307692307692306, 0.97320754716981128, 0.97333333333333338, 0.97381818181818181, 0.97375, 0.97403508771929825, 0.97413793103448276, 0.97457627118644063, 0.97450000000000003, 0.97426229508196727, 0.97451612903225804, 0.97476190476190472, 0.97484375000000001, 0.97507692307692306, 0.9751515151515151, 0.97537313432835826, 0.97529411764705887, 0.97550724637681163, 0.97542857142857142, 0.97549295774647893, 0.97569444444444442, 0.97575342465753423, 0.97608108108108105, 0.97640000000000005, 0.97631578947368425, 0.97649350649350652, 0.97653846153846158, 0.9764556962025317, 0.97624999999999995, 0.97654320987654319, 0.97658536585365852, 0.9766265060240964, 0.976547619047619, 0.97635294117647053, 0.97651162790697676, 0.97643678160919545, 0.97670454545454544, 0.9767415730337079, 0.97644444444444445, 0.97659340659340654, 0.97663043478260869, 0.97677419354838713, 0.97691489361702133, 0.97715789473684211, 0.97697916666666662, 0.97690721649484535, 0.97693877551020403, 0.97696969696969693, 0.98999999999999999, 0.98499999999999999, 0.98333333333333328, 0.98250000000000004, 0.97999999999999998, 0.97999999999999998, 0.98285714285714287, 0.97875000000000001, 0.97555555555555551, 0.97499999999999998, 0.97545454545454546, 0.97583333333333333, 0.97615384615384615, 0.97642857142857142, 0.97666666666666668, 0.97750000000000004, 0.97823529411764709, 0.97833333333333339, 0.97842105263157897, 0.97850000000000004, 0.97904761904761906, 0.97909090909090912, 0.97869565217391308, 0.97750000000000004, 0.97799999999999998, 0.97730769230769232, 0.97740740740740739, 0.97750000000000004, 0.97724137931034483, 0.97633333333333339, 0.97677419354838713, 0.97593750000000001, 0.97575757575757571, 0.97588235294117642, 0.97599999999999998, 0.97611111111111115, 0.97621621621621624, 0.9765789473684211, 0.97666666666666668, 0.97624999999999995, 0.97658536585365852, 0.97690476190476194, 0.97744186046511627, 0.97704545454545455, 0.97733333333333339, 0.9776086956521739, 0.97659574468085109, 0.97666666666666668, 0.97693877551020403, 0.97699999999999998, 0.97725490196078435, 0.97750000000000004, 0.97679245283018867, 0.97685185185185186, 0.97727272727272729, 0.97732142857142856, 0.97771929824561399, 0.97775862068965513, 0.97745762711864403, 0.97750000000000004, 0.97770491803278692, 0.97806451612903222, 0.97809523809523813, 0.97781249999999997, 0.97799999999999998, 0.97803030303030303, 0.97835820895522385, 0.97823529411764709, 0.97811594202898555, 0.97785714285714287, 0.97816901408450707, 0.97791666666666666, 0.97753424657534249, 0.97770270270270265, 0.97760000000000002, 0.97776315789473689, 0.97779220779220777, 0.97794871794871796, 0.97810126582278478, 0.97812500000000002, 0.97802469135802472, 0.97792682926829266, 0.97795180722891561, 0.97785714285714287, 0.97788235294117642, 0.97755813953488369, 0.97770114942528741, 0.97795454545454541, 0.97820224719101123, 0.97822222222222222, 0.97835164835164834, 0.9785869565217391, 0.97881720430107522, 0.97872340425531912, 0.97873684210526313, 0.97885416666666669, 0.9787628865979382, 0.97887755102040819, 0.97909090909090912, 0.9788, nan, 0.98999999999999999, 0.98999999999999999, 0.98999999999999999, 0.98750000000000004, 0.98199999999999998, 0.98333333333333328, 0.98142857142857143, 0.98124999999999996, 0.98222222222222222, 0.98399999999999999, 0.98363636363636364, 0.98416666666666663, 0.98461538461538467, 0.98571428571428577, 0.98666666666666669, 0.98562499999999997, 0.98588235294117643, 0.98611111111111116, 0.98684210526315785, 0.98699999999999999, 0.98619047619047617, 0.98545454545454547, 0.98521739130434782, 0.98541666666666672, 0.98560000000000003, 0.98576923076923073, 0.98518518518518516, 0.98428571428571432, 0.98379310344827586, 0.98366666666666669, 0.98419354838709683, 0.98375000000000001, 0.98303030303030303, 0.98294117647058821, 0.98257142857142854, 0.98222222222222222, 0.98243243243243239, 0.9821052631578947, 0.98230769230769233, 0.98175000000000001, 0.98195121951219511, 0.9821428571428571, 0.98162790697674418, 0.98181818181818181, 0.98177777777777775, 0.98152173913043483, 0.98170212765957443, 0.98187500000000005, 0.98224489795918368, 0.98240000000000005, 0.98235294117647054, 0.98230769230769233, 0.98264150943396222, 0.98259259259259257, 0.98218181818181816, 0.9821428571428571, 0.98245614035087714, 0.98206896551724143, 0.98186440677966103, 0.98133333333333328, 0.98147540983606563, 0.98129032258064519, 0.98095238095238091, 0.98093750000000002, 0.98061538461538467, 0.98060606060606059, 0.98074626865671644, 0.98088235294117643, 0.98086956521739133, 0.98114285714285709, 0.98098591549295777, 0.98097222222222225, 0.98095890410958908, 0.98094594594594597, 0.98119999999999996, 0.98131578947368425, 0.98155844155844152, 0.98153846153846158, 0.98113924050632917, 0.98099999999999998, 0.98111111111111116, 0.98121951219512193, 0.98108433734939759, 0.98083333333333333, 0.98058823529411765, 0.98058139534883726, 0.98057471264367813, 0.98045454545454547, 0.98011235955056175, 0.98022222222222222, 0.98010989010989014, 0.97999999999999998, 0.97967741935483876, 0.97968085106382974, 0.97978947368421054, 0.97979166666666662, 0.97999999999999998, 0.97989795918367351, 0.97989898989898994, nan, 1.0, 0.98999999999999999, 0.98333333333333328, 0.98499999999999999, 0.98599999999999999, 0.98166666666666669, 0.98285714285714287, 0.98375000000000001, 0.98444444444444446, 0.98299999999999998, 0.98181818181818181, 0.98333333333333328, 0.98307692307692307, 0.98285714285714287, 0.98333333333333328, 0.98250000000000004, 0.98176470588235298, 0.98222222222222222, 0.98263157894736841, 0.98350000000000004, 0.9838095238095238, 0.98409090909090913, 0.98347826086956525, 0.98291666666666666, 0.98280000000000001, 0.98269230769230764, 0.98259259259259257, 0.98321428571428571, 0.98344827586206895, 0.98399999999999999, 0.98419354838709683, 0.98468750000000005, 0.98424242424242425, 0.98441176470588232, 0.98457142857142854, 0.98388888888888892, 0.98378378378378384, 0.98394736842105268, 0.98333333333333328, 0.98350000000000004, 0.98365853658536584, 0.98357142857142854, 0.98325581395348838, 0.9834090909090909, 0.98355555555555552, 0.98369565217391308, 0.98319148936170209, 0.98312500000000003, 0.98285714285714287, 0.98319999999999996, 0.98352941176470587, 0.9836538461538461, 0.98377358490566036, 0.98388888888888892, 0.98381818181818181, 0.98375000000000001, 0.98350877192982455, 0.98344827586206895, 0.98338983050847462, 0.98316666666666663, 0.98278688524590163, 0.98306451612903223, 0.98301587301587301, 0.98281249999999998, 0.9829230769230769, 0.98272727272727278, 0.98283582089552235, 0.9830882352941176, 0.98289855072463772, 0.98299999999999998, 0.98295774647887324, 0.98250000000000004, 0.98260273972602741, 0.98229729729729731, 0.98226666666666662, 0.98236842105263156, 0.98233766233766229, 0.98243589743589743, 0.98240506329113919, 0.98250000000000004, 0.98234567901234571, 0.98231707317073169, 0.98253012048192767, 0.98226190476190478, 0.98235294117647054, 0.98244186046511628, 0.98241379310344823, 0.98250000000000004, 0.98224719101123592, 0.98233333333333328, 0.98241758241758237, 0.98250000000000004, 0.98247311827956985, 0.98255319148936171, 0.98231578947368425, 0.98250000000000004, 0.9823711340206186, 0.98224489795918368, 0.98242424242424242, nan, 0.98999999999999999, 0.98999999999999999, 0.98333333333333328, 0.98250000000000004, 0.97799999999999998, 0.98166666666666669, 0.97857142857142854, 0.98124999999999996, 0.98222222222222222, 0.98399999999999999, 0.9845454545454545, 0.98499999999999999, 0.98461538461538467, 0.98428571428571432, 0.98466666666666669, 0.98499999999999999, 0.98470588235294121, 0.98388888888888892, 0.98263157894736841, 0.98250000000000004, 0.98333333333333328, 0.9822727272727273, 0.9826086956521739, 0.98291666666666666, 0.98240000000000005, 0.98153846153846158, 0.98185185185185186, 0.98178571428571426, 0.98206896551724143, 0.98199999999999998, 0.98193548387096774, 0.98093750000000002, 0.98060606060606059, 0.98058823529411765, 0.98057142857142854, 0.98055555555555551, 0.98054054054054052, 0.98026315789473684, 0.98051282051282052, 0.98075000000000001, 0.98097560975609754, 0.98119047619047617, 0.98116279069767443, 0.98136363636363633, 0.98133333333333328, 0.98173913043478256, 0.98170212765957443, 0.98166666666666669, 0.98142857142857143, 0.98099999999999998, 0.98098039215686272, 0.98134615384615387, 0.9815094339622642, 0.98166666666666669, 0.98199999999999998, 0.98196428571428573, 0.98157894736842111, 0.98155172413793101, 0.98135593220338979, 0.98166666666666669, 0.98147540983606563, 0.98161290322580641, 0.98190476190476195, 0.98187500000000005, 0.98215384615384616, 0.98196969696969694, 0.98208955223880601, 0.98235294117647054, 0.9826086956521739, 0.98271428571428576, 0.98267605633802813, 0.98236111111111113, 0.98232876712328765, 0.98189189189189185, 0.9821333333333333, 0.9821052631578947, 0.98181818181818181, 0.9819230769230769, 0.98164556962025318, 0.98150000000000004, 0.98148148148148151, 0.98146341463414632, 0.98144578313253017, 0.98130952380952385, 0.98129411764705887, 0.98116279069767443, 0.98126436781609194, 0.9814772727272727, 0.98157303370786519, 0.98144444444444445, 0.98120879120879123, 0.98141304347826086, 0.98161290322580641, 0.98148936170212764, 0.98136842105263156, 0.98135416666666664, 0.98134020618556705, 0.98142857142857143, 0.98141414141414141, nan, 0.95999999999999996, 0.95499999999999996, 0.96333333333333337, 0.96999999999999997, 0.97399999999999998, 0.97833333333333339, 0.97857142857142854, 0.97875000000000001, 0.97999999999999998, 0.97899999999999998, 0.97909090909090912, 0.97999999999999998, 0.97923076923076924, 0.97928571428571431, 0.98066666666666669, 0.98124999999999996, 0.97999999999999998, 0.97999999999999998, 0.98052631578947369, 0.98150000000000004, 0.98190476190476195, 0.98181818181818181, 0.9826086956521739, 0.98250000000000004, 0.98199999999999998, 0.98230769230769233, 0.98185185185185186, 0.98107142857142859, 0.9806896551724138, 0.98133333333333328, 0.98129032258064519, 0.98093750000000002, 0.98060606060606059, 0.98029411764705887, 0.98028571428571432, 0.9802777777777778, 0.98027027027027025, 0.98052631578947369, 0.98051282051282052, 0.98099999999999998, 0.98121951219512193, 0.98119047619047617, 0.98046511627906974, 0.97999999999999998, 0.97999999999999998, 0.98021739130434782, 0.98063829787234047, 0.9810416666666667, 0.98122448979591836, 0.98140000000000005, 0.98176470588235298, 0.9819230769230769, 0.98188679245283017, 0.98222222222222222, 0.98199999999999998, 0.98178571428571426, 0.98192982456140354, 0.98224137931034483, 0.98237288135593215, 0.98250000000000004, 0.98245901639344257, 0.98241935483870968, 0.98253968253968249, 0.98250000000000004, 0.9824615384615385, 0.98242424242424242, 0.98238805970149257, 0.98235294117647054, 0.9823188405797102, 0.98228571428571432, 0.98239436619718312, 0.98222222222222222, 0.98232876712328765, 0.98256756756756758, 0.98253333333333337, 0.98276315789473689, 0.98272727272727278, 0.98269230769230764, 0.98227848101265824, 0.98224999999999996, 0.98222222222222222, 0.98231707317073169, 0.98216867469879521, 0.98226190476190478, 0.98211764705882354, 0.98220930232558135, 0.98218390804597699, 0.98215909090909093, 0.98202247191011238, 0.98211111111111116, 0.98219780219780217, 0.98239130434782607, 0.98204301075268818, 0.98202127659574467, 0.98221052631578942, 0.98208333333333331, 0.98206185567010307, 0.98224489795918368, 0.98232323232323238, nan, 1.0, 0.995, 0.9966666666666667, 0.99250000000000005, 0.98599999999999999, 0.98499999999999999, 0.98428571428571432, 0.98499999999999999, 0.98444444444444446, 0.98299999999999998, 0.98181818181818181, 0.97916666666666663, 0.97846153846153849, 0.97714285714285709, 0.97599999999999998, 0.97624999999999995, 0.97764705882352942, 0.97777777777777775, 0.97789473684210526, 0.97750000000000004, 0.97809523809523813, 0.97909090909090912, 0.97913043478260875, 0.97833333333333339, 0.97799999999999998, 0.97807692307692307, 0.97703703703703704, 0.97678571428571426, 0.97655172413793101, 0.97699999999999998, 0.97741935483870968, 0.97718749999999999, 0.9778787878787879, 0.9779411764705882, 0.97828571428571431, 0.97805555555555557, 0.97783783783783784, 0.97842105263157897, 0.97846153846153849, 0.97850000000000004, 0.97878048780487803, 0.97833333333333339, 0.97860465116279072, 0.97840909090909089, 0.97822222222222222, 0.97826086956521741, 0.97829787234042553, 0.97833333333333339, 0.97836734693877547, 0.97840000000000005, 0.97843137254901957, 0.97807692307692307, 0.97830188679245278, 0.97851851851851857, 0.97890909090909095, 0.97875000000000001, 0.97894736842105268, 0.97896551724137926, 0.97932203389830508, 0.97916666666666663, 0.97885245901639339, 0.97919354838709682, 0.97952380952380957, 0.97953124999999996, 0.97969230769230764, 0.97984848484848486, 0.97999999999999998, 0.97985294117647059, 0.97999999999999998, 0.97999999999999998, 0.97999999999999998, 0.98013888888888889, 0.98013698630136992, 0.98040540540540544, 0.98066666666666669, 0.98065789473684206, 0.98064935064935066, 0.98064102564102562, 0.98063291139240505, 0.98050000000000004, 0.98074074074074069, 0.98073170731707315, 0.98072289156626502, 0.98059523809523808, 0.98047058823529409, 0.98058139534883726, 0.98045977011494256, 0.98068181818181821, 0.98067415730337082, 0.98033333333333328, 0.98043956043956049, 0.98032608695652179, 0.98043010752688176, 0.98053191489361702, 0.98073684210526313, 0.98093750000000002, 0.98092783505154635, 0.9810204081632653, 0.981010101010101, 0.98999999999999999, 0.98499999999999999, 0.98333333333333328, 0.98250000000000004, 0.97999999999999998, 0.98166666666666669, 0.98428571428571432, 0.98124999999999996, 0.97888888888888892, 0.97899999999999998, 0.97909090909090912, 0.97916666666666663, 0.97923076923076924, 0.97928571428571431, 0.97933333333333328, 0.97999999999999998, 0.98117647058823532, 0.98055555555555551, 0.9810526315789474, 0.98099999999999998, 0.98142857142857143, 0.98136363636363633, 0.98086956521739133, 0.97999999999999998, 0.98040000000000005, 0.97999999999999998, 0.98037037037037034, 0.98071428571428576, 0.9806896551724138, 0.98033333333333328, 0.98096774193548386, 0.97999999999999998, 0.97999999999999998, 0.98029411764705887, 0.98028571428571432, 0.9802777777777778, 0.98027027027027025, 0.98052631578947369, 0.98051282051282052, 0.98024999999999995, 0.98048780487804876, 0.98071428571428576, 0.98116279069767443, 0.98136363636363633, 0.98155555555555551, 0.98173913043478256, 0.98085106382978726, 0.98083333333333333, 0.9810204081632653, 0.98119999999999996, 0.98156862745098039, 0.98173076923076918, 0.9813207547169811, 0.98166666666666669, 0.98199999999999998, 0.9821428571428571, 0.98245614035087714, 0.98241379310344823, 0.98220338983050848, 0.98233333333333328, 0.98245901639344257, 0.98274193548387101, 0.98269841269841274, 0.98218749999999999, 0.98215384615384616, 0.98212121212121217, 0.98238805970149257, 0.98220588235294115, 0.98217391304347823, 0.98199999999999998, 0.98225352112676056, 0.98222222222222222, 0.98178082191780824, 0.98202702702702704, 0.98186666666666667, 0.98197368421052633, 0.9819480519480519, 0.982051282051282, 0.98215189873417719, 0.98212500000000003, 0.98209876543209873, 0.98195121951219511, 0.98204819277108435, 0.98190476190476195, 0.98211764705882354, 0.98209302325581394, 0.98218390804597699, 0.9822727272727273, 0.98247191011235957, 0.98244444444444445, 0.98263736263736268, 0.98282608695652174, 0.98301075268817206, 0.98287234042553195, 0.98294736842105268, 0.98302083333333334, 0.98288659793814437, 0.98295918367346935, 0.98303030303030303, 0.98280000000000001, nan, 0.98999999999999999, 0.98999999999999999, 0.98999999999999999, 0.98750000000000004, 0.98399999999999999, 0.98499999999999999, 0.98285714285714287, 0.98375000000000001, 0.98444444444444446, 0.98599999999999999, 0.98636363636363633, 0.98750000000000004, 0.9884615384615385, 0.98928571428571432, 0.98999999999999999, 0.98875000000000002, 0.9882352941176471, 0.98833333333333329, 0.98894736842105269, 0.98899999999999999, 0.98857142857142855, 0.98818181818181816, 0.98782608695652174, 0.98791666666666667, 0.98799999999999999, 0.98807692307692307, 0.98777777777777775, 0.98678571428571427, 0.98620689655172411, 0.98599999999999999, 0.98645161290322581, 0.98624999999999996, 0.98575757575757572, 0.98558823529411765, 0.98571428571428577, 0.98527777777777781, 0.98540540540540544, 0.98499999999999999, 0.98512820512820509, 0.98450000000000004, 0.98487804878048779, 0.98499999999999999, 0.98488372093023258, 0.98499999999999999, 0.98488888888888892, 0.98456521739130431, 0.98489361702127665, 0.98499999999999999, 0.98530612244897964, 0.98540000000000005, 0.98549019607843136, 0.98538461538461541, 0.98566037735849055, 0.98592592592592587, 0.98545454545454547, 0.98535714285714282, 0.98561403508771928, 0.98499999999999999, 0.9849152542372881, 0.98450000000000004, 0.98459016393442622, 0.98435483870967744, 0.98396825396825394, 0.98406249999999995, 0.98415384615384616, 0.98409090909090913, 0.98417910447761192, 0.98441176470588232, 0.98434782608695648, 0.98457142857142854, 0.98450704225352115, 0.98444444444444446, 0.98438356164383567, 0.98445945945945945, 0.98466666666666669, 0.98473684210526313, 0.98493506493506489, 0.98487179487179488, 0.98430379746835439, 0.98424999999999996, 0.98432098765432097, 0.98439024390243901, 0.98445783132530118, 0.98428571428571432, 0.98411764705882354, 0.98406976744186048, 0.98413793103448277, 0.98397727272727276, 0.98370786516853936, 0.98377777777777775, 0.98373626373626377, 0.98358695652173911, 0.98311827956989251, 0.98308510638297875, 0.98315789473684212, 0.98312500000000003, 0.98329896907216496, 0.98316326530612241, 0.98313131313131308, nan, 1.0, 0.98999999999999999, 0.98333333333333328, 0.98499999999999999, 0.98599999999999999, 0.98166666666666669, 0.98428571428571432, 0.98499999999999999, 0.98555555555555552, 0.98499999999999999, 0.9845454545454545, 0.98583333333333334, 0.98538461538461541, 0.98499999999999999, 0.98533333333333328, 0.984375, 0.98411764705882354, 0.98444444444444446, 0.98526315789473684, 0.98599999999999999, 0.98619047619047617, 0.98636363636363633, 0.98652173913043473, 0.98624999999999996, 0.98640000000000005, 0.98615384615384616, 0.98592592592592587, 0.98642857142857143, 0.98655172413793102, 0.98699999999999999, 0.98741935483870968, 0.98781249999999998, 0.9872727272727273, 0.98735294117647054, 0.98742857142857143, 0.98722222222222222, 0.98729729729729732, 0.98736842105263156, 0.9869230769230769, 0.98699999999999999, 0.98707317073170731, 0.9871428571428571, 0.98697674418604653, 0.9872727272727273, 0.98733333333333329, 0.98739130434782607, 0.98680851063829789, 0.98666666666666669, 0.98673469387755097, 0.98699999999999999, 0.98725490196078436, 0.98730769230769233, 0.98716981132075476, 0.98722222222222222, 0.98709090909090913, 0.98696428571428574, 0.98684210526315785, 0.98689655172413793, 0.98677966101694914, 0.98666666666666669, 0.98639344262295081, 0.98661290322580641, 0.98650793650793656, 0.98624999999999996, 0.98630769230769233, 0.98636363636363633, 0.98641791044776117, 0.98661764705882349, 0.98623188405797102, 0.98628571428571432, 0.98633802816901406, 0.98597222222222225, 0.986027397260274, 0.98581081081081079, 0.98573333333333335, 0.98578947368421055, 0.98571428571428577, 0.98576923076923073, 0.98569620253164558, 0.98575000000000002, 0.98555555555555552, 0.98548780487804877, 0.98566265060240965, 0.98547619047619051, 0.98552941176470588, 0.98558139534883726, 0.98551724137931029, 0.98556818181818184, 0.98528089887640447, 0.98533333333333328, 0.98549450549450546, 0.98565217391304349, 0.98559139784946237, 0.98563829787234047, 0.98547368421052628, 0.98562499999999997, 0.98546391752577323, 0.98530612244897964, 0.98545454545454547, nan, 1.0, 0.995, 0.98666666666666669, 0.98499999999999999, 0.98399999999999999, 0.98666666666666669, 0.98428571428571432, 0.98624999999999996, 0.98666666666666669, 0.98799999999999999, 0.98818181818181816, 0.98833333333333329, 0.98769230769230765, 0.98785714285714288, 0.98866666666666669, 0.98875000000000002, 0.98941176470588232, 0.98833333333333329, 0.98736842105263156, 0.98699999999999999, 0.98761904761904762, 0.98681818181818182, 0.98739130434782607, 0.98791666666666667, 0.98760000000000003, 0.98653846153846159, 0.98666666666666669, 0.98642857142857143, 0.98655172413793102, 0.98633333333333328, 0.98612903225806448, 0.98499999999999999, 0.98515151515151511, 0.98499999999999999, 0.98485714285714288, 0.98499999999999999, 0.98486486486486491, 0.98447368421052628, 0.98461538461538467, 0.98475000000000001, 0.98512195121951218, 0.98523809523809525, 0.98534883720930233, 0.98545454545454547, 0.98555555555555552, 0.98586956521739133, 0.98574468085106381, 0.98562499999999997, 0.9855102040816327, 0.98519999999999996, 0.98509803921568628, 0.98538461538461541, 0.98566037735849055, 0.9857407407407407, 0.98599999999999999, 0.98589285714285713, 0.98561403508771928, 0.9856896551724138, 0.985593220338983, 0.98583333333333334, 0.98573770491803281, 0.98596774193548387, 0.98619047619047617, 0.98624999999999996, 0.9864615384615385, 0.98621212121212121, 0.98626865671641795, 0.9864705882352941, 0.98666666666666669, 0.98671428571428577, 0.98676056338028173, 0.98652777777777778, 0.98643835616438358, 0.98608108108108106, 0.98626666666666662, 0.98631578947368426, 0.98597402597402595, 0.98602564102564105, 0.98569620253164558, 0.98562499999999997, 0.98567901234567901, 0.98573170731707316, 0.98566265060240965, 0.98559523809523808, 0.98552941176470588, 0.98534883720930233, 0.98540229885057473, 0.98556818181818184, 0.98573033707865165, 0.98555555555555552, 0.98538461538461541, 0.98554347826086952, 0.98569892473118281, 0.98553191489361702, 0.98547368421052628, 0.98541666666666672, 0.98546391752577323, 0.9855102040816327, 0.98545454545454547, nan, 0.96999999999999997, 0.96499999999999997, 0.96999999999999997, 0.97750000000000004, 0.97999999999999998, 0.98333333333333328, 0.98285714285714287, 0.98375000000000001, 0.98555555555555552, 0.98399999999999999, 0.98363636363636364, 0.98416666666666663, 0.98307692307692307, 0.98357142857142854, 0.98466666666666669, 0.984375, 0.98352941176470587, 0.98333333333333328, 0.98368421052631583, 0.98450000000000004, 0.98476190476190473, 0.9845454545454545, 0.98521739130434782, 0.98499999999999999, 0.98440000000000005, 0.98499999999999999, 0.98444444444444446, 0.98357142857142854, 0.98344827586206895, 0.98399999999999999, 0.9838709677419355, 0.98343749999999996, 0.98303030303030303, 0.98264705882352943, 0.98285714285714287, 0.98277777777777775, 0.98270270270270266, 0.98289473684210527, 0.98282051282051286, 0.98324999999999996, 0.98365853658536584, 0.98333333333333328, 0.98279069767441862, 0.98250000000000004, 0.98244444444444445, 0.9826086956521739, 0.98297872340425529, 0.98333333333333328, 0.98346938775510206, 0.98360000000000003, 0.98392156862745095, 0.98423076923076924, 0.98415094339622644, 0.98425925925925928, 0.98418181818181816, 0.98392857142857137, 0.98403508771929826, 0.98431034482758617, 0.98440677966101697, 0.98450000000000004, 0.98442622950819669, 0.98435483870967744, 0.98460317460317459, 0.98453124999999997, 0.9844615384615385, 0.9845454545454545, 0.98447761194029848, 0.98455882352941182, 0.98449275362318844, 0.98442857142857143, 0.98450704225352115, 0.98430555555555554, 0.98452054794520549, 0.98472972972972972, 0.98466666666666669, 0.98486842105263162, 0.98480519480519479, 0.98474358974358978, 0.98443037974683545, 0.984375, 0.98432098765432097, 0.98439024390243901, 0.98421686746987946, 0.98428571428571432, 0.98411764705882354, 0.98418604651162789, 0.98425287356321844, 0.98431818181818187, 0.98415730337078655, 0.98433333333333328, 0.98439560439560436, 0.98456521739130431, 0.98430107526881716, 0.98425531914893616, 0.98442105263157897, 0.98427083333333332, 0.98432989690721651, 0.98448979591836738, 0.9845454545454545, nan, 1.0, 0.995, 0.9966666666666667, 0.99250000000000005, 0.98799999999999999, 0.98666666666666669, 0.98571428571428577, 0.98624999999999996, 0.98555555555555552, 0.98499999999999999, 0.9845454545454545, 0.98250000000000004, 0.98307692307692307, 0.98142857142857143, 0.97999999999999998, 0.97999999999999998, 0.98117647058823532, 0.98166666666666669, 0.98157894736842111, 0.98150000000000004, 0.98190476190476195, 0.98272727272727278, 0.98304347826086957, 0.98208333333333331, 0.98160000000000003, 0.98153846153846158, 0.98074074074074069, 0.98071428571428576, 0.9806896551724138, 0.98099999999999998, 0.98129032258064519, 0.98093750000000002, 0.98151515151515156, 0.98176470588235298, 0.98199999999999998, 0.98166666666666669, 0.98162162162162159, 0.9821052631578947, 0.982051282051282, 0.98224999999999996, 0.98243902439024389, 0.9821428571428571, 0.98232558139534887, 0.9822727272727273, 0.98222222222222222, 0.98217391304347823, 0.98212765957446813, 0.98208333333333331, 0.98224489795918368, 0.98199999999999998, 0.98176470588235298, 0.98153846153846158, 0.98169811320754718, 0.98203703703703704, 0.98236363636363633, 0.9821428571428571, 0.98245614035087714, 0.98241379310344823, 0.98271186440677971, 0.98250000000000004, 0.98213114754098363, 0.98241935483870968, 0.98269841269841274, 0.98265625000000001, 0.98276923076923073, 0.98287878787878791, 0.98313432835820891, 0.98294117647058821, 0.98304347826086957, 0.9831428571428571, 0.9830985915492958, 0.98319444444444448, 0.98328767123287675, 0.98351351351351346, 0.98373333333333335, 0.98368421052631583, 0.98363636363636364, 0.98371794871794871, 0.98367088607594932, 0.98350000000000004, 0.98370370370370375, 0.98365853658536584, 0.983855421686747, 0.98369047619047623, 0.98352941176470587, 0.98360465116279072, 0.98367816091954019, 0.98386363636363638, 0.9839325842696629, 0.98366666666666669, 0.98384615384615381, 0.98380434782608694, 0.9838709677419355, 0.98393617021276591, 0.98410526315789471, 0.98427083333333332, 0.98432989690721651, 0.9843877551020408, 0.9843434343434343, 0.98999999999999999, 0.98499999999999999, 0.98333333333333328, 0.98250000000000004, 0.97999999999999998, 0.98333333333333328, 0.98428571428571432, 0.98250000000000004, 0.97999999999999998, 0.97999999999999998, 0.97999999999999998, 0.97999999999999998, 0.98076923076923073, 0.98142857142857143, 0.98133333333333328, 0.98250000000000004, 0.98352941176470587, 0.98333333333333328, 0.98368421052631583, 0.98350000000000004, 0.9838095238095238, 0.9845454545454545, 0.98391304347826092, 0.98375000000000001, 0.98399999999999999, 0.9834615384615385, 0.98370370370370375, 0.98392857142857137, 0.98379310344827586, 0.98333333333333328, 0.9838709677419355, 0.98312500000000003, 0.98333333333333328, 0.98352941176470587, 0.98342857142857143, 0.98333333333333328, 0.98324324324324319, 0.98342105263157897, 0.98333333333333328, 0.98324999999999996, 0.98341463414634145, 0.9838095238095238, 0.98418604651162789, 0.9845454545454545, 0.98466666666666669, 0.98478260869565215, 0.98404255319148937, 0.98395833333333338, 0.98387755102040819, 0.98399999999999999, 0.98431372549019602, 0.98442307692307696, 0.98396226415094334, 0.98425925925925928, 0.9845454545454545, 0.98464285714285715, 0.98491228070175441, 0.98482758620689659, 0.98457627118644064, 0.98466666666666669, 0.98475409836065575, 0.98499999999999999, 0.98492063492063497, 0.98453124999999997, 0.9844615384615385, 0.9845454545454545, 0.98477611940298504, 0.98455882352941182, 0.98449275362318844, 0.98442857142857143, 0.9846478873239437, 0.98472222222222228, 0.98438356164383567, 0.98445945945945945, 0.98426666666666662, 0.98434210526315791, 0.98441558441558441, 0.98435897435897435, 0.98443037974683545, 0.984375, 0.98432098765432097, 0.98414634146341462, 0.98421686746987946, 0.98416666666666663, 0.9842352941176471, 0.98418604651162789, 0.98425287356321844, 0.98431818181818187, 0.98449438202247186, 0.98444444444444446, 0.98461538461538467, 0.98478260869565215, 0.98494623655913982, 0.98499999999999999, 0.9850526315789474, 0.98510416666666667, 0.98494845360824745, 0.98510204081632657, 0.98515151515151511, 0.9849, nan, 0.98999999999999999, 0.98999999999999999, 0.99333333333333329, 0.98999999999999999, 0.98799999999999999, 0.98833333333333329, 0.98999999999999999, 0.98999999999999999, 0.98999999999999999, 0.99099999999999999, 0.98999999999999999, 0.99083333333333334, 0.99153846153846159, 0.9921428571428571, 0.9926666666666667, 0.99124999999999996, 0.99058823529411766, 0.99055555555555552, 0.99105263157894741, 0.99099999999999999, 0.99142857142857144, 0.99090909090909096, 0.99043478260869566, 0.99041666666666661, 0.99039999999999995, 0.99038461538461542, 0.98999999999999999, 0.98892857142857138, 0.98896551724137927, 0.98899999999999999, 0.98935483870967744, 0.98906249999999996, 0.98848484848484852, 0.9882352941176471, 0.98828571428571432, 0.98805555555555558, 0.98810810810810812, 0.98763157894736842, 0.98769230769230765, 0.98699999999999999, 0.9873170731707317, 0.98738095238095236, 0.98720930232558135, 0.9872727272727273, 0.98733333333333329, 0.9869565217391304, 0.98723404255319147, 0.98729166666666668, 0.98755102040816323, 0.98760000000000003, 0.98764705882352943, 0.98750000000000004, 0.98773584905660372, 0.98796296296296293, 0.98781818181818182, 0.98767857142857141, 0.98789473684210527, 0.98724137931034484, 0.98711864406779659, 0.98666666666666669, 0.98672131147540987, 0.98645161290322581, 0.98603174603174604, 0.98609374999999999, 0.98630769230769233, 0.98606060606060608, 0.98626865671641795, 0.9864705882352941, 0.98637681159420287, 0.98657142857142854, 0.98647887323943662, 0.98666666666666669, 0.9865753424657534, 0.98648648648648651, 0.98666666666666669, 0.98684210526315785, 0.98701298701298701, 0.9869230769230769, 0.98632911392405065, 0.986375, 0.9865432098765432, 0.98670731707317072, 0.98674698795180726, 0.98666666666666669, 0.9864705882352941, 0.98639534883720925, 0.98643678160919546, 0.98636363636363633, 0.98617977528089884, 0.98622222222222222, 0.98626373626373631, 0.98608695652173917, 0.9859139784946237, 0.98585106382978727, 0.98589473684210527, 0.98583333333333334, 0.985979381443299, 0.98591836734693883, 0.98585858585858588, nan, 1.0, 0.98999999999999999, 0.98333333333333328, 0.98499999999999999, 0.98599999999999999, 0.98333333333333328, 0.98571428571428577, 0.98624999999999996, 0.98666666666666669, 0.98599999999999999, 0.98636363636363633, 0.98750000000000004, 0.9869230769230769, 0.9871428571428571, 0.98733333333333329, 0.98624999999999996, 0.98588235294117643, 0.98611111111111116, 0.98684210526315785, 0.98699999999999999, 0.9871428571428571, 0.9872727272727273, 0.98739130434782607, 0.98750000000000004, 0.98760000000000003, 0.98769230769230765, 0.9874074074074074, 0.98785714285714288, 0.98793103448275865, 0.98833333333333329, 0.98870967741935489, 0.98906249999999996, 0.98848484848484852, 0.98852941176470588, 0.98857142857142855, 0.98861111111111111, 0.98864864864864865, 0.98894736842105269, 0.9884615384615385, 0.98850000000000005, 0.98878048780487804, 0.9888095238095238, 0.98860465116279073, 0.98886363636363639, 0.98888888888888893, 0.98913043478260865, 0.98893617021276592, 0.98875000000000002, 0.98877551020408161, 0.98899999999999999, 0.98921568627450984, 0.98923076923076925, 0.98924528301886794, 0.98925925925925928, 0.98909090909090913, 0.98892857142857138, 0.98894736842105269, 0.98896551724137927, 0.98898305084745763, 0.98883333333333334, 0.98868852459016399, 0.9888709677419355, 0.98873015873015868, 0.98843749999999997, 0.9884615384615385, 0.98848484848484852, 0.98865671641791042, 0.98882352941176466, 0.98840579710144927, 0.98857142857142855, 0.9887323943661972, 0.98833333333333329, 0.98835616438356166, 0.98810810810810812, 0.98799999999999999, 0.98802631578947364, 0.98792207792207787, 0.98794871794871797, 0.98784810126582279, 0.98787499999999995, 0.98765432098765427, 0.98756097560975609, 0.98771084337349402, 0.98761904761904762, 0.98764705882352943, 0.98767441860465122, 0.98758620689655174, 0.98761363636363642, 0.9871910112359551, 0.98733333333333329, 0.98747252747252745, 0.98760869565217391, 0.98763440860215057, 0.98765957446808506, 0.98747368421052628, 0.98760416666666662, 0.98752577319587631, 0.98734693877551016, 0.98747474747474751, nan, 1.0, 0.995, 0.98666666666666669, 0.98499999999999999, 0.98399999999999999, 0.98666666666666669, 0.98571428571428577, 0.98750000000000004, 0.98777777777777775, 0.98899999999999999, 0.98909090909090913, 0.98999999999999999, 0.98999999999999999, 0.98999999999999999, 0.9906666666666667, 0.99062499999999998, 0.99117647058823533, 0.99055555555555552, 0.98999999999999999, 0.98999999999999999, 0.99047619047619051, 0.98954545454545451, 0.98956521739130432, 0.98999999999999999, 0.98960000000000004, 0.9884615384615385, 0.98851851851851846, 0.98857142857142855, 0.98862068965517247, 0.98833333333333329, 0.98806451612903223, 0.9871875, 0.9872727272727273, 0.98705882352941177, 0.9871428571428571, 0.98722222222222222, 0.98702702702702705, 0.98684210526315785, 0.9869230769230769, 0.98699999999999999, 0.9873170731707317, 0.98738095238095236, 0.98744186046511628, 0.98772727272727268, 0.98777777777777775, 0.98804347826086958, 0.98787234042553196, 0.98791666666666667, 0.98775510204081629, 0.98740000000000006, 0.98725490196078436, 0.98750000000000004, 0.98754716981132074, 0.98759259259259258, 0.98781818181818182, 0.98767857142857141, 0.98736842105263156, 0.98741379310344823, 0.98728813559322037, 0.98750000000000004, 0.98737704918032787, 0.98758064516129029, 0.98777777777777775, 0.98796874999999995, 0.98815384615384616, 0.98772727272727268, 0.98776119402985074, 0.98794117647058821, 0.98811594202898556, 0.9881428571428571, 0.98816901408450708, 0.98791666666666667, 0.98780821917808215, 0.98756756756756758, 0.98773333333333335, 0.98776315789473679, 0.98740259740259739, 0.98743589743589744, 0.98708860759493666, 0.98712500000000003, 0.98716049382716053, 0.9871951219512195, 0.98710843373493973, 0.9871428571428571, 0.98705882352941177, 0.98686046511627912, 0.98689655172413793, 0.98704545454545456, 0.9871910112359551, 0.98699999999999999, 0.9869230769230769, 0.98706521739130437, 0.98709677419354835, 0.98691489361702123, 0.98684210526315785, 0.98687499999999995, 0.98690721649484536, 0.98704081632653062, 0.9870707070707071, nan, 0.97999999999999998, 0.96999999999999997, 0.97333333333333338, 0.97999999999999998, 0.98199999999999998, 0.98499999999999999, 0.98428571428571432, 0.98499999999999999, 0.98666666666666669, 0.98499999999999999, 0.9845454545454545, 0.98499999999999999, 0.98384615384615381, 0.98428571428571432, 0.98533333333333328, 0.98499999999999999, 0.98411764705882354, 0.98444444444444446, 0.98473684210526313, 0.98550000000000004, 0.98571428571428577, 0.98545454545454547, 0.98608695652173917, 0.98624999999999996, 0.98560000000000003, 0.98615384615384616, 0.98555555555555552, 0.98464285714285715, 0.98482758620689659, 0.98533333333333328, 0.98548387096774193, 0.98499999999999999, 0.9845454545454545, 0.98470588235294121, 0.98485714285714288, 0.98472222222222228, 0.98486486486486491, 0.98499999999999999, 0.98487179487179488, 0.98524999999999996, 0.98560975609756096, 0.98547619047619051, 0.98534883720930233, 0.98499999999999999, 0.98533333333333328, 0.98565217391304349, 0.98595744680851061, 0.98624999999999996, 0.98632653061224485, 0.98640000000000005, 0.98666666666666669, 0.9869230769230769, 0.98679245283018868, 0.98685185185185187, 0.98672727272727268, 0.9866071428571429, 0.98666666666666669, 0.98689655172413793, 0.98694915254237292, 0.98699999999999999, 0.9868852459016394, 0.98677419354838714, 0.98698412698412696, 0.98687499999999995, 0.98676923076923073, 0.98681818181818182, 0.98671641791044773, 0.98676470588235299, 0.98666666666666669, 0.98657142857142854, 0.98661971830985917, 0.98638888888888887, 0.9865753424657534, 0.98675675675675678, 0.98680000000000001, 0.98697368421052634, 0.98701298701298701, 0.9869230769230769, 0.98670886075949371, 0.98662499999999997, 0.98666666666666669, 0.98670731707317072, 0.98650602409638555, 0.98654761904761901, 0.98635294117647054, 0.98639534883720925, 0.98643678160919546, 0.9864772727272727, 0.98629213483146072, 0.98644444444444446, 0.98648351648351651, 0.9866304347826087, 0.98623655913978492, 0.9863829787234043, 0.9865263157894737, 0.98635416666666664, 0.98639175257731959, 0.98653061224489791, 0.98646464646464649, nan, 1.0, 0.995, 0.9966666666666667, 0.99250000000000005, 0.98799999999999999, 0.98666666666666669, 0.98571428571428577, 0.98624999999999996, 0.98666666666666669, 0.98699999999999999, 0.98636363636363633, 0.98416666666666663, 0.98538461538461541, 0.98357142857142854, 0.98199999999999998, 0.98187500000000005, 0.98294117647058821, 0.98333333333333328, 0.98315789473684212, 0.98299999999999998, 0.98333333333333328, 0.98409090909090913, 0.98434782608695648, 0.98333333333333328, 0.98360000000000003, 0.98384615384615381, 0.98296296296296293, 0.98285714285714287, 0.98275862068965514, 0.98299999999999998, 0.98322580645161295, 0.98281249999999998, 0.98333333333333328, 0.98352941176470587, 0.98371428571428576, 0.9836111111111111, 0.98351351351351346, 0.98394736842105268, 0.98384615384615381, 0.98399999999999999, 0.98414634146341462, 0.9838095238095238, 0.98395348837209307, 0.98386363636363638, 0.98399999999999999, 0.98391304347826092, 0.98382978723404257, 0.98375000000000001, 0.98408163265306126, 0.98380000000000001, 0.98372549019607847, 0.9834615384615385, 0.98358490566037737, 0.98388888888888892, 0.98418181818181816, 0.98392857142857137, 0.98421052631578942, 0.98413793103448277, 0.98440677966101697, 0.98416666666666663, 0.98377049180327869, 0.98403225806451611, 0.98428571428571432, 0.98421875000000003, 0.98430769230769233, 0.98439393939393938, 0.98462686567164182, 0.98455882352941182, 0.9846376811594203, 0.98485714285714288, 0.98478873239436615, 0.98486111111111108, 0.98493150684931507, 0.98499999999999999, 0.98519999999999996, 0.98513157894736847, 0.98519480519480518, 0.98525641025641031, 0.98518987341772157, 0.98499999999999999, 0.98518518518518516, 0.98512195121951218, 0.98530120481927708, 0.98511904761904767, 0.98494117647058821, 0.98499999999999999, 0.98505747126436782, 0.98522727272727273, 0.98539325842696635, 0.98522222222222222, 0.98538461538461541, 0.98532608695652169, 0.98537634408602148, 0.98553191489361702, 0.98568421052631583, 0.98583333333333334, 0.98587628865979382, 0.98591836734693883, 0.98585858585858588, 1.0, 0.98999999999999999, 0.98999999999999999, 0.98999999999999999, 0.98799999999999999, 0.98999999999999999, 0.98999999999999999, 0.98750000000000004, 0.98666666666666669, 0.98599999999999999, 0.98545454545454547, 0.98499999999999999, 0.98615384615384616, 0.98642857142857143, 0.98666666666666669, 0.98750000000000004, 0.9882352941176471, 0.98777777777777775, 0.98789473684210527, 0.98750000000000004, 0.98761904761904762, 0.98818181818181816, 0.98782608695652174, 0.98750000000000004, 0.98760000000000003, 0.9869230769230769, 0.9874074074074074, 0.98750000000000004, 0.98724137931034484, 0.98666666666666669, 0.98709677419354835, 0.98656250000000001, 0.98666666666666669, 0.98705882352941177, 0.98685714285714288, 0.9869444444444444, 0.98675675675675678, 0.98684210526315785, 0.9869230769230769, 0.98675000000000002, 0.98707317073170731, 0.98738095238095236, 0.98767441860465122, 0.98795454545454542, 0.98799999999999999, 0.98804347826086958, 0.98744680851063826, 0.98729166666666668, 0.98755102040816323, 0.98760000000000003, 0.98784313725490192, 0.98788461538461536, 0.98735849056603775, 0.98759259259259258, 0.98781818181818182, 0.98785714285714288, 0.98807017543859654, 0.98793103448275865, 0.98762711864406783, 0.98766666666666669, 0.98770491803278693, 0.98790322580645162, 0.98777777777777775, 0.98750000000000004, 0.98738461538461542, 0.98742424242424243, 0.98761194029850752, 0.98750000000000004, 0.98724637681159422, 0.98728571428571432, 0.98746478873239441, 0.98750000000000004, 0.98712328767123292, 0.98716216216216213, 0.98693333333333333, 0.98697368421052634, 0.98701298701298701, 0.9869230769230769, 0.98696202531645572, 0.98687499999999995, 0.98691358024691356, 0.98670731707317072, 0.98662650602409641, 0.98666666666666669, 0.98670588235294121, 0.98662790697674418, 0.98678160919540225, 0.98693181818181819, 0.98707865168539322, 0.98699999999999999, 0.9871428571428571, 0.98728260869565221, 0.98741935483870968, 0.98744680851063826, 0.98747368421052628, 0.98750000000000004, 0.98731958762886596, 0.98744897959183675, 0.98747474747474751, 0.98729999999999996, nan, 1.0, 0.995, 0.9966666666666667, 0.995, 0.99199999999999999, 0.99333333333333329, 0.99428571428571433, 0.99375000000000002, 0.99444444444444446, 0.995, 0.99363636363636365, 0.99416666666666664, 0.99461538461538457, 0.995, 0.99533333333333329, 0.99437500000000001, 0.99352941176470588, 0.99333333333333329, 0.99368421052631584, 0.99350000000000005, 0.99380952380952381, 0.99363636363636365, 0.99347826086956526, 0.99333333333333329, 0.99319999999999997, 0.99346153846153851, 0.99296296296296294, 0.9921428571428571, 0.99241379310344824, 0.99233333333333329, 0.9925806451612903, 0.99250000000000005, 0.99181818181818182, 0.9914705882352941, 0.99142857142857144, 0.99111111111111116, 0.99108108108108106, 0.99078947368421055, 0.99076923076923074, 0.98999999999999999, 0.99024390243902438, 0.99023809523809525, 0.98999999999999999, 0.98999999999999999, 0.98999999999999999, 0.98978260869565216, 0.98999999999999999, 0.99020833333333336, 0.99040816326530612, 0.99060000000000004, 0.99058823529411766, 0.99038461538461542, 0.99056603773584906, 0.9907407407407407, 0.99054545454545451, 0.99071428571428577, 0.99087719298245613, 0.9903448275862069, 0.99016949152542377, 0.98983333333333334, 0.98983606557377046, 0.98951612903225805, 0.98904761904761906, 0.98906249999999996, 0.98923076923076925, 0.9889393939393939, 0.98910447761194031, 0.98926470588235293, 0.98913043478260865, 0.98928571428571432, 0.98915492957746476, 0.98930555555555555, 0.98931506849315065, 0.98918918918918919, 0.98933333333333329, 0.98947368421052628, 0.98961038961038961, 0.98948717948717946, 0.98886075949367092, 0.98887499999999995, 0.98901234567901231, 0.98914634146341462, 0.98915662650602409, 0.98928571428571432, 0.98905882352941177, 0.98895348837209307, 0.98896551724137927, 0.98886363636363639, 0.98865168539325843, 0.98866666666666669, 0.9886813186813187, 0.98858695652173911, 0.98838709677419356, 0.98829787234042554, 0.98831578947368426, 0.98822916666666671, 0.9883505154639175, 0.98826530612244901, 0.98828282828282832, nan, 1.0, 0.98999999999999999, 0.98666666666666669, 0.98999999999999999, 0.98999999999999999, 0.98999999999999999, 0.99142857142857144, 0.99124999999999996, 0.99111111111111116, 0.98999999999999999, 0.98999999999999999, 0.99083333333333334, 0.99076923076923074, 0.99071428571428577, 0.9906666666666667, 0.98999999999999999, 0.98941176470588232, 0.98944444444444446, 0.98999999999999999, 0.98999999999999999, 0.98999999999999999, 0.98999999999999999, 0.98999999999999999, 0.98999999999999999, 0.98999999999999999, 0.99038461538461542, 0.99037037037037035, 0.99071428571428577, 0.99068965517241381, 0.99099999999999999, 0.9912903225806452, 0.99156250000000001, 0.9906060606060606, 0.99088235294117644, 0.99085714285714288, 0.99111111111111116, 0.99135135135135133, 0.991578947368421, 0.99102564102564106, 0.99124999999999996, 0.99146341463414633, 0.99119047619047618, 0.9909302325581395, 0.99113636363636359, 0.99133333333333329, 0.99152173913043473, 0.99127659574468086, 0.99104166666666671, 0.99102040816326531, 0.99119999999999997, 0.99137254901960781, 0.99134615384615388, 0.99132075471698111, 0.99129629629629634, 0.99109090909090913, 0.99089285714285713, 0.99087719298245613, 0.99086206896551721, 0.99084745762711868, 0.9906666666666667, 0.99049180327868858, 0.99064516129032254, 0.99047619047619051, 0.99031250000000004, 0.99030769230769233, 0.99045454545454548, 0.99059701492537311, 0.99073529411764705, 0.99028985507246381, 0.99042857142857144, 0.99056338028169011, 0.9901388888888889, 0.99013698630136981, 0.98986486486486491, 0.98973333333333335, 0.98973684210526314, 0.9898701298701299, 0.98987179487179489, 0.98999999999999999, 0.99012500000000003, 0.9898765432098765, 0.9897560975609756, 0.98987951807228913, 0.98988095238095242, 0.98988235294117644, 0.98988372093023258, 0.98988505747126432, 0.98988636363636362, 0.98943820224719103, 0.98955555555555552, 0.98967032967032964, 0.98978260869565216, 0.9897849462365591, 0.9897872340425532, 0.989578947368421, 0.98968750000000005, 0.9895876288659794, 0.9893877551020408, 0.98949494949494954, nan, 1.0, 1.0, 0.9966666666666667, 0.99250000000000005, 0.99199999999999999, 0.99333333333333329, 0.99142857142857144, 0.99250000000000005, 0.99222222222222223, 0.99299999999999999, 0.99363636363636365, 0.99416666666666664, 0.99384615384615382, 0.99357142857142855, 0.99399999999999999, 0.99375000000000002, 0.99411764705882355, 0.99388888888888893, 0.99315789473684213, 0.99299999999999999, 0.99333333333333329, 0.99227272727272731, 0.99260869565217391, 0.99291666666666667, 0.99239999999999995, 0.99192307692307691, 0.99185185185185187, 0.9921428571428571, 0.99206896551724133, 0.9916666666666667, 0.99161290322580642, 0.99124999999999996, 0.99121212121212121, 0.99088235294117644, 0.99085714285714288, 0.99111111111111116, 0.99108108108108106, 0.99078947368421055, 0.99102564102564106, 0.99099999999999999, 0.99121951219512194, 0.99119047619047618, 0.99116279069767443, 0.99136363636363634, 0.99133333333333329, 0.99152173913043473, 0.99148936170212765, 0.99145833333333333, 0.99122448979591837, 0.99080000000000001, 0.99058823529411766, 0.99076923076923074, 0.99075471698113204, 0.9907407407407407, 0.99090909090909096, 0.99071428571428577, 0.99035087719298243, 0.9903448275862069, 0.99033898305084744, 0.99050000000000005, 0.99032786885245905, 0.99048387096774193, 0.99063492063492065, 0.99078124999999995, 0.99092307692307691, 0.99045454545454548, 0.99044776119402989, 0.99058823529411766, 0.99072463768115937, 0.99085714285714288, 0.99084507042253522, 0.99055555555555552, 0.99041095890410957, 0.99013513513513518, 0.99026666666666663, 0.99026315789473685, 0.9898701298701299, 0.98999999999999999, 0.98974683544303799, 0.98975000000000002, 0.9898765432098765, 0.9898780487804878, 0.98975903614457827, 0.98976190476190473, 0.98976470588235299, 0.98976744186046517, 0.98988505747126432, 0.98999999999999999, 0.99011235955056176, 0.98988888888888893, 0.98978021978021979, 0.98989130434782613, 0.98989247311827955, 0.98968085106382975, 0.98968421052631583, 0.98968750000000005, 0.98969072164948457, 0.98979591836734693, 0.98979797979797979, nan, 0.97999999999999998, 0.97499999999999998, 0.97666666666666668, 0.98250000000000004, 0.98399999999999999, 0.98666666666666669, 0.98571428571428577, 0.98750000000000004, 0.98888888888888893, 0.98799999999999999, 0.98818181818181816, 0.98833333333333329, 0.98769230769230765, 0.98785714285714288, 0.98866666666666669, 0.98812500000000003, 0.98764705882352943, 0.98777777777777775, 0.98789473684210527, 0.98850000000000005, 0.98857142857142855, 0.98818181818181816, 0.98869565217391309, 0.98875000000000002, 0.98880000000000001, 0.98923076923076925, 0.98851851851851846, 0.98750000000000004, 0.98758620689655174, 0.98799999999999999, 0.98806451612903223, 0.98781249999999998, 0.98787878787878791, 0.98794117647058821, 0.98799999999999999, 0.98777777777777775, 0.98810810810810812, 0.98815789473684212, 0.9884615384615385, 0.98875000000000002, 0.98902439024390243, 0.9888095238095238, 0.98860465116279073, 0.98818181818181816, 0.98844444444444446, 0.98869565217391309, 0.98893617021276592, 0.98916666666666664, 0.98918367346938774, 0.98919999999999997, 0.98941176470588232, 0.98961538461538456, 0.98943396226415092, 0.98944444444444446, 0.98945454545454548, 0.98928571428571432, 0.98929824561403512, 0.98948275862068968, 0.98966101694915254, 0.98966666666666669, 0.98950819672131152, 0.98935483870967744, 0.98952380952380947, 0.989375, 0.98923076923076925, 0.98924242424242426, 0.98910447761194031, 0.98911764705882355, 0.98913043478260865, 0.9891428571428571, 0.98915492957746476, 0.98888888888888893, 0.989041095890411, 0.98918918918918919, 0.98919999999999997, 0.98934210526315791, 0.98935064935064931, 0.98923076923076925, 0.98911392405063292, 0.98899999999999999, 0.98901234567901231, 0.98902439024390243, 0.98891566265060238, 0.98892857142857138, 0.98870588235294121, 0.98872093023255814, 0.98873563218390803, 0.98886363636363639, 0.9887640449438202, 0.98888888888888893, 0.9889010989010989, 0.98902173913043478, 0.98870967741935489, 0.98882978723404258, 0.98894736842105269, 0.9888541666666667, 0.98886597938144327, 0.98897959183673467, 0.98888888888888893, nan, 1.0, 1.0, 1.0, 0.995, 0.98999999999999999, 0.98833333333333329, 0.98571428571428577, 0.98624999999999996, 0.98666666666666669, 0.98699999999999999, 0.98636363636363633, 0.98416666666666663, 0.98538461538461541, 0.98428571428571432, 0.98266666666666669, 0.98312500000000003, 0.98411764705882354, 0.98499999999999999, 0.98473684210526313, 0.98450000000000004, 0.98476190476190473, 0.98545454545454547, 0.98565217391304349, 0.98541666666666672, 0.98599999999999999, 0.98615384615384616, 0.98518518518518516, 0.98499999999999999, 0.9851724137931035, 0.98533333333333328, 0.98548387096774193, 0.98531250000000004, 0.98575757575757572, 0.98588235294117643, 0.98599999999999999, 0.98583333333333334, 0.98567567567567571, 0.9860526315789474, 0.98589743589743595, 0.98599999999999999, 0.98609756097560974, 0.98571428571428577, 0.98581395348837209, 0.98568181818181821, 0.98577777777777775, 0.98565217391304349, 0.98574468085106381, 0.98562499999999997, 0.98591836734693883, 0.98560000000000003, 0.98549019607843136, 0.9851923076923077, 0.98528301886792458, 0.98555555555555552, 0.98581818181818182, 0.98589285714285713, 0.98614035087719298, 0.98603448275862071, 0.98627118644067802, 0.98599999999999999, 0.98573770491803281, 0.98596774193548387, 0.98619047619047617, 0.98609374999999999, 0.98615384615384616, 0.98621212121212121, 0.98641791044776117, 0.98632352941176471, 0.98637681159420287, 0.98657142857142854, 0.98661971830985917, 0.98666666666666669, 0.98684931506849316, 0.98689189189189186, 0.98706666666666665, 0.98710526315789471, 0.9871428571428571, 0.98717948717948723, 0.98721518987341772, 0.98699999999999999, 0.98716049382716053, 0.98707317073170731, 0.98722891566265059, 0.98702380952380953, 0.98705882352941177, 0.98709302325581394, 0.98712643678160916, 0.9872727272727273, 0.98741573033707863, 0.98733333333333329, 0.98747252747252745, 0.98739130434782607, 0.98741935483870968, 0.98755319148936171, 0.98768421052631583, 0.98781249999999998, 0.98783505154639173, 0.98795918367346935, 0.98797979797979796, 1.0, 0.995, 0.99333333333333329, 0.99250000000000005, 0.98999999999999999, 0.9916666666666667, 0.99142857142857144, 0.98999999999999999, 0.98888888888888893, 0.98899999999999999, 0.98818181818181816, 0.98750000000000004, 0.9884615384615385, 0.98857142857142855, 0.98866666666666669, 0.989375, 0.98999999999999999, 0.98944444444444446, 0.98999999999999999, 0.98950000000000005, 0.98952380952380947, 0.98999999999999999, 0.98999999999999999, 0.98999999999999999, 0.98999999999999999, 0.98923076923076925, 0.98962962962962964, 0.98964285714285716, 0.98931034482758617, 0.98866666666666669, 0.98903225806451611, 0.98843749999999997, 0.98848484848484852, 0.98882352941176466, 0.98857142857142855, 0.98888888888888893, 0.98864864864864865, 0.98868421052631583, 0.98871794871794871, 0.98850000000000005, 0.98878048780487804, 0.98904761904761906, 0.9893023255813953, 0.98954545454545451, 0.98955555555555552, 0.98956521739130432, 0.98893617021276592, 0.98895833333333338, 0.98918367346938774, 0.98919999999999997, 0.98941176470588232, 0.98942307692307696, 0.98905660377358495, 0.98925925925925928, 0.98945454545454548, 0.98964285714285716, 0.98982456140350872, 0.98982758620689659, 0.98949152542372887, 0.98950000000000005, 0.98950819672131152, 0.98967741935483866, 0.98968253968253972, 0.989375, 0.98938461538461542, 0.98939393939393938, 0.9895522388059701, 0.98941176470588232, 0.98913043478260865, 0.98928571428571432, 0.98943661971830987, 0.98944444444444446, 0.98931506849315065, 0.98945945945945946, 0.98919999999999997, 0.98921052631578943, 0.98935064935064931, 0.98923076923076925, 0.98924050632911398, 0.98912500000000003, 0.98913580246913579, 0.98902439024390243, 0.98891566265060238, 0.98892857142857138, 0.98894117647058821, 0.98895348837209307, 0.98908045977011494, 0.9892045454545455, 0.98932584269662927, 0.98922222222222222, 0.98934065934065929, 0.98945652173913046, 0.98956989247311833, 0.98957446808510641, 0.98968421052631583, 0.98968750000000005, 0.98948453608247422, 0.98959183673469386, 0.98969696969696974, 0.98950000000000005, nan, 1.0, 1.0, 1.0, 0.99750000000000005, 0.99399999999999999, 0.995, 0.99571428571428566, 0.995, 0.99555555555555553, 0.996, 0.99454545454545451, 0.995, 0.99538461538461542, 0.99571428571428566, 0.996, 0.995, 0.99411764705882355, 0.99388888888888893, 0.99421052631578943, 0.99399999999999999, 0.99428571428571433, 0.99409090909090914, 0.99391304347826082, 0.99375000000000002, 0.99360000000000004, 0.99384615384615382, 0.99333333333333329, 0.99285714285714288, 0.99310344827586206, 0.99333333333333329, 0.99354838709677418, 0.99343749999999997, 0.99303030303030304, 0.99264705882352944, 0.99257142857142855, 0.99250000000000005, 0.9924324324324324, 0.99210526315789471, 0.99205128205128201, 0.99175000000000002, 0.99195121951219511, 0.99190476190476196, 0.99162790697674419, 0.99159090909090908, 0.99155555555555552, 0.99130434782608701, 0.99148936170212765, 0.9916666666666667, 0.99183673469387756, 0.99199999999999999, 0.99196078431372547, 0.99173076923076919, 0.99188679245283018, 0.99203703703703705, 0.99199999999999999, 0.9921428571428571, 0.99228070175438599, 0.99172413793103453, 0.99152542372881358, 0.99133333333333329, 0.99147540983606552, 0.99112903225806448, 0.99079365079365078, 0.99078124999999995, 0.99092307692307691, 0.9906060606060606, 0.99074626865671644, 0.99088235294117644, 0.99072463768115937, 0.99085714285714288, 0.99070422535211267, 0.99083333333333334, 0.99082191780821915, 0.99067567567567572, 0.99080000000000001, 0.99092105263157892, 0.99103896103896105, 0.99089743589743595, 0.990253164556962, 0.99024999999999996, 0.99037037037037035, 0.99048780487804877, 0.99048192771084342, 0.99059523809523808, 0.99035294117647055, 0.99023255813953492, 0.99022988505747123, 0.99022727272727273, 0.98999999999999999, 0.98999999999999999, 0.98999999999999999, 0.98999999999999999, 0.9897849462365591, 0.98968085106382975, 0.98968421052631583, 0.98958333333333337, 0.98969072164948457, 0.98959183673469386, 0.98959595959595958, nan, 1.0, 0.98999999999999999, 0.98666666666666669, 0.98999999999999999, 0.98999999999999999, 0.98999999999999999, 0.99142857142857144, 0.99124999999999996, 0.99111111111111116, 0.99099999999999999, 0.99090909090909096, 0.9916666666666667, 0.99076923076923074, 0.99071428571428577, 0.9906666666666667, 0.98999999999999999, 0.98941176470588232, 0.98944444444444446, 0.98999999999999999, 0.98999999999999999, 0.98999999999999999, 0.99045454545454548, 0.99043478260869566, 0.99041666666666661, 0.99039999999999995, 0.99076923076923074, 0.9907407407407407, 0.9910714285714286, 0.99103448275862072, 0.99133333333333329, 0.99161290322580642, 0.99187499999999995, 0.99121212121212121, 0.9914705882352941, 0.99142857142857144, 0.9916666666666667, 0.99189189189189186, 0.99210526315789471, 0.99153846153846159, 0.99175000000000002, 0.99195121951219511, 0.99190476190476196, 0.99186046511627912, 0.99204545454545456, 0.99222222222222223, 0.99239130434782608, 0.99212765957446813, 0.99187499999999995, 0.99183673469387756, 0.99199999999999999, 0.99215686274509807, 0.99211538461538462, 0.99207547169811316, 0.99203703703703705, 0.99181818181818182, 0.99160714285714291, 0.991578947368421, 0.99155172413793102, 0.99152542372881358, 0.99133333333333329, 0.99114754098360658, 0.9912903225806452, 0.99111111111111116, 0.99093750000000003, 0.99107692307692308, 0.99121212121212121, 0.99134328358208956, 0.9914705882352941, 0.99101449275362319, 0.9911428571428571, 0.99126760563380278, 0.99111111111111116, 0.99109589041095891, 0.99081081081081079, 0.9906666666666667, 0.99065789473684207, 0.99077922077922076, 0.99076923076923074, 0.99088607594936706, 0.99099999999999999, 0.99086419753086419, 0.99085365853658536, 0.99096385542168675, 0.99095238095238092, 0.99094117647058821, 0.9909302325581395, 0.99091954022988504, 0.99102272727272722, 0.99067415730337083, 0.99077777777777776, 0.99087912087912089, 0.9909782608695652, 0.99096774193548387, 0.99095744680851061, 0.99105263157894741, 0.99114583333333328, 0.99103092783505153, 0.99091836734693872, 0.99101010101010101, nan, 1.0, 1.0, 0.9966666666666667, 0.995, 0.99399999999999999, 0.995, 0.99285714285714288, 0.99375000000000002, 0.99444444444444446, 0.995, 0.99545454545454548, 0.99583333333333335, 0.99538461538461542, 0.995, 0.99533333333333329, 0.995, 0.99529411764705877, 0.99555555555555553, 0.99473684210526314, 0.99450000000000005, 0.99476190476190474, 0.99363636363636365, 0.99391304347826082, 0.99416666666666664, 0.99360000000000004, 0.99307692307692308, 0.99296296296296294, 0.99321428571428572, 0.99310344827586206, 0.9926666666666667, 0.9925806451612903, 0.99250000000000005, 0.99242424242424243, 0.99205882352941177, 0.99199999999999999, 0.99222222222222223, 0.99216216216216213, 0.99184210526315786, 0.99205128205128201, 0.99199999999999999, 0.99219512195121951, 0.99238095238095236, 0.99232558139534888, 0.99250000000000005, 0.99244444444444446, 0.99260869565217391, 0.99255319148936172, 0.99250000000000005, 0.99244897959183676, 0.99219999999999997, 0.99215686274509807, 0.99230769230769234, 0.99226415094339626, 0.9924074074074074, 0.99254545454545451, 0.99232142857142858, 0.99192982456140355, 0.99189655172413793, 0.99186440677966103, 0.99199999999999999, 0.99180327868852458, 0.99193548387096775, 0.99206349206349209, 0.9921875, 0.99230769230769234, 0.99196969696969695, 0.99194029850746268, 0.99191176470588238, 0.99202898550724639, 0.9921428571428571, 0.99211267605633802, 0.99180555555555561, 0.99178082191780825, 0.99148648648648652, 0.99160000000000004, 0.991578947368421, 0.99142857142857144, 0.99153846153846159, 0.99126582278481012, 0.99124999999999996, 0.99135802469135803, 0.99146341463414633, 0.99132530120481932, 0.99142857142857144, 0.99152941176470588, 0.99151162790697678, 0.99160919540229886, 0.99170454545454545, 0.99179775280898874, 0.99155555555555552, 0.99153846153846159, 0.99163043478260871, 0.99161290322580642, 0.99138297872340431, 0.99147368421052628, 0.99145833333333333, 0.99144329896907213, 0.99153061224489791, 0.99151515151515146, nan, 0.98999999999999999, 0.97999999999999998, 0.98333333333333328, 0.98750000000000004, 0.98999999999999999, 0.9916666666666667, 0.98999999999999999, 0.99124999999999996, 0.99222222222222223, 0.99099999999999999, 0.99090909090909096, 0.99083333333333334, 0.98999999999999999, 0.98999999999999999, 0.9906666666666667, 0.98999999999999999, 0.98941176470588232, 0.98944444444444446, 0.98947368421052628, 0.98999999999999999, 0.98999999999999999, 0.98954545454545451, 0.98999999999999999, 0.99041666666666661, 0.99039999999999995, 0.99076923076923074, 0.98999999999999999, 0.98892857142857138, 0.98896551724137927, 0.98899999999999999, 0.98935483870967744, 0.98906249999999996, 0.98939393939393938, 0.98970588235294121, 0.98971428571428577, 0.98944444444444446, 0.98972972972972972, 0.98973684210526314, 0.98999999999999999, 0.99024999999999996, 0.99048780487804877, 0.99047619047619051, 0.99023255813953492, 0.98977272727272725, 0.98999999999999999, 0.99021739130434783, 0.99042553191489358, 0.99062499999999998, 0.99061224489795918, 0.99060000000000004, 0.99078431372549025, 0.99096153846153845, 0.99094339622641514, 0.99092592592592588, 0.99090909090909096, 0.99071428571428577, 0.99070175438596486, 0.99086206896551721, 0.99101694915254235, 0.99099999999999999, 0.99081967213114752, 0.99064516129032254, 0.99079365079365078, 0.99093750000000003, 0.99076923076923074, 0.99075757575757573, 0.99059701492537311, 0.99058823529411766, 0.99057971014492752, 0.99057142857142855, 0.99070422535211267, 0.99041666666666661, 0.99054794520547951, 0.99067567567567572, 0.9906666666666667, 0.99078947368421055, 0.99077922077922076, 0.99064102564102563, 0.99075949367088612, 0.99075000000000002, 0.9907407407407407, 0.99073170731707316, 0.99060240963855417, 0.99059523809523808, 0.99035294117647055, 0.99034883720930234, 0.9903448275862069, 0.99045454545454548, 0.99033707865168541, 0.99044444444444446, 0.99054945054945054, 0.9906521739130435, 0.99043010752688176, 0.99053191489361703, 0.99063157894736842, 0.99072916666666666, 0.99072164948453612, 0.99081632653061225, 0.99070707070707076, nan, 1.0, 1.0, 1.0, 0.995, 0.98999999999999999, 0.98833333333333329, 0.98571428571428577, 0.98624999999999996, 0.98666666666666669, 0.98699999999999999, 0.98636363636363633, 0.98416666666666663, 0.98538461538461541, 0.98428571428571432, 0.98333333333333328, 0.98375000000000001, 0.98470588235294121, 0.98555555555555552, 0.98578947368421055, 0.98550000000000004, 0.98571428571428577, 0.98636363636363633, 0.98652173913043473, 0.98624999999999996, 0.98680000000000001, 0.98653846153846159, 0.98555555555555552, 0.98535714285714282, 0.98551724137931029, 0.98566666666666669, 0.98612903225806448, 0.98624999999999996, 0.98666666666666669, 0.98676470588235299, 0.9871428571428571, 0.9869444444444444, 0.98702702702702705, 0.98736842105263156, 0.98717948717948723, 0.98724999999999996, 0.9873170731707317, 0.98690476190476195, 0.98697674418604653, 0.98681818181818182, 0.98688888888888893, 0.98673913043478256, 0.98702127659574468, 0.98687499999999995, 0.9871428571428571, 0.98680000000000001, 0.98666666666666669, 0.98673076923076919, 0.98698113207547167, 0.98722222222222222, 0.98745454545454547, 0.98750000000000004, 0.987719298245614, 0.98758620689655174, 0.9877966101694915, 0.98750000000000004, 0.98721311475409834, 0.98741935483870968, 0.98761904761904762, 0.98765625000000001, 0.98769230769230765, 0.98772727272727268, 0.98791044776119408, 0.98779411764705882, 0.9879710144927536, 0.9881428571428571, 0.98816901408450708, 0.98819444444444449, 0.98835616438356166, 0.98851351351351346, 0.98866666666666669, 0.98868421052631583, 0.98870129870129875, 0.98871794871794871, 0.98873417721518986, 0.98850000000000005, 0.98864197530864195, 0.98853658536585365, 0.98867469879518077, 0.98869047619047623, 0.98882352941176466, 0.98883720930232555, 0.9888505747126437, 0.98897727272727276, 0.98910112359550562, 0.98899999999999999, 0.98912087912087909, 0.98902173913043478, 0.98903225806451611, 0.98914893617021271, 0.98926315789473684, 0.989375, 0.98938144329896904, 0.98948979591836739, 0.98949494949494954]\n"
     ]
    },
    {
     "name": "stderr",
     "output_type": "stream",
     "text": [
      "/Users/muhyun/anaconda/lib/python3.6/json/encoder.py:199: DeprecationWarning: Interpreting naive datetime as local 2017-08-20 22:44:51.756545. Please add timezone info to timestamps.\n",
      "  chunks = self.iterencode(o, _one_shot=True)\n"
     ]
    }
   ],
   "source": [
    "# create a trainable module on GPU 0\n",
    "\n",
    "accu = []\n",
    "def my_callback(param):\n",
    "    _, value = param.eval_metric.get()\n",
    "    accu.append(value)\n",
    "\n",
    "lenet_model = mx.mod.Module(symbol=lenet, context=mx.cpu())\n",
    "# train with the same\n",
    "lenet_model.fit(train_iter,\n",
    "                eval_data=val_iter,\n",
    "                optimizer='sgd',\n",
    "                optimizer_params={'learning_rate':0.1},\n",
    "                eval_metric='acc',\n",
    "                batch_end_callback = [mx.callback.Speedometer(batch_size, 100),my_callback],\n",
    "                num_epoch=10)"
   ]
  },
  {
   "cell_type": "code",
   "execution_count": 36,
   "metadata": {
    "collapsed": false,
    "deletable": true,
    "editable": true
   },
   "outputs": [
    {
     "data": {
      "image/png": "[encoded data removed]",
      "text/plain": [
       "<matplotlib.figure.Figure at 0x116f66d30>"
      ]
     },
     "metadata": {},
     "output_type": "display_data"
    },
    {
     "name": "stderr",
     "output_type": "stream",
     "text": [
      "/Users/muhyun/anaconda/lib/python3.6/json/encoder.py:199: DeprecationWarning: Interpreting naive datetime as local 2017-08-20 22:58:31.094234. Please add timezone info to timestamps.\n",
      "  chunks = self.iterencode(o, _one_shot=True)\n"
     ]
    }
   ],
   "source": [
    "plt.plot(accu)\n",
    "plt.ylabel('accuracy')\n",
    "plt.xlabel('iterations (per hundreds)')\n",
    "plt.title(\"Learning rate = 0.1\")\n",
    "plt.show()"
   ]
  },
  {
   "cell_type": "markdown",
   "metadata": {
    "deletable": true,
    "editable": true
   },
   "source": [
    "### 예측 (Prediction)\n",
    "\n",
    "학습이 완료된 LeNet 모델에 테스트 데이터를 이용해서 모델 성능을 평가합니다."
   ]
  },
  {
   "cell_type": "code",
   "execution_count": 11,
   "metadata": {
    "collapsed": false,
    "deletable": true,
    "editable": true
   },
   "outputs": [
    {
     "name": "stdout",
     "output_type": "stream",
     "text": [
      "EvalMetric: {'accuracy': 0.98809999999999998}\n"
     ]
    },
    {
     "name": "stderr",
     "output_type": "stream",
     "text": [
      "/Users/muhyun/anaconda/lib/python3.6/json/encoder.py:199: DeprecationWarning: Interpreting naive datetime as local 2017-08-20 16:22:42.591216. Please add timezone info to timestamps.\n",
      "  chunks = self.iterencode(o, _one_shot=True)\n"
     ]
    }
   ],
   "source": [
    "test_iter = mx.io.NDArrayIter(mnist['test_data'], None, batch_size)\n",
    "prob = lenet_model.predict(test_iter)\n",
    "test_iter = mx.io.NDArrayIter(mnist['test_data'], mnist['test_label'], batch_size)\n",
    "# predict accuracy for lenet\n",
    "acc = mx.metric.Accuracy()\n",
    "lenet_model.score(test_iter, acc)\n",
    "print(acc)\n",
    "assert acc.get()[1] > 0.98"
   ]
  },
  {
   "cell_type": "markdown",
   "metadata": {
    "deletable": true,
    "editable": true
   },
   "source": [
    "LeNet 모델의 성능(정확도)가 MLP의 성능보다 좋은 것을 볼 수 있습니다. "
   ]
  },
  {
   "cell_type": "code",
   "execution_count": null,
   "metadata": {
    "collapsed": true,
    "deletable": true,
    "editable": true
   },
   "outputs": [],
   "source": []
  }
 ],
 "metadata": {
  "display_name": "",
  "kernelspec": {
   "display_name": "Python 3",
   "language": "python",
   "name": "python3"
  },
  "language_info": {
   "codemirror_mode": {
    "name": "ipython",
    "version": 3
   },
   "file_extension": ".py",
   "mimetype": "text/x-python",
   "name": "python",
   "nbconvert_exporter": "python",
   "pygments_lexer": "ipython3",
   "version": "3.6.1"
  },
  "name": ""
 },
 "nbformat": 4,
 "nbformat_minor": 2
}
