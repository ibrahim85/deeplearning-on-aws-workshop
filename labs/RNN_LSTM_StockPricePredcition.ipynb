{
 "cells": [
  {
   "cell_type": "markdown",
   "metadata": {},
   "source": [
    "# LSTM을 이용한 주가 예측\n",
    "\n",
    "본 실습은 LSTM 아키텍처를 이용한 neural network를 구성해서 주가를 예측해봅니다. 이 실습 코드는 https://github.com/llSourcell/How-to-Predict-Stock-Prices-Easily-Demo 를 바탕으로 작성되었습니다.\n",
    "\n",
    "> **NOTE** Python 2 커널을 사용하세요."
   ]
  },
  {
   "cell_type": "markdown",
   "metadata": {},
   "source": [
    "### 1. 필요한 라이브러리 Import\n",
    "\n",
    "* keras: Dense (Fully connected layer), Activation 함수, Dropout 함수를 사용하기 위해서 import\n",
    "* lstm-stockprice: 학습 데이터 준비, 모델 정의 등\n",
    "* time"
   ]
  },
  {
   "cell_type": "code",
   "execution_count": 1,
   "metadata": {},
   "outputs": [
    {
     "name": "stderr",
     "output_type": "stream",
     "text": [
      "Using TensorFlow backend.\n"
     ]
    }
   ],
   "source": [
    "from keras.layers.core import Dense, Activation, Dropout\n",
    "from keras.layers.recurrent import LSTM\n",
    "from keras.models import Sequential\n",
    "import lstm_stockprice, time #helper libraries"
   ]
  },
  {
   "cell_type": "markdown",
   "metadata": {},
   "source": [
    "### 2. 학습 데이터 로딩\n",
    "\n",
    "과거의 S&P 500 가격 데이터를 학습 데이터와 검증 데이터로 90:10 비율로 나눕니다."
   ]
  },
  {
   "cell_type": "code",
   "execution_count": 2,
   "metadata": {
    "collapsed": true
   },
   "outputs": [],
   "source": [
    "X_train, y_train, X_test, y_test = lstm_stockprice.load_data('sp500.csv', 50, True)"
   ]
  },
  {
   "cell_type": "markdown",
   "metadata": {},
   "source": [
    "### 3. LSTM 네트워크 정의\n",
    "\n",
    "Input --> LSTM --> LSTM --> Dense --> Linear Activation"
   ]
  },
  {
   "cell_type": "code",
   "execution_count": 3,
   "metadata": {},
   "outputs": [
    {
     "name": "stdout",
     "output_type": "stream",
     "text": [
      "('compilation time : ', 0.019266843795776367)\n"
     ]
    }
   ],
   "source": [
    "model = Sequential()\n",
    "\n",
    "model.add(LSTM(\n",
    "    input_dim=1,\n",
    "    output_dim=50,\n",
    "    return_sequences=True))\n",
    "model.add(Dropout(0.2))\n",
    "\n",
    "model.add(LSTM(\n",
    "    100,\n",
    "    return_sequences=False))\n",
    "model.add(Dropout(0.2))\n",
    "\n",
    "model.add(Dense(\n",
    "    output_dim=1))\n",
    "model.add(Activation('linear'))\n",
    "\n",
    "start = time.time()\n",
    "model.compile(loss='mse', optimizer='rmsprop')\n",
    "print('compilation time : ', time.time() - start)"
   ]
  },
  {
   "cell_type": "markdown",
   "metadata": {},
   "source": [
    "### 4. 학습 수행\n",
    "\n",
    "다음과 같은 설정으로 학습을 수행합니다.\n",
    "\n",
    "* batch_size\n",
    "* nb_epoch\n",
    "* validation_split\n",
    "\n",
    "학습이 수행되는 과정에서, loss값과 val_loss값이 어떻게 변하고 있는지 관찰해보세요."
   ]
  },
  {
   "cell_type": "code",
   "execution_count": 4,
   "metadata": {},
   "outputs": [
    {
     "name": "stdout",
     "output_type": "stream",
     "text": [
      "Train on 3523 samples, validate on 186 samples\n",
      "Epoch 1/10\n",
      "3523/3523 [==============================] - 33s - loss: 0.0047 - val_loss: 0.0012\n",
      "Epoch 2/10\n",
      "3523/3523 [==============================] - 1s - loss: 9.5342e-04 - val_loss: 9.5551e-04\n",
      "Epoch 3/10\n",
      "3523/3523 [==============================] - 1s - loss: 8.3225e-04 - val_loss: 9.4625e-04\n",
      "Epoch 4/10\n",
      "3523/3523 [==============================] - 1s - loss: 7.2129e-04 - val_loss: 7.3746e-04\n",
      "Epoch 5/10\n",
      "3523/3523 [==============================] - 1s - loss: 5.9638e-04 - val_loss: 6.8954e-04\n",
      "Epoch 6/10\n",
      "3523/3523 [==============================] - 1s - loss: 7.1575e-04 - val_loss: 5.8269e-04\n",
      "Epoch 7/10\n",
      "3523/3523 [==============================] - 1s - loss: 5.0007e-04 - val_loss: 5.3612e-04\n",
      "Epoch 8/10\n",
      "3523/3523 [==============================] - 1s - loss: 5.5277e-04 - val_loss: 5.2962e-04\n",
      "Epoch 9/10\n",
      "3523/3523 [==============================] - 1s - loss: 5.0638e-04 - val_loss: 5.1758e-04\n",
      "Epoch 10/10\n",
      "3523/3523 [==============================] - 1s - loss: 5.6526e-04 - val_loss: 4.3228e-04\n"
     ]
    },
    {
     "data": {
      "text/plain": [
       "<keras.callbacks.History at 0x7f6f6d416890>"
      ]
     },
     "execution_count": 4,
     "metadata": {},
     "output_type": "execute_result"
    }
   ],
   "source": [
    "model.fit(\n",
    "    X_train,\n",
    "    y_train,\n",
    "    batch_size=512,\n",
    "    nb_epoch=10,\n",
    "    validation_split=0.05)"
   ]
  },
  {
   "cell_type": "markdown",
   "metadata": {},
   "source": [
    "### 5. 예측한 결과를 그래프로 그래기"
   ]
  },
  {
   "cell_type": "code",
   "execution_count": 5,
   "metadata": {},
   "outputs": [
    {
     "name": "stdout",
     "output_type": "stream",
     "text": [
      "yo\n"
     ]
    },
    {
     "data": {
      "image/png": "[encoded data removed]",
      "text/plain": [
       "<matplotlib.figure.Figure at 0x7f6f742a4710>"
      ]
     },
     "metadata": {},
     "output_type": "display_data"
    }
   ],
   "source": [
    "predictions = lstm_stockprice.predict_sequences_multiple(model, X_test, 50, 50)\n",
    "lstm_stockprice.plot_results_multiple(predictions, y_test, 100)"
   ]
  },
  {
   "cell_type": "markdown",
   "metadata": {
    "collapsed": true
   },
   "source": [
    "> <font color='red'>문제</font>\n",
    ">\n",
    "> 1. 여러분이 원하는 회사의 주가 정보를 [Google Finance](https://www.google.com/finance?ei=6gafWZGyM9XD0AT4r7aQBQ)에서 검색해서 과거 주가 기록을 다운로드해서 모델을 다시 학습을 수행해보세요.\n",
    "> 2. LSTM 레이어를 추가하거나, Dropout 값을 변경하면서 학습을 수행하면서 loss 값과 val_loss 값이 어떻게 변하는지 관찰해보세요."
   ]
  }
 ],
 "metadata": {
  "kernelspec": {
   "display_name": "Python 2",
   "language": "python",
   "name": "python2"
  },
  "language_info": {
   "codemirror_mode": {
    "name": "ipython",
    "version": 2
   },
   "file_extension": ".py",
   "mimetype": "text/x-python",
   "name": "python",
   "nbconvert_exporter": "python",
   "pygments_lexer": "ipython2",
   "version": "2.7.12"
  }
 },
 "nbformat": 4,
 "nbformat_minor": 2
}
