{
 "cells": [
  {
   "cell_type": "markdown",
   "metadata": {},
   "source": [
    "# Recurrent Neural Network 실습 \n",
    "\n",
    "## LSTM을 이용한 SIN 함수 예측하기\n",
    "\n",
    "이번 실습은 RNN 네트워크인 LSTM을 이용한 sin 함수 또는 cos 함수와 같은 연속된 값을 예측하는 regression 모델을 구현해봅니다. 이 실습에 사용하는 코드는 https://github.com/mouradmourafiq/tensorflow-lstm-regression 를 기반으로 구성되었습니다.\n",
    "\n",
    "* 참고: http://mourafiq.com/2016/05/15/predicting-sequences-using-rnn-in-tensorflow.html"
   ]
  },
  {
   "cell_type": "markdown",
   "metadata": {},
   "source": [
    "### 1. 필요한 라이브러리  import\n",
    "\n",
    "* numpy\n",
    "* [pandas](http://pandas.pydata.org/about.html): 고성능 data structure 및 데이터 분석 패키지\n",
    "* tensorflow\n",
    "* [matplotlib](https://matplotlib.org): Python 2D plotting 라이브러리\n",
    "* [sklearn](http://scikit-learn.org/stable/): python machine learning 라이브러리\n",
    "\n",
    "\n",
    "* [lstm.py](./lstm.py): LSTM 네트워크 구현\n",
    "* data_processing: 학습, 검증 데이터 생성"
   ]
  },
  {
   "cell_type": "code",
   "execution_count": 1,
   "metadata": {},
   "outputs": [],
   "source": [
    "%matplotlib inline\n",
    "import numpy as np\n",
    "import pandas as pd\n",
    "import tensorflow as tf\n",
    "from matplotlib import pyplot as plt\n",
    "\n",
    "from tensorflow.contrib import learn\n",
    "from sklearn.metrics import mean_squared_error\n",
    "\n",
    "from lstm import lstm_model\n",
    "from data_processing import generate_data"
   ]
  },
  {
   "cell_type": "markdown",
   "metadata": {},
   "source": [
    "### 2. Model에 대한 hyperparameter 정의\n",
    "\n",
    "* TIMESTEPS:\n",
    "* RNN_LAYERS:\n",
    "* DENSE_LAYERS:\n",
    "* TRAINING_STEPS:\n",
    "* BATCH_SIZE:"
   ]
  },
  {
   "cell_type": "code",
   "execution_count": 4,
   "metadata": {},
   "outputs": [],
   "source": [
    "LOG_DIR = './ops_logs/sin'\n",
    "TIMESTEPS = 3\n",
    "RNN_LAYERS = [{'num_units': 5}]\n",
    "DENSE_LAYERS = None\n",
    "TRAINING_STEPS = 10 #10000\n",
    "PRINT_STEPS = TRAINING_STEPS / 10\n",
    "BATCH_SIZE = 100"
   ]
  },
  {
   "cell_type": "markdown",
   "metadata": {},
   "source": [
    "### 3. LSTM 네트워크 정의\n",
    "\n",
    "Hyperparameter를 이용해서 LSTM 네트워크를 정의합니다."
   ]
  },
  {
   "cell_type": "code",
   "execution_count": 5,
   "metadata": {},
   "outputs": [
    {
     "name": "stdout",
     "output_type": "stream",
     "text": [
      "INFO:tensorflow:Using default config.\n",
      "INFO:tensorflow:Using config: {'_save_checkpoints_secs': 600, '_tf_config': gpu_options {\n",
      "  per_process_gpu_memory_fraction: 1\n",
      "}\n",
      ", '_save_summary_steps': 100, '_evaluation_master': '', '_model_dir': './ops_logs/sin', '_task_type': None, '_environment': 'local', '_save_checkpoints_steps': None, '_num_ps_replicas': 0, '_keep_checkpoint_every_n_hours': 10000, '_num_worker_replicas': 0, '_session_config': None, '_task_id': 0, '_is_chief': True, '_master': '', '_keep_checkpoint_max': 5, '_tf_random_seed': None, '_cluster_spec': <tensorflow.python.training.server_lib.ClusterSpec object at 0x7fdeca609198>}\n"
     ]
    }
   ],
   "source": [
    "regressor = learn.SKCompat(learn.Estimator(\n",
    "    model_fn=lstm_model(\n",
    "        TIMESTEPS,\n",
    "        RNN_LAYERS,\n",
    "        DENSE_LAYERS\n",
    "    ),\n",
    "    model_dir=LOG_DIR\n",
    "))"
   ]
  },
  {
   "cell_type": "markdown",
   "metadata": {},
   "source": [
    "### 4. 학습 데이터 생성\n",
    "\n",
    "* generate_data: sin 함수를 이용한 학습 데이터를 생성합니다.\n",
    "* learn.monitors.ValidationMonitor를 이용해서, 학습이 진행되는 동안 test 데이터로 모델의 성능을 검증합니다. every_n_steps은 몇번의 step 마다 검증을 수행할지를 정의합니다."
   ]
  },
  {
   "cell_type": "code",
   "execution_count": 6,
   "metadata": {},
   "outputs": [
    {
     "name": "stdout",
     "output_type": "stream",
     "text": [
      "WARNING:tensorflow:From /usr/local/lib/python3.5/dist-packages/tensorflow/contrib/learn/python/learn/monitors.py:268: BaseMonitor.__init__ (from tensorflow.contrib.learn.python.learn.monitors) is deprecated and will be removed after 2016-12-05.\n",
      "Instructions for updating:\n",
      "Monitors are deprecated. Please use tf.train.SessionRunHook.\n"
     ]
    },
    {
     "data": {
      "image/png": "[encoded data removed]",
      "text/plain": [
       "<matplotlib.figure.Figure at 0x7fdeca609828>"
      ]
     },
     "metadata": {},
     "output_type": "display_data"
    }
   ],
   "source": [
    "X, y = generate_data(np.sin, np.linspace(0, 100, 10000, dtype=np.float32), TIMESTEPS, seperate=False)\n",
    "plot_training, = plt.plot(y['train'][:2000], label='training')\n",
    "plt.legend(handles=[plot_training])\n",
    "\n",
    "# create a lstm instance and validation monitor\n",
    "validation_monitor = learn.monitors.ValidationMonitor(X['val'], y['val'],\n",
    "                                                     every_n_steps=PRINT_STEPS,\n",
    "                                                     early_stopping_rounds=1000)\n",
    "#print(X['train'])\n",
    "#print(y['train'])"
   ]
  },
  {
   "cell_type": "markdown",
   "metadata": {},
   "source": [
    "### 5. 학습 수행\n",
    "\n",
    "fit 함수를 이용한 학습을 수행합니다. batch_size는 한번에 학습시킬 (또는 몇개의 데이터를 학습해서 파라메터를 업데이트할 것인지) 데이터 크기를 의미하며, steps는 batch를 몇개까지 학습에 사용할 것인지를 정의합니다.\n",
    "\n",
    "> `#` of steps in 1 epoch = (# of training data) / (batch size)\n",
    "\n",
    "학습이 진행되는 동안 loss 값이 어떻게 변하는지 관찰해보세요."
   ]
  },
  {
   "cell_type": "code",
   "execution_count": 7,
   "metadata": {},
   "outputs": [
    {
     "name": "stdout",
     "output_type": "stream",
     "text": [
      "WARNING:tensorflow:From /usr/local/lib/python3.5/dist-packages/tensorflow/contrib/learn/python/learn/models.py:107: mean_squared_error_regressor (from tensorflow.contrib.learn.python.learn.ops.losses_ops) is deprecated and will be removed after 2016-12-01.\n",
      "Instructions for updating:\n",
      "Use `tf.contrib.losses.mean_squared_error` and explicit logits computation.\n",
      "WARNING:tensorflow:From /usr/local/lib/python3.5/dist-packages/tensorflow/contrib/learn/python/learn/ops/losses_ops.py:39: mean_squared_error (from tensorflow.contrib.losses.python.losses.loss_ops) is deprecated and will be removed after 2016-12-30.\n",
      "Instructions for updating:\n",
      "Use tf.losses.mean_squared_error instead.\n",
      "WARNING:tensorflow:From /usr/local/lib/python3.5/dist-packages/tensorflow/contrib/losses/python/losses/loss_ops.py:539: compute_weighted_loss (from tensorflow.contrib.losses.python.losses.loss_ops) is deprecated and will be removed after 2016-12-30.\n",
      "Instructions for updating:\n",
      "Use tf.losses.compute_weighted_loss instead.\n",
      "WARNING:tensorflow:From /usr/local/lib/python3.5/dist-packages/tensorflow/contrib/losses/python/losses/loss_ops.py:151: add_arg_scope.<locals>.func_with_args (from tensorflow.contrib.framework.python.ops.arg_scope) is deprecated and will be removed after 2016-12-30.\n",
      "Instructions for updating:\n",
      "Use tf.losses.add_loss instead.\n",
      "INFO:tensorflow:Create CheckpointSaverHook.\n",
      "INFO:tensorflow:Saving checkpoints for 1 into ./ops_logs/sin/model.ckpt.\n",
      "INFO:tensorflow:step = 1, loss = 0.727565\n",
      "WARNING:tensorflow:From /usr/local/lib/python3.5/dist-packages/tensorflow/contrib/learn/python/learn/monitors.py:653: calling BaseEstimator.evaluate (from tensorflow.contrib.learn.python.learn.estimators.estimator) with y is deprecated and will be removed after 2016-12-01.\n",
      "Instructions for updating:\n",
      "Estimator is decoupled from Scikit Learn interface by moving into\n",
      "separate class SKCompat. Arguments x, y and batch_size are only\n",
      "available in the SKCompat class, Estimator will only accept input_fn.\n",
      "Example conversion:\n",
      "  est = Estimator(...) -> est = SKCompat(Estimator(...))\n",
      "WARNING:tensorflow:From /usr/local/lib/python3.5/dist-packages/tensorflow/contrib/learn/python/learn/monitors.py:653: calling BaseEstimator.evaluate (from tensorflow.contrib.learn.python.learn.estimators.estimator) with x is deprecated and will be removed after 2016-12-01.\n",
      "Instructions for updating:\n",
      "Estimator is decoupled from Scikit Learn interface by moving into\n",
      "separate class SKCompat. Arguments x, y and batch_size are only\n",
      "available in the SKCompat class, Estimator will only accept input_fn.\n",
      "Example conversion:\n",
      "  est = Estimator(...) -> est = SKCompat(Estimator(...))\n",
      "WARNING:tensorflow:From /usr/local/lib/python3.5/dist-packages/tensorflow/contrib/learn/python/learn/models.py:107: mean_squared_error_regressor (from tensorflow.contrib.learn.python.learn.ops.losses_ops) is deprecated and will be removed after 2016-12-01.\n",
      "Instructions for updating:\n",
      "Use `tf.contrib.losses.mean_squared_error` and explicit logits computation.\n",
      "WARNING:tensorflow:From /usr/local/lib/python3.5/dist-packages/tensorflow/contrib/learn/python/learn/ops/losses_ops.py:39: mean_squared_error (from tensorflow.contrib.losses.python.losses.loss_ops) is deprecated and will be removed after 2016-12-30.\n",
      "Instructions for updating:\n",
      "Use tf.losses.mean_squared_error instead.\n",
      "WARNING:tensorflow:From /usr/local/lib/python3.5/dist-packages/tensorflow/contrib/losses/python/losses/loss_ops.py:539: compute_weighted_loss (from tensorflow.contrib.losses.python.losses.loss_ops) is deprecated and will be removed after 2016-12-30.\n",
      "Instructions for updating:\n",
      "Use tf.losses.compute_weighted_loss instead.\n",
      "WARNING:tensorflow:From /usr/local/lib/python3.5/dist-packages/tensorflow/contrib/losses/python/losses/loss_ops.py:151: add_arg_scope.<locals>.func_with_args (from tensorflow.contrib.framework.python.ops.arg_scope) is deprecated and will be removed after 2016-12-30.\n",
      "Instructions for updating:\n",
      "Use tf.losses.add_loss instead.\n",
      "INFO:tensorflow:Starting evaluation at 2017-08-27-02:50:17\n",
      "INFO:tensorflow:Restoring parameters from ./ops_logs/sin/model.ckpt-1\n",
      "INFO:tensorflow:Finished evaluation at 2017-08-27-02:50:18\n",
      "INFO:tensorflow:Saving dict for global step 1: global_step = 1, loss = 0.402897\n",
      "INFO:tensorflow:Validation (step 1): loss = 0.402897, global_step = 1\n",
      "INFO:tensorflow:Saving checkpoints for 10 into ./ops_logs/sin/model.ckpt.\n",
      "INFO:tensorflow:Loss for final step: 0.00892158.\n"
     ]
    },
    {
     "data": {
      "text/plain": [
       "SKCompat()"
      ]
     },
     "execution_count": 7,
     "metadata": {},
     "output_type": "execute_result"
    }
   ],
   "source": [
    "regressor.fit(X['train'], y['train'], \n",
    "              monitors=[validation_monitor], \n",
    "              batch_size=BATCH_SIZE,\n",
    "              steps=TRAINING_STEPS)"
   ]
  },
  {
   "cell_type": "markdown",
   "metadata": {},
   "source": [
    "### 6. 모델에 대한 검증 수행\n",
    "\n",
    "predict() 함수를 이용해서 이전에 학습된 모델을 검증합니다. 실제값과 예측값의 Mean Squared Error 값을 계산해봅니다."
   ]
  },
  {
   "cell_type": "code",
   "execution_count": 8,
   "metadata": {},
   "outputs": [
    {
     "name": "stdout",
     "output_type": "stream",
     "text": [
      "WARNING:tensorflow:From /usr/local/lib/python3.5/dist-packages/tensorflow/contrib/learn/python/learn/models.py:107: mean_squared_error_regressor (from tensorflow.contrib.learn.python.learn.ops.losses_ops) is deprecated and will be removed after 2016-12-01.\n",
      "Instructions for updating:\n",
      "Use `tf.contrib.losses.mean_squared_error` and explicit logits computation.\n",
      "WARNING:tensorflow:From /usr/local/lib/python3.5/dist-packages/tensorflow/contrib/learn/python/learn/ops/losses_ops.py:39: mean_squared_error (from tensorflow.contrib.losses.python.losses.loss_ops) is deprecated and will be removed after 2016-12-30.\n",
      "Instructions for updating:\n",
      "Use tf.losses.mean_squared_error instead.\n",
      "WARNING:tensorflow:From /usr/local/lib/python3.5/dist-packages/tensorflow/contrib/losses/python/losses/loss_ops.py:539: compute_weighted_loss (from tensorflow.contrib.losses.python.losses.loss_ops) is deprecated and will be removed after 2016-12-30.\n",
      "Instructions for updating:\n",
      "Use tf.losses.compute_weighted_loss instead.\n",
      "WARNING:tensorflow:From /usr/local/lib/python3.5/dist-packages/tensorflow/contrib/losses/python/losses/loss_ops.py:151: add_arg_scope.<locals>.func_with_args (from tensorflow.contrib.framework.python.ops.arg_scope) is deprecated and will be removed after 2016-12-30.\n",
      "Instructions for updating:\n",
      "Use tf.losses.add_loss instead.\n",
      "INFO:tensorflow:Restoring parameters from ./ops_logs/sin/model.ckpt-10\n",
      "MSE: 0.010666\n"
     ]
    }
   ],
   "source": [
    "predicted = regressor.predict(X['test'])\n",
    "rmse = np.sqrt(((predicted - y['test']) ** 2).mean(axis=0))\n",
    "score = mean_squared_error(predicted, y['test'])\n",
    "print (\"MSE: %f\" % score)"
   ]
  },
  {
   "cell_type": "code",
   "execution_count": 9,
   "metadata": {},
   "outputs": [
    {
     "data": {
      "text/plain": [
       "<matplotlib.legend.Legend at 0x7fdec7a91198>"
      ]
     },
     "execution_count": 9,
     "metadata": {},
     "output_type": "execute_result"
    },
    {
     "data": {
      "image/png": "[encoded data removed]",
      "text/plain": [
       "<matplotlib.figure.Figure at 0x7fdeca60ae10>"
      ]
     },
     "metadata": {},
     "output_type": "display_data"
    }
   ],
   "source": [
    "plot_predicted, = plt.plot(predicted, label='predicted')\n",
    "plot_test, = plt.plot(y['test'], label='test')\n",
    "plt.legend(handles=[plot_predicted, plot_test])"
   ]
  },
  {
   "cell_type": "markdown",
   "metadata": {},
   "source": [
    "> <font color='red'>문제</font>\n",
    "아래 명령을 수행해서 ops_logs/sin 디렉토리의 내용을 모두 삭제하고, TRAINING_STEPS 값을 변경해서 모델의 성능을 높여보세요."
   ]
  },
  {
   "cell_type": "code",
   "execution_count": null,
   "metadata": {
    "collapsed": true
   },
   "outputs": [],
   "source": [
    "!ls ops_logs/sin\n",
    "!rm -rf ops_logs/sin"
   ]
  }
 ],
 "metadata": {
  "kernelspec": {
   "display_name": "Python 3",
   "language": "python",
   "name": "python3"
  },
  "language_info": {
   "codemirror_mode": {
    "name": "ipython",
    "version": 3
   },
   "file_extension": ".py",
   "mimetype": "text/x-python",
   "name": "python",
   "nbconvert_exporter": "python",
   "pygments_lexer": "ipython3",
   "version": "3.5.2"
  }
 },
 "nbformat": 4,
 "nbformat_minor": 1
}
