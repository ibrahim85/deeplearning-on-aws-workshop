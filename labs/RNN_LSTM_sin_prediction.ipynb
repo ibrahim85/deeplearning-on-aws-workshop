{
 "cells": [
  {
   "cell_type": "markdown",
   "metadata": {
    "deletable": true,
    "editable": true
   },
   "source": [
    "# Recurrent Neural Network 실습 \n",
    "\n",
    "## LSTM을 이용한 SIN 함수 예측하기\n",
    "\n",
    "이번 실습은 RNN 네트워크인 LSTM을 이용한 sin 함수 또는 cos 함수와 같은 연속된 값을 예측하는 regression 모델을 구현해봅니다. 이 실습에 사용하는 코드는 https://github.com/mouradmourafiq/tensorflow-lstm-regression 를 기반으로 구성되었습니다.\n",
    "\n",
    "* 참고: http://mourafiq.com/2016/05/15/predicting-sequences-using-rnn-in-tensorflow.html"
   ]
  },
  {
   "cell_type": "markdown",
   "metadata": {
    "deletable": true,
    "editable": true
   },
   "source": [
    "### 1. 필요한 라이브러리  import\n",
    "\n",
    "* numpy\n",
    "* [pandas](http://pandas.pydata.org/about.html): 고성능 data structure 및 데이터 분석 패키지\n",
    "* tensorflow\n",
    "* [matplotlib](https://matplotlib.org): Python 2D plotting 라이브러리\n",
    "* [sklearn](http://scikit-learn.org/stable/): python machine learning 라이브러리\n",
    "\n",
    "\n",
    "* [lstm.py](./lstm.py): LSTM 네트워크 구현\n",
    "* data_processing: 학습, 검증 데이터 생성"
   ]
  },
  {
   "cell_type": "code",
   "execution_count": null,
   "metadata": {
    "collapsed": false,
    "deletable": true,
    "editable": true
   },
   "outputs": [],
   "source": [
    "%matplotlib inline\n",
    "import numpy as np\n",
    "import pandas as pd\n",
    "import tensorflow as tf\n",
    "from matplotlib import pyplot as plt\n",
    "\n",
    "from tensorflow.contrib import learn\n",
    "from sklearn.metrics import mean_squared_error\n",
    "\n",
    "from lstm import lstm_model\n",
    "from data_processing import generate_data"
   ]
  },
  {
   "cell_type": "markdown",
   "metadata": {
    "deletable": true,
    "editable": true
   },
   "source": [
    "### 2. Model에 대한 hyperparameter 정의\n",
    "\n",
    "* TIMESTEPS:\n",
    "* RNN_LAYERS:\n",
    "* DENSE_LAYERS:\n",
    "* TRAINING_STEPS:\n",
    "* BATCH_SIZE:"
   ]
  },
  {
   "cell_type": "code",
   "execution_count": null,
   "metadata": {
    "collapsed": false,
    "deletable": true,
    "editable": true
   },
   "outputs": [],
   "source": [
    "LOG_DIR = './ops_logs/sin'\n",
    "TIMESTEPS = 3\n",
    "RNN_LAYERS = [{'num_units': 5}]\n",
    "DENSE_LAYERS = None\n",
    "TRAINING_STEPS = 10 #10000\n",
    "PRINT_STEPS = TRAINING_STEPS / 10\n",
    "BATCH_SIZE = 100\n",
    "\n",
    "print(tf.__version__)"
   ]
  },
  {
   "cell_type": "markdown",
   "metadata": {
    "deletable": true,
    "editable": true
   },
   "source": [
    "### 3. LSTM 네트워크 정의\n",
    "\n",
    "Hyperparameter를 이용해서 LSTM 네트워크를 정의합니다."
   ]
  },
  {
   "cell_type": "code",
   "execution_count": null,
   "metadata": {
    "collapsed": false,
    "deletable": true,
    "editable": true
   },
   "outputs": [],
   "source": [
    "regressor = learn.SKCompat(learn.Estimator(\n",
    "    model_fn=lstm_model(\n",
    "        TIMESTEPS,\n",
    "        RNN_LAYERS,\n",
    "        DENSE_LAYERS\n",
    "    ),\n",
    "    model_dir=LOG_DIR\n",
    "))"
   ]
  },
  {
   "cell_type": "markdown",
   "metadata": {
    "deletable": true,
    "editable": true
   },
   "source": [
    "### 4. 학습 데이터 생성\n",
    "\n",
    "* generate_data: sin 함수를 이용한 학습 데이터를 생성합니다.\n",
    "* learn.monitors.ValidationMonitor를 이용해서, 학습이 진행되는 동안 test 데이터로 모델의 성능을 검증합니다. every_n_steps은 몇번의 step 마다 검증을 수행할지를 정의합니다."
   ]
  },
  {
   "cell_type": "code",
   "execution_count": null,
   "metadata": {
    "collapsed": false,
    "deletable": true,
    "editable": true
   },
   "outputs": [],
   "source": [
    "X, y = generate_data(np.sin, np.linspace(0, 100, 10000, dtype=np.float32), TIMESTEPS, seperate=False)\n",
    "plot_training, = plt.plot(y['train'][:2000], label='training')\n",
    "plt.legend(handles=[plot_training])\n",
    "\n",
    "# create a lstm instance and validation monitor\n",
    "validation_monitor = learn.monitors.ValidationMonitor(X['val'], y['val'],\n",
    "                                                     every_n_steps=PRINT_STEPS,\n",
    "                                                     early_stopping_rounds=1000)\n",
    "#print(X['train'])\n",
    "#print(y['train'])"
   ]
  },
  {
   "cell_type": "markdown",
   "metadata": {
    "deletable": true,
    "editable": true
   },
   "source": [
    "### 5. 학습 수행\n",
    "\n",
    "fit 함수를 이용한 학습을 수행합니다. batch_size는 한번에 학습시킬 (또는 몇개의 데이터를 학습해서 파라메터를 업데이트할 것인지) 데이터 크기를 의미하며, steps는 batch를 몇개까지 학습에 사용할 것인지를 정의합니다.\n",
    "\n",
    "> `#` of steps in 1 epoch = (# of training data) / (batch size)\n",
    "\n",
    "학습이 진행되는 동안 loss 값이 어떻게 변하는지 관찰해보세요."
   ]
  },
  {
   "cell_type": "code",
   "execution_count": null,
   "metadata": {
    "collapsed": true,
    "deletable": true,
    "editable": true
   },
   "outputs": [],
   "source": [
    "regressor.fit(X['train'], y['train'], \n",
    "              monitors=[validation_monitor], \n",
    "              batch_size=BATCH_SIZE,\n",
    "              steps=TRAINING_STEPS)"
   ]
  },
  {
   "cell_type": "markdown",
   "metadata": {
    "deletable": true,
    "editable": true
   },
   "source": [
    "### 6. 모델에 대한 검증 수행\n",
    "\n",
    "predict() 함수를 이용해서 이전에 학습된 모델을 검증합니다. 실제값과 예측값의 Mean Squared Error 값을 계산해봅니다."
   ]
  },
  {
   "cell_type": "code",
   "execution_count": null,
   "metadata": {
    "collapsed": true,
    "deletable": true,
    "editable": true
   },
   "outputs": [],
   "source": [
    "predicted = regressor.predict(X['test'])\n",
    "rmse = np.sqrt(((predicted - y['test']) ** 2).mean(axis=0))\n",
    "score = mean_squared_error(predicted, y['test'])\n",
    "print (\"MSE: %f\" % score)"
   ]
  },
  {
   "cell_type": "code",
   "execution_count": null,
   "metadata": {
    "collapsed": true,
    "deletable": true,
    "editable": true
   },
   "outputs": [],
   "source": [
    "plot_predicted, = plt.plot(predicted, label='predicted')\n",
    "plot_test, = plt.plot(y['test'], label='test')\n",
    "plt.legend(handles=[plot_predicted, plot_test])"
   ]
  },
  {
   "cell_type": "markdown",
   "metadata": {
    "deletable": true,
    "editable": true
   },
   "source": [
    "> <font color='red'>문제</font>\n",
    "아래 명령을 수행해서 ops_logs/sin 디렉토리의 내용을 모두 삭제하고, TRAINING_STEPS 값을 변경해서 모델의 성능을 높여보세요."
   ]
  },
  {
   "cell_type": "code",
   "execution_count": null,
   "metadata": {
    "collapsed": true,
    "deletable": true,
    "editable": true
   },
   "outputs": [],
   "source": [
    "!ls ops_logs/sin\n",
    "!rm -rf ops_logs/sin"
   ]
  }
 ],
 "metadata": {
  "kernelspec": {
   "display_name": "Python 3",
   "language": "python",
   "name": "python3"
  },
  "language_info": {
   "codemirror_mode": {
    "name": "ipython",
    "version": 3
   },
   "file_extension": ".py",
   "mimetype": "text/x-python",
   "name": "python",
   "nbconvert_exporter": "python",
   "pygments_lexer": "ipython3",
   "version": "3.6.1"
  }
 },
 "nbformat": 4,
 "nbformat_minor": 1
}
